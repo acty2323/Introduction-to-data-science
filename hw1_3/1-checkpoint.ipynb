{
 "cells": [
  {
   "cell_type": "code",
   "execution_count": 7,
   "metadata": {},
   "outputs": [
    {
     "data": {
      "text/plain": [
       "<Figure size 432x288 with 0 Axes>"
      ]
     },
     "metadata": {},
     "output_type": "display_data"
    }
   ],
   "source": [
    "import matplotlib.pyplot as plt\n",
    "import random\n",
    "lines=[]\n",
    "with open(\"C:/Users/USER/Downloads/cdata.csv\",\"r\") as file:\n",
    "    r=file.readline()\n",
    "    for line in file:\n",
    "        lines.append(line.split(\",\"))\n",
    "size=10\n",
    "color=['peru','burlywood','bisque','sandybrown']\n",
    "name=['A','B','C','D']\n",
    "x,y=[],[]\n",
    "plt.figure()\n",
    "for i in range(len(lines)):\n",
    "    x+=[float(lines[i][0])]\n",
    "    y+=[float(lines[i][1])]"
   ]
  },
  {
   "cell_type": "code",
   "execution_count": 8,
   "metadata": {},
   "outputs": [],
   "source": [
    "import pandas as pd\n",
    "df = pd.read_csv('C:/Users/USER/Downloads/cdata.csv')"
   ]
  },
  {
   "cell_type": "code",
   "execution_count": 9,
   "metadata": {},
   "outputs": [],
   "source": [
    "def distance(x,y,xc,yc):\n",
    "    dis=((x-xc)**2+(y-yc)**2)**(1/2)\n",
    "    return round(dis,6)"
   ]
  },
  {
   "cell_type": "code",
   "execution_count": 10,
   "metadata": {},
   "outputs": [],
   "source": [
    "def k_means(k):\n",
    "    center=[]\n",
    "    for i in range(k):\n",
    "        xc=random.choice(x)\n",
    "        yc=y[x.index(xc)]\n",
    "        center.append((xc,yc))\n",
    "    while True:\n",
    "        center1=[]\n",
    "        for i in range(len(x)):\n",
    "            d=[]\n",
    "            for ii in range(k):\n",
    "                r=distance(x[i],y[i],center[ii][0],center[ii][1])\n",
    "                d+=[r]\n",
    "            col=int(d.index(min(d)))\n",
    "            df.iloc[i]={'x':x[i],'y':y[i],'cluster':col}\n",
    "        for i in range(k):\n",
    "            mask=df['cluster']==i\n",
    "            xc=round(df[mask]['x'].mean(),4)\n",
    "            yc=round(df[mask]['y'].mean(),4)\n",
    "            center1+=[(xc,yc)]\n",
    "        if center==center1:\n",
    "            break\n",
    "        else:\n",
    "            center=center1\n",
    "            continue\n",
    "    return center,df"
   ]
  },
  {
   "cell_type": "markdown",
   "metadata": {},
   "source": [
    "## 1"
   ]
  },
  {
   "cell_type": "code",
   "execution_count": 1,
   "metadata": {},
   "outputs": [
    {
     "ename": "NameError",
     "evalue": "name 'random' is not defined",
     "output_type": "error",
     "traceback": [
      "\u001b[1;31m---------------------------------------------------------------------------\u001b[0m",
      "\u001b[1;31mNameError\u001b[0m                                 Traceback (most recent call last)",
      "\u001b[1;32m<ipython-input-1-ee1c4def9fe8>\u001b[0m in \u001b[0;36m<module>\u001b[1;34m\u001b[0m\n\u001b[0;32m      2\u001b[0m \u001b[0mcenter\u001b[0m\u001b[1;33m=\u001b[0m\u001b[1;33m[\u001b[0m\u001b[1;33m]\u001b[0m\u001b[1;33m\u001b[0m\u001b[0m\n\u001b[0;32m      3\u001b[0m \u001b[1;32mfor\u001b[0m \u001b[0mi\u001b[0m \u001b[1;32min\u001b[0m \u001b[0mrange\u001b[0m\u001b[1;33m(\u001b[0m\u001b[0mk\u001b[0m\u001b[1;33m)\u001b[0m\u001b[1;33m:\u001b[0m\u001b[1;33m\u001b[0m\u001b[0m\n\u001b[1;32m----> 4\u001b[1;33m     \u001b[0mxc\u001b[0m\u001b[1;33m=\u001b[0m\u001b[0mrandom\u001b[0m\u001b[1;33m.\u001b[0m\u001b[0mchoice\u001b[0m\u001b[1;33m(\u001b[0m\u001b[0mx\u001b[0m\u001b[1;33m)\u001b[0m\u001b[1;33m\u001b[0m\u001b[0m\n\u001b[0m\u001b[0;32m      5\u001b[0m     \u001b[0myc\u001b[0m\u001b[1;33m=\u001b[0m\u001b[0my\u001b[0m\u001b[1;33m[\u001b[0m\u001b[0mx\u001b[0m\u001b[1;33m.\u001b[0m\u001b[0mindex\u001b[0m\u001b[1;33m(\u001b[0m\u001b[0mxc\u001b[0m\u001b[1;33m)\u001b[0m\u001b[1;33m]\u001b[0m\u001b[1;33m\u001b[0m\u001b[0m\n\u001b[0;32m      6\u001b[0m     \u001b[0mcenter\u001b[0m\u001b[1;33m.\u001b[0m\u001b[0mappend\u001b[0m\u001b[1;33m(\u001b[0m\u001b[1;33m(\u001b[0m\u001b[0mxc\u001b[0m\u001b[1;33m,\u001b[0m\u001b[0myc\u001b[0m\u001b[1;33m)\u001b[0m\u001b[1;33m)\u001b[0m\u001b[1;33m\u001b[0m\u001b[0m\n",
      "\u001b[1;31mNameError\u001b[0m: name 'random' is not defined"
     ]
    }
   ],
   "source": [
    "k=4\n",
    "center=[]\n",
    "for i in range(k):\n",
    "    xc=random.choice(x)\n",
    "    yc=y[x.index(xc)]\n",
    "    center.append((xc,yc))\n",
    "while True:\n",
    "    plt.figure()\n",
    "    center1=[]\n",
    "    for i in range(len(x)):\n",
    "        d=[]\n",
    "        for ii in range(k):\n",
    "            r=distance(x[i],y[i],center[ii][0],center[ii][1])\n",
    "            d+=[r]\n",
    "        col=int(d.index(min(d)))\n",
    "        df.iloc[i]={'x':x[i],'y':y[i],'cluster':col}\n",
    "    for i in range(k):\n",
    "        mask=df['cluster']==i\n",
    "        plt.scatter(df[mask]['x'],df[mask]['y'],s=size,c=color[i],label=name[i])\n",
    "        plt.legend()\n",
    "        xc=round(df[mask]['x'].mean(),4)\n",
    "        yc=round(df[mask]['y'].mean(),4)\n",
    "        center1+=[(xc,yc)]\n",
    "        plt.scatter(center1[i][0],center1[i][1],marker='x',c='black',s=100)\n",
    "    if center==center1:\n",
    "        break\n",
    "    else:\n",
    "        center=center1\n",
    "        continue"
   ]
  },
  {
   "cell_type": "markdown",
   "metadata": {},
   "source": [
    "# 2"
   ]
  },
  {
   "cell_type": "code",
   "execution_count": 12,
   "metadata": {
    "scrolled": true
   },
   "outputs": [
    {
     "data": {
      "text/plain": [
       "[112.89433926999997]"
      ]
     },
     "execution_count": 12,
     "metadata": {},
     "output_type": "execute_result"
    }
   ],
   "source": [
    "def ssee(a,b):\n",
    "    sse=[]\n",
    "    for k in range(a,b+1):\n",
    "        result=k_means(k)\n",
    "        center,df=result[0],result[1]\n",
    "        one=[]\n",
    "        for i in range(k):\n",
    "            mask=df['cluster']==i\n",
    "            df['square']=(df[mask]['x']-center[i][0])**2+(df[mask]['y']-center[i][1])**2\n",
    "            one+=[df['square'].sum()]\n",
    "        sse+=[sum(one)]\n",
    "    return sse"
   ]
  },
  {
   "cell_type": "code",
   "execution_count": 15,
   "metadata": {},
   "outputs": [
    {
     "name": "stdout",
     "output_type": "stream",
     "text": [
      "[1190.7810073099993, 546.89134624, 212.00641181999998, 188.83034824999996, 170.17649111, 158.83256616999995, 156.06719360999995, 130.10886383999997, 126.71884882]\n"
     ]
    },
    {
     "data": {
      "text/plain": [
       "[<matplotlib.lines.Line2D at 0x1126b70>]"
      ]
     },
     "execution_count": 15,
     "metadata": {},
     "output_type": "execute_result"
    },
    {
     "data": {
      "image/png": "[encoded data removed]",
      "text/plain": [
       "<Figure size 432x288 with 1 Axes>"
      ]
     },
     "metadata": {
      "needs_background": "light"
     },
     "output_type": "display_data"
    }
   ],
   "source": [
    "y_=ssee(2,10)\n",
    "print(y_)\n",
    "x_=range(2,len(y_)+2)\n",
    "plt.xlabel('Number of k')\n",
    "plt.ylabel('Sum of square error')\n",
    "plt.plot(x_,y_,'')"
   ]
  },
  {
   "cell_type": "markdown",
   "metadata": {},
   "source": [
    "# 3"
   ]
  },
  {
   "cell_type": "code",
   "execution_count": 18,
   "metadata": {},
   "outputs": [
    {
     "data": {
      "text/plain": [
       "<BarContainer object of 10 artists>"
      ]
     },
     "execution_count": 18,
     "metadata": {},
     "output_type": "execute_result"
    },
    {
     "data": {
      "image/png": "[encoded data removed]",
      "text/plain": [
       "<Figure size 432x288 with 1 Axes>"
      ]
     },
     "metadata": {
      "needs_background": "light"
     },
     "output_type": "display_data"
    }
   ],
   "source": [
    "xx,yy=[],[]\n",
    "for ind in range(10):\n",
    "    yy+=ssee(10,10)\n",
    "    xx+=[ind]\n",
    "plt.xlabel('Fixed k=10')\n",
    "plt.ylabel('Sum of square error')\n",
    "plt.title('Result of ten times randomly pick the initial points')\n",
    "plt.ylim(100,200)\n",
    "plt.bar(xx,yy)"
   ]
  },
  {
   "cell_type": "code",
   "execution_count": null,
   "metadata": {},
   "outputs": [],
   "source": [
    "xx,yy"
   ]
  },
  {
   "cell_type": "code",
   "execution_count": 2,
   "metadata": {},
   "outputs": [],
   "source": [
    "import tensorflow as tf"
   ]
  }
 ],
 "metadata": {
  "kernelspec": {
   "display_name": "Python 3",
   "language": "python",
   "name": "python3"
  },
  "language_info": {
   "codemirror_mode": {
    "name": "ipython",
    "version": 3
   },
   "file_extension": ".py",
   "mimetype": "text/x-python",
   "name": "python",
   "nbconvert_exporter": "python",
   "pygments_lexer": "ipython3",
   "version": "3.7.3"
  },
  "toc": {
   "base_numbering": 1,
   "nav_menu": {},
   "number_sections": true,
   "sideBar": true,
   "skip_h1_title": false,
   "title_cell": "Table of Contents",
   "title_sidebar": "Contents",
   "toc_cell": false,
   "toc_position": {},
   "toc_section_display": true,
   "toc_window_display": false
  }
 },
 "nbformat": 4,
 "nbformat_minor": 2
}
