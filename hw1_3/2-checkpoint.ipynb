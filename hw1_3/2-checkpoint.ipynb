{
 "cells": [
  {
   "cell_type": "code",
   "execution_count": 2,
   "metadata": {},
   "outputs": [
    {
     "data": {
      "text/plain": [
       "<matplotlib.collections.PathCollection at 0xb539a30>"
      ]
     },
     "execution_count": 2,
     "metadata": {},
     "output_type": "execute_result"
    },
    {
     "data": {
      "image/png": "[encoded data removed]",
      "text/plain": [
       "<Figure size 432x288 with 1 Axes>"
      ]
     },
     "metadata": {
      "needs_background": "light"
     },
     "output_type": "display_data"
    }
   ],
   "source": [
    "import matplotlib.pyplot as plt\n",
    "import random\n",
    "import numpy as np\n",
    "lines=[]\n",
    "with open(\"C:/Users/USER/Downloads/cdata.csv\",\"r\") as file:\n",
    "    r=file.readline()\n",
    "    for line in file:\n",
    "        lines.append(line.split(\",\"))\n",
    "size=10\n",
    "dic={\"0\":\"red\",\"1\":'blue',\"2\":'pink','3':'yellow'}\n",
    "x,y=[],[]\n",
    "plt.figure()\n",
    "for i in range(len(lines)):\n",
    "    x+=[float(lines[i][0])]\n",
    "    y+=[float(lines[i][1])]\n",
    "plt.scatter(x,y,s=size)"
   ]
  },
  {
   "cell_type": "code",
   "execution_count": 3,
   "metadata": {},
   "outputs": [],
   "source": [
    "def distance(x,y,xc,yc):\n",
    "    dis=((x-xc)**2+(y-yc)**2)**(1/2)\n",
    "    return round(dis,6)"
   ]
  },
  {
   "cell_type": "code",
   "execution_count": 4,
   "metadata": {},
   "outputs": [
    {
     "data": {
      "text/plain": [
       "<matplotlib.collections.PathCollection at 0xb5862d0>"
      ]
     },
     "execution_count": 4,
     "metadata": {},
     "output_type": "execute_result"
    },
    {
     "data": {
      "image/png": "[encoded data removed]",
      "text/plain": [
       "<Figure size 432x288 with 1 Axes>"
      ]
     },
     "metadata": {
      "needs_background": "light"
     },
     "output_type": "display_data"
    }
   ],
   "source": [
    "i=random.choice(x)\n",
    "blue_xc=i\n",
    "blue_yc=y[x.index(i)]\n",
    "plt.scatter(blue_xc,blue_yc,s=100,marker='X',c='black')\n",
    "ii=random.choice(x)\n",
    "red_xc=ii\n",
    "red_yc=y[x.index(ii)]\n",
    "plt.scatter(red_xc,red_yc,s=100,marker='X',c='black')\n",
    "iii=random.choice(x)\n",
    "pink_xc=iii\n",
    "pink_yc=y[x.index(iii)]\n",
    "plt.scatter(pink_xc,pink_yc,s=100,marker='X',c='black')\n",
    "iiii=random.choice(x)\n",
    "yellow_xc=iiii\n",
    "yellow_yc=y[x.index(iiii)]\n",
    "plt.scatter(yellow_xc,yellow_yc,s=100,marker='X',c='black')"
   ]
  },
  {
   "cell_type": "code",
   "execution_count": 5,
   "metadata": {},
   "outputs": [
    {
     "ename": "SyntaxError",
     "evalue": "EOF while scanning triple-quoted string literal (<ipython-input-5-57c8baa6a09e>, line 12)",
     "output_type": "error",
     "traceback": [
      "\u001b[1;36m  File \u001b[1;32m\"<ipython-input-5-57c8baa6a09e>\"\u001b[1;36m, line \u001b[1;32m12\u001b[0m\n\u001b[1;33m    plt.scatter(yellow_xc,yellow_yc,s=100,marker='X',c='black')\u001b[0m\n\u001b[1;37m                                                               \n^\u001b[0m\n\u001b[1;31mSyntaxError\u001b[0m\u001b[1;31m:\u001b[0m EOF while scanning triple-quoted string literal\n"
     ]
    }
   ],
   "source": []
  },
  {
   "cell_type": "code",
   "execution_count": 8,
   "metadata": {
    "scrolled": false
   },
   "outputs": [
    {
     "data": {
      "image/png": "[encoded data removed]",
      "text/plain": [
       "<Figure size 432x288 with 1 Axes>"
      ]
     },
     "metadata": {
      "needs_background": "light"
     },
     "output_type": "display_data"
    }
   ],
   "source": [
    "blue_x,blue_y,red_x,red_y,pink_x,pink_y,yellow_x,yellow_y=[],[],[],[],[],[],[],[]\n",
    "t=True\n",
    "while t:\n",
    "    blue_xx,blue_yy,red_xx,red_yy,pink_xx,pink_yy,yellow_xx,yellow_yy=[],[],[],[],[],[],[],[]\n",
    "    for i in range(len(x)):\n",
    "        b=distance(x[i],y[i],blue_xc,blue_yc)\n",
    "        r=distance(x[i],y[i],red_xc,red_yc)\n",
    "        p=distance(x[i],y[i],pink_xc,pink_yc)\n",
    "        ye=distance(x[i],y[i],yellow_xc,yellow_yc)\n",
    "        result=min(b,r,p,ye)\n",
    "        if result==b:\n",
    "            blue_xx+=[x[i]]\n",
    "            blue_yy+=[y[i]]\n",
    "            plt.scatter(x[i],y[i],s=size,c='blue')\n",
    "        elif result==r:\n",
    "            red_xx+=[x[i]]\n",
    "            red_yy+=[y[i]]\n",
    "            plt.scatter(x[i],y[i],s=size,c='red')\n",
    "        elif result==p:\n",
    "            pink_xx+=[x[i]]\n",
    "            pink_yy+=[y[i]]\n",
    "            plt.scatter(x[i],y[i],s=size,c='pink')\n",
    "        elif result==ye:\n",
    "            yellow_xx=[x[i]]\n",
    "            yellow_yy=[y[i]]\n",
    "            plt.scatter(x[i],y[i],s=size,c='yellow')\n",
    "    if (blue_x!=blue_xx) or (red_x!=red_xx) or (pink_x!=pink_xx) or (yellow_x!=yellow_xx):\n",
    "        blue_x=blue_xx\n",
    "        blue_y=blue_yy\n",
    "        red_x=red_xx\n",
    "        red_y=red_yy\n",
    "        pink_x=pink_xx\n",
    "        pink_y=pink_yy\n",
    "        yellow_x=yellow_xx\n",
    "        yellow_y=yellow_yy\n",
    "        blue_xc=round(sum(blue_x)/len(blue_x),6)\n",
    "        blue_yc=round(sum(blue_y)/len(blue_y),6)\n",
    "        red_xc=round(sum(red_x)/len(red_x),6)\n",
    "        red_yc=round(sum(red_y)/len(red_y),6)\n",
    "        pink_xc=round(sum(pink_x)/len(pink_x),6)\n",
    "        pink_yc=round(sum(pink_y)/len(pink_y),6)\n",
    "        yellow_xc=round(sum(yellow_x)/len(yellow_x),6)\n",
    "        yellow_yc=round(sum(yellow_y)/len(yellow_y),6)\n",
    "        continue\n",
    "    else:\n",
    "        t=False\n",
    "plt.scatter(blue_xc,blue_yc,s=100,marker='X',c='black')\n",
    "plt.scatter(red_xc,red_yc,s=100,marker='X',c='black')\n",
    "plt.scatter(pink_xc,pink_yc,s=100,marker='X',c='black')\n",
    "plt.scatter(yellow_xc,yellow_yc,s=100,marker='X',c='black')\n",
    "plt.show()"
   ]
  },
  {
   "cell_type": "code",
   "execution_count": null,
   "metadata": {},
   "outputs": [],
   "source": []
  }
 ],
 "metadata": {
  "kernelspec": {
   "display_name": "Python 3",
   "language": "python",
   "name": "python3"
  },
  "language_info": {
   "codemirror_mode": {
    "name": "ipython",
    "version": 3
   },
   "file_extension": ".py",
   "mimetype": "text/x-python",
   "name": "python",
   "nbconvert_exporter": "python",
   "pygments_lexer": "ipython3",
   "version": "3.7.3"
  },
  "toc": {
   "base_numbering": 1,
   "nav_menu": {},
   "number_sections": true,
   "sideBar": true,
   "skip_h1_title": false,
   "title_cell": "Table of Contents",
   "title_sidebar": "Contents",
   "toc_cell": false,
   "toc_position": {},
   "toc_section_display": true,
   "toc_window_display": false
  }
 },
 "nbformat": 4,
 "nbformat_minor": 2
}
