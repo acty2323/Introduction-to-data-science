{
 "cells": [
  {
   "cell_type": "markdown",
   "metadata": {},
   "source": [
    "\n",
    "# 統計111 趙珮妤 H24071045\n",
    "# 統計111 李瑞庭 H24074035\n",
    "# 統計111 劉馨蔓 H24071281"
   ]
  },
  {
   "cell_type": "markdown",
   "metadata": {},
   "source": [
    "# 競賽敘述與目標\n",
    "## 分析TWITTER內的文字是否為0=hateful, 1=offensive, 2=clean"
   ]
  },
  {
   "cell_type": "markdown",
   "metadata": {},
   "source": [
    "# import"
   ]
  },
  {
   "cell_type": "code",
   "execution_count": 1,
   "metadata": {},
   "outputs": [],
   "source": [
    "import pandas as pd\n",
    "from sklearn.feature_extraction.text import TfidfVectorizer,CountVectorizer\n",
    "from sklearn.model_selection import train_test_split\n",
    "from sklearn.metrics import classification_report as cr\n",
    "from sklearn.naive_bayes import BernoulliNB,GaussianNB,MultinomialNB\n",
    "from sklearn.model_selection import GridSearchCV,KFold,validation_curve\n",
    "from sklearn.feature_selection import SelectFromModel\n",
    "from sklearn.linear_model import LogisticRegression\n",
    "from sklearn.ensemble import RandomForestClassifier\n",
    "from sklearn.neighbors import KNeighborsClassifier\n",
    "from sklearn.neural_network import MLPClassifier,MLPRegressor\n",
    "from sklearn.ensemble import BaggingClassifier,AdaBoostClassifier\n",
    "import matplotlib.pyplot as plt"
   ]
  },
  {
   "cell_type": "markdown",
   "metadata": {},
   "source": [
    "# 資料前處裡\n",
    "## 將不會影響判斷之字元拿除\n",
    "## 將每筆資料分別轉成LIST"
   ]
  },
  {
   "cell_type": "code",
   "execution_count": 2,
   "metadata": {},
   "outputs": [
    {
     "data": {
      "text/html": [
       "<div>\n",
       "<style scoped>\n",
       "    .dataframe tbody tr th:only-of-type {\n",
       "        vertical-align: middle;\n",
       "    }\n",
       "\n",
       "    .dataframe tbody tr th {\n",
       "        vertical-align: top;\n",
       "    }\n",
       "\n",
       "    .dataframe thead th {\n",
       "        text-align: right;\n",
       "    }\n",
       "</style>\n",
       "<table border=\"1\" class=\"dataframe\">\n",
       "  <thead>\n",
       "    <tr style=\"text-align: right;\">\n",
       "      <th></th>\n",
       "      <th>class</th>\n",
       "      <th>tweet</th>\n",
       "    </tr>\n",
       "  </thead>\n",
       "  <tbody>\n",
       "    <tr>\n",
       "      <th>0</th>\n",
       "      <td>1</td>\n",
       "      <td>[9-1-13] 2:50 pm \"son of a bitch ate my mac n ...</td>\n",
       "    </tr>\n",
       "    <tr>\n",
       "      <th>1</th>\n",
       "      <td>1</td>\n",
       "      <td>RT @BryceSerna: Don't be a pussy grab the boot...</td>\n",
       "    </tr>\n",
       "    <tr>\n",
       "      <th>2</th>\n",
       "      <td>2</td>\n",
       "      <td>RT @ClicquotSuave: bunch of rappers boutta flo...</td>\n",
       "    </tr>\n",
       "    <tr>\n",
       "      <th>3</th>\n",
       "      <td>2</td>\n",
       "      <td>@michigannews13 wow. Thats great language comi...</td>\n",
       "    </tr>\n",
       "    <tr>\n",
       "      <th>4</th>\n",
       "      <td>1</td>\n",
       "      <td>and this is why I'm single, I don't fuck with ...</td>\n",
       "    </tr>\n",
       "  </tbody>\n",
       "</table>\n",
       "</div>"
      ],
      "text/plain": [
       "   class                                              tweet\n",
       "0      1  [9-1-13] 2:50 pm \"son of a bitch ate my mac n ...\n",
       "1      1  RT @BryceSerna: Don't be a pussy grab the boot...\n",
       "2      2  RT @ClicquotSuave: bunch of rappers boutta flo...\n",
       "3      2  @michigannews13 wow. Thats great language comi...\n",
       "4      1  and this is why I'm single, I don't fuck with ..."
      ]
     },
     "execution_count": 2,
     "metadata": {},
     "output_type": "execute_result"
    }
   ],
   "source": [
    "df_train=pd.read_csv('train.csv')\n",
    "tweet_=df_train['tweet'].tolist()\n",
    "df_test=pd.read_csv('test.csv')\n",
    "tweet_test=df_test['tweet'].tolist()\n",
    "df_train.head()"
   ]
  },
  {
   "cell_type": "code",
   "execution_count": 3,
   "metadata": {},
   "outputs": [],
   "source": [
    "def arrange(tweet_):\n",
    "    for line in tweet_:\n",
    "        if \"\\n\" in line:\n",
    "            linee=list(line)\n",
    "            while \"\\n\" in linee:\n",
    "                linee.remove('\\n')\n",
    "            line=''.join(linee)\n",
    "        else:\n",
    "            continue\n",
    "    for t in range(len(tweet_)):\n",
    "        tt=list(tweet_[t])\n",
    "        while 'RT' in tweet_[t] :\n",
    "            tt.remove('R')\n",
    "            tt.remove('T')\n",
    "            tweet_[t]=''.join(tt)\n",
    "        tt=list(tweet_[t])\n",
    "        while '@' in tt:\n",
    "            a=tt.index('@')\n",
    "            if ':' in tt[a:]:\n",
    "                aa=tt[a:].index(':')+a\n",
    "                del tt[a:aa+1]\n",
    "            elif ' ' in tt[a:]:\n",
    "                aa=tt[a:].index(' ')+a\n",
    "                del tt[a:aa+1]\n",
    "            elif ' '  not in tt[a:]:\n",
    "                del tt[a:]\n",
    "        tweet_[t]=''.join(tt)\n",
    "        while '&#' in tweet_[t]:\n",
    "            tt=list(tweet_[t])\n",
    "            k=tt.index('&')\n",
    "            kk=tt[k:].index(';')+k\n",
    "            del tt[k:kk+1]\n",
    "            tweet_[t]=''.join(tt)\n",
    "        while 'http' in tweet_[t]:\n",
    "            tt=list(tweet_[t])\n",
    "            k=tweet_[t].index('http')\n",
    "            if ';' in tt[k:]:\n",
    "                kk=tt[k:].index(';')+k\n",
    "                del tt[k:k+1]\n",
    "            elif ' ' in tt[k:]:\n",
    "                kk=tt[k:].index(' ')+k\n",
    "                del tt[k:kk+1]\n",
    "            elif (';' and ' ') not in tt[k:]:\n",
    "                del tt[k:]\n",
    "            tweet_[t]=''.join(tt)\n",
    "        tweet_[t]=tweet_[t].strip(' ')\n",
    "    return tweet_"
   ]
  },
  {
   "cell_type": "code",
   "execution_count": 4,
   "metadata": {},
   "outputs": [
    {
     "data": {
      "text/plain": [
       "14869"
      ]
     },
     "execution_count": 4,
     "metadata": {},
     "output_type": "execute_result"
    }
   ],
   "source": [
    "tweet_=arrange(tweet_)\n",
    "tweet_test=arrange(tweet_test)\n",
    "# df_train['tweet']=tweet_\n",
    "# df_test['tweet']=tweet_test\n",
    "# df_train.head()\n",
    "len(tweet_)"
   ]
  },
  {
   "cell_type": "markdown",
   "metadata": {},
   "source": [
    "# 特徵處理與分析\n",
    "## 判斷字詞詞性\n",
    "## 將動詞三態還原成原形、判斷同義詞\n",
    "## 手動將無異議或無影響的詞存成LIST 並從訓練資料中移除stopword"
   ]
  },
  {
   "cell_type": "markdown",
   "metadata": {},
   "source": [
    "# Lemmatization "
   ]
  },
  {
   "cell_type": "code",
   "execution_count": 5,
   "metadata": {},
   "outputs": [
    {
     "name": "stderr",
     "output_type": "stream",
     "text": [
      "[nltk_data] Downloading package wordnet to\n",
      "[nltk_data]     C:\\Users\\xinma\\AppData\\Roaming\\nltk_data...\n",
      "[nltk_data]   Package wordnet is already up-to-date!\n",
      "[nltk_data] Downloading package averaged_perceptron_tagger to\n",
      "[nltk_data]     C:\\Users\\xinma\\AppData\\Roaming\\nltk_data...\n",
      "[nltk_data]   Package averaged_perceptron_tagger is already up-to-\n",
      "[nltk_data]       date!\n",
      "[nltk_data] Downloading package punkt to\n",
      "[nltk_data]     C:\\Users\\xinma\\AppData\\Roaming\\nltk_data...\n",
      "[nltk_data]   Package punkt is already up-to-date!\n",
      "[nltk_data] Error loading maxnet_treebank_pos_tagger: Package\n",
      "[nltk_data]     'maxnet_treebank_pos_tagger' not found in index\n"
     ]
    },
    {
     "data": {
      "text/plain": [
       "False"
      ]
     },
     "execution_count": 5,
     "metadata": {},
     "output_type": "execute_result"
    }
   ],
   "source": [
    "import nltk\n",
    "nltk.download('wordnet')\n",
    "nltk.download(\"averaged_perceptron_tagger\")\n",
    "nltk.download(\"punkt\")\n",
    "nltk.download(\"maxnet_treebank_pos_tagger\")"
   ]
  },
  {
   "cell_type": "code",
   "execution_count": 6,
   "metadata": {},
   "outputs": [],
   "source": [
    "from nltk.corpus import wordnet\n",
    "from nltk import word_tokenize, pos_tag\n",
    "from nltk.stem import WordNetLemmatizer\n",
    "\n",
    "def get_wordnet_pos(treebank_tag):\n",
    "    if treebank_tag.startswith('J'):\n",
    "        return wordnet.ADJ\n",
    "    elif treebank_tag.startswith('V'):\n",
    "        return wordnet.VERB\n",
    "    elif treebank_tag.startswith('N'):\n",
    "        return wordnet.NOUN\n",
    "    elif treebank_tag.startswith('R'):\n",
    "        return wordnet.ADV\n",
    "    else:\n",
    "        return None\n",
    "\n",
    "\n",
    "def lemmatize_sentence(sentence):\n",
    "    res = []\n",
    "    lemmatizer = WordNetLemmatizer()\n",
    "    for word, pos in pos_tag(word_tokenize(sentence)):\n",
    "        wordnet_pos = get_wordnet_pos(pos) or wordnet.NOUN\n",
    "        res.append(lemmatizer.lemmatize(word, pos=wordnet_pos))\n",
    "\n",
    "    return res"
   ]
  },
  {
   "cell_type": "code",
   "execution_count": 7,
   "metadata": {},
   "outputs": [],
   "source": [
    "tweet_l,tweet_ltest=[],[]\n",
    "for sentence in tweet_:\n",
    "    l=lemmatize_sentence(sentence)\n",
    "    ll=' '.join(l)\n",
    "    tweet_l.append(ll)\n",
    "for sentence in tweet_test:\n",
    "    l=lemmatize_sentence(sentence)\n",
    "    ll=' '.join(l)\n",
    "    tweet_ltest.append(ll)"
   ]
  },
  {
   "cell_type": "code",
   "execution_count": 8,
   "metadata": {},
   "outputs": [],
   "source": [
    "df_train['tweet']=tweet_l\n",
    "df_test['tweet']=tweet_ltest\n",
    "\n",
    "# df_train['tweet']=tweet_\n",
    "# df_test['tweet']=tweet_test\n",
    "\n",
    "X=df_train['tweet']\n",
    "y=df_train['class']\n",
    "xtest=df_test['tweet']"
   ]
  },
  {
   "cell_type": "code",
   "execution_count": 9,
   "metadata": {},
   "outputs": [
    {
     "name": "stdout",
     "output_type": "stream",
     "text": [
      "<class 'pandas.core.series.Series'>\n"
     ]
    }
   ],
   "source": [
    "X_train,X_test,y_train,y_test=train_test_split(X,y,test_size=0.25,random_state=123)\n",
    "print(type(y_train))\n",
    "# X_train"
   ]
  },
  {
   "cell_type": "code",
   "execution_count": 10,
   "metadata": {},
   "outputs": [],
   "source": [
    "stopword1=['00', '000', '003', '00pm', '0221', '05', '06', '06olvik6ld', '07', '08', '09', '0b0pz8j4cm', '0g1j8bibpl', '10',\n",
    "          '100', '1000', '100000', '1000x', '100k', '100s', '1069thearrow', '10am', '10m', '10mins', '10th', \n",
    "          '10thingsthatgetsonmynerves', '10x', '11', '113', '11pm', '11th', '12', '121', '126', '128', '12i', '12pck', '12th',\n",
    "          '13', '1300', '131', '131st', '13k', '13yr', '14', '140', '14th', '15', '150', '1503', '159', '15iziryymj', '15k',\n",
    "          '15m', '15minute', '16', '162', '17', '17k', '17th', '18', '180k', '19', '1914', '1928', '1932', '1945', '1954',\n",
    "          '1961', '1965', '1969', '1970', '1976', '1980', '1984', '1990', '1995', '1996', '1am', '1inkkofrosess', '1meniz4urw',\n",
    "          '1more', '1mvetmarch', '1ndiana', '1on1', '1oo', '1personidbitchslap', '1st', '1ubb', '1v1', '1x', '20', '200', '2000'\n",
    "          , '2001', '2008', '2010', '2011', '2012', '2013', '2013faves', '2013taughtme', '2014', '2015', '2064', '20k', '20mins'\n",
    "          , '20pics', '20s', '21', '21st', '22', '220', '225', '24', '240s', '24_rozay_idgt', '24hrs', '24lad', '24s', '25', \n",
    "          '250', '2500', '252', '26', '27', '279', '27andcounting', '27th', '28', '29', '290', '2am', '2day', '2for5', '2have',\n",
    "          '2hr', '2hyyabk4eh', '2k', '2k14', '2mw', '2nd', '2nite', '2pac', '2pofgc7ohc', '2prvskante', '2qjljj6tk5',\n",
    "          '2qysct5ink', '2ssss', '2x', '30', '300', '3000', '302', '30pm', '30s', '314254', '315', '32', '336', '33ft', '34', \n",
    "          '35', '357', '35am', '360', '365', '37', '38141', '39', '3abde', '3am', '3d', '3hrs', '3hsvtyoxff', '3k',\n",
    "          '3nkvbpr9qr', '3ocxpxlydt', '3peat', '3pm', '3rd', '3times', '3x', '3xinzjnm2u', '3xx', '40', '40s', '41apcwsmqn', \n",
    "          '43', '4370', '44', '45', '450', '47', '477', '48', '4ever', '4g', '4get', '4l', '4s', '4th', '4wasting', '4xkufnzc',\n",
    "          '50', '500', '5000', '506', '50centmovie', '50k', '50s', '52', '55', '58', '5am', '5eva', '5grand', '5jzh1bhwwk', \n",
    "          '5k', '5mil', '5sos', '5sosfamand1dfandomfollowparty', '5spmg', '5th', '5vegg6', '5x2', '5yr', '60', '600', '6000', \n",
    "          '60th', '61', '62', '622', '63', '630', '631k', '64', '65', '663399becca', '666', '67', '675', '6hcota', '6lrxiqsi8b',\n",
    "          '6months', '6pm', '6q5wm3vu', '6s', '6th', '70', '70k', '70s', '718', '72', '75', '76', '79', '7dsz3vcysz', \n",
    "          '7n5x9fyvip', '7s', '7th', '7xwop3y2', '80', '800', '81', '85', '86', '8616', '88', '89', '8pm', '8th', '8z0b7ocmqp', \n",
    "          '90', '90s', '91', '916', '92', '93', '934', '95', '97', '9773', '98', '99', '9am', '9bgr2766k8', '9c4i4w7q7d',\n",
    "          '9hifdczwqy', '9pm', '9th', '__', '___', '____', '_____', '________', '__________', '_____________', '_e',\n",
    "          '_sirhampton_', 'a1', 'aa', 'aahahah','01', '02', '0_0', '0nv9chtwos', '114', '120', '13hours', '13th', '147',\n",
    "          '155', '15a', '15mins', '15thingsilove', '161', '1776', '18k', '1983', '1999', '1d', '1oinieej9c', '2005', '200k'\n",
    "          , '2016', '217', '218', '23', '2accountsgate', '2escape', '2faces', '2fine4cheapwineso', '2million', '2parasites'\n",
    "          , '2yrs', '30k', '312', '313', '3136139299', '314', '362', '38', '3fp2pg85mb', '3fytvuznzb', '3gs', '3some', \n",
    "          '3yrs', '41fpnfeovb', '445', '4455', '4sabx0mcus', '5206', '53', '56', '5h', '5hrs', '5ths', '745', '74ulxaf',\n",
    "          '83', '8am', '8fk8lgxand', '94', '9931vyw9ff', '9ers', '9ukd8wtz6x', 'a3gf4iaps9', 'aaliyah', 'aanpsujmyi', 'aap'\n",
    "          , 'aaron', 'ab', 'abby', 'abc', 'abduction', 'abed', 'abel','aww','awwe', 'awwsome', 'awww', 'awwww', 'awwwww',\n",
    "          'awwwwwesomeeeeee', 'axe', 'axin', 'axm9pcw95t', 'ay', 'aye', 'ayeeee', 'ayeeeee', 'aymond', 'ayo', 'ayy', 'ayyy'\n",
    "          , 'ayyyeeee', 'ayyyyy', 'ayyyyyyeeeeee', 'az','azz', 'b245js', 'b4', 'ba', 'bab', 'babbbyyy', 'babe', 'babel', \n",
    "          'babes', 'babidi', 'babies', 'baboo', 'baby', 'babyjesus', 'bac', 'bacc', 'bachmann', 'back','butts', 'butttttt',\n",
    "          'buu', 'buut', 'buuut', 'buy', 'buyin', 'buying', 'buys', 'buzz', 'buzzzzz', 'bvb', 'bwahahahahahah', 'by', 'bye'\n",
    "          , 'byebitch', 'byee', 'byeeee', 'byeeeee', 'byes','byyyyyyrrrrrrrrrrrrr', 'c3vy1xuoha', 'c4', 'ca', 'cab','cvs',\n",
    "          'cvublngxkj', 'cw', 'cx', 'cyber', 'cycdbhbxkq', 'cycle', 'cyopcv8oq8', 'cypher', 'cyrus', 'czeo', 'da', \n",
    "          'daaaaaaaam', 'daaaamn', 'daaamn', 'daark','e250', 'e3hhznthrk', 'e4p56jkqcx', 'e60', 'e96cq8kkbo', 'ea', 'each',\n",
    "          'eachother', 'ead', 'eager','ezuqc2knyg', 'f1', 'f1tjl9xnct', 'f4', 'fa','g00n', 'g7yq2ch9uk','gzzrzjvvlv', \n",
    "          'h0ixjzh0tzlmaooo', 'h1ubsvbkgl', 'h300cwrj', 'h456d', 'ha', 'haahaa', 'haannnn', 'haar','i9txjsdozz', 'ian', \n",
    "          'ian1', 'ibnlkwuuns', 'ibs', 'ibukis', 'ibuprofen', 'ic', 'icanhashtaghoweveriwant','iw9wpg1sfy', \n",
    "          'iwantout', 'iwanttoplay', 'iwanttopunchpeoplewho', 'iwatch', 'iyanla', 'iycmi', 'iz', 'izgkpcqio0', 'izzy', \n",
    "          'j1pwlaercu', 'j3uf1tyubo', 'j4runfzrtx','k7myvflwfg','ky', 'kyle', 'kylie', 'kyrie', 'l7', 'l8v3', 'la', 'lab',\n",
    "          'm203s', 'ma', 'maaaaan', 'maaan','myy', 'n0gu5j7dqx', 'n9dmdtvwts', 'na', 'naa', 'naaaaa', 'naacp', \n",
    "          'naadectqak', 'naah', 'naam', 'nyy', 'nyyce', 'o6', 'o8jozokfei', 'oak', 'oakland', 'oakleaf', 'oath', \n",
    "          'oaybfejh54','p2', 'p72', 'pa','qaeda', 'qb', 'qbs', 'qdclxyjoct', 'qechhko42q', 'qjjvynwqio', 'qlomazph9a', \n",
    "          'qmuiepcljc', 'qquit', 'qs9xueu1va','qaeda', 'qb', 'qbs', 'qdclxyjoct', 'qechhko42q', 'qjjvynwqio', 'qlomazph9a',\n",
    "          'qmuiepcljc', 'qquit', 'qs9xueu1va','s2g', 's3', 's9gmtevpat', 'sa','sz13', 'sza', 'ta','va','w7tej28anr', 'wa',\n",
    "          'waaa', 'waaaaaa', 'waaaaannnnnt', 'waaaaay', 'waaaaittt', 'waaaay', 'waaay', 'waahh', 'waar', 'ww3', 'wwtdd', \n",
    "          'www', 'wya', 'wyandanch', 'wyd', 'wym', 'wyo', 'wyoming', 'wzymxoljnt', 'x02xmavequ', 'x2', 'x3', 'x___x', 'xx',\n",
    "          'xxx', 'xxxmas', 'ya', 'ya3ne', 'yaaa', 'yaaaaaaasss', 'yaaaasss', 'yaaaassss', 'yaaaasssss', 'yaaas', 'yaaasss',\n",
    "          'yaas','yuu', 'yuuuuuuuuuaaaaaaa', 'yyyyyeelllloooowwwwww', 'z2wko9ripz', 'zach', 'zack', 'zactly', 'zayn',\n",
    "          'zchbqxfa0g', 'zcnp1ljoow', 'zd3vctxgxh','abo', 'abou', 'abt', 'abu', 'abu', 'ac', 'aca', 'acab', 'acdc', 'acl', \n",
    "           'ado', 'advancedwarfaredayzero','ae', 'af', 'afc', 'afl', 'ag', 'aghh', 'ah', 'aha', 'ahaaaa', 'ahaaaaa', \n",
    "           'ahah', 'ahaha', 'ahahahaa', 'ahahahh', 'ahahahha', 'ahl', 'ahora', 'ahoy', 'ahs', 'aiko', 'ain', 'ainn',\n",
    "           'ainna', 'aint', 'aintnobread', 'aioifhxdmt', 'ajmi', 'ak', 'akes', 'aklve', 'alg', 'alledged', 'alleen',\n",
    "           'allllll', 'allllllll', 'als', 'amp', 'ams', 'anon', 'anorexic', 'ao', 'aoas', 'aob', 'aod', 'aone', 'ap',\n",
    "           'apache', 'apex', 'apka', 'attn', 'aw', 'azmonsoon', 'azrael', 'bai', 'banxxx', 'bb', 'bb16',  'bblu', 'bbm', \n",
    "           'bbn', 'bbq', 'bbqd', 'bby', 'bc', 'bcs', 'bcu', 'bdftuen6rm', 'bdubs', 'cap1', 'cg_bugatti', 'cgt4fkr2yx', \n",
    "           'ch', 'ch0xfvekz9', 'cha', 'chaber', 'chad', 'chael', 'chai', 'chan', 'chav', 'chava', 'chaves', 'chavez', \n",
    "           'che', 'cher', 'cho', 'cj', 'ck', 'ckbs6wczu1', 'cld', 'cle', 'cnn', 'cnt', 'co', 'cussdjesrk', 'dalmatian',\n",
    "           'dayum', 'dazs', 'dbco', 'dberto', 'dblbyvx0pl', 'dc', 'dcc', 'dcyoungfly', 'dd', 'dd214', 'de', 'dec', 'dem',\n",
    "           'dgaf', 'dhimmi', 'dhk7eu97dc', 'dhs', 'dhugga', 'di', 'diabetes', 'diabetic', 'diagram', 'dial', \n",
    "           'digvijaysingh', 'dijo', 'dijonay', 'dike', 'dikes', 'dildo', 'dilemma', 'dillard', 'dilly', 'dimaggio',\n",
    "           'dixie', 'dm', 'dmd', 'dmeqqfl8x1', 'dming', 'dms', 'dmv', 'dmx', 'dmxplroaj2', 'dna', 'dnd', 'dne', \n",
    "           'dnrcmkg5oo', 'dnt', 'do', 'dobetter', 'doe', 'doee', 'doinv', 'doj', 'dokzmu8i0f', 'dolo', 'dp', 'dre', \n",
    "           'dolla', 'dreigdwergen', 'drk5c0txtq', 'dro', 'ds', 'dslr', 'dtqgxjkjv7', 'ee', 'eecezjrx6c', 'eeeeeee',\n",
    "           'eeeen', 'eeek', 'eem', 'een', 'eerst', 'eet', 'eew', 'ef', 'eff', 'fe', 'ff', 'fgcu', 'fhc', 'fhgqf0rwbe', \n",
    "           'fi',  'foh', 'gbe', 'gc', 'gd', 'ge', 'grr', 'grrrr', 'grs', 'hhom4nxakd', 'hv', 'hw', 'hxfjwy3jab', 'ina',\n",
    "           'inb4', 'jfcthdedcz', 'jfk', 'jhene', 'jhud', 'jrs', 'js', 'jst', 'jsu', 'jt', 'jtunheimr', 'ju84cixp7z', \n",
    "           'juan', 'juco', 'judg', 'kamm', 'kf6pgzvh5g','kj', 'ldxnpohlyd', 'lmao', 'lmaoo', 'lmaooo', 'lmaoooo', \n",
    "           'lmaooooo', 'lmaoooooo', 'lmaooooooo', 'lmaoooooooo', 'lmaooooooooooo', 'lmaoooooooooooooooooooo', \n",
    "           'lmaoooooooooooooooooooooooooooo', 'lmaosjdusubejs', 'lmfaaoo', 'lmfao', 'lmfaoo', 'lmfaooo', 'lmfaoooo', \n",
    "           'lmfaooooo', 'lmfaoooooo', 'lmfaooooooo', 'lmfaoooooooo', 'lmfaooooooooo', 'lmfaoooooooooo', 'lmfaooooooooooo',\n",
    "           'lmfaoooooooooooo', 'lmfaoooooooooooooooo', 'lmfaoooooooooooooooooo', 'lml', 'lmmfaooooo', 'luubgl9y5u',\n",
    "           'luuuube','lvl', 'lx', 'lxjmbctgjj', 'mrrrrrrr', 'mr', 'mrmlxacoxx', 'mrtqx99g5l', 'mstseeet4r', 'msuwxc3tyx',\n",
    "           'ng0gywaehf', 'nh', 'nhl', 'nhl14', 'pfft', 'pffttt', 'pjnet', 'pl7qsas15b', 'pla', 'qyn1bc7mxs', 'r6uewfur8w', \n",
    "           'ra', 'raaa', 'rdqdymvkjt', 'rj', 'rko', 'rmp', 'rn', 'rney', 'rns', 'rnswait','nn4odizr8l', 'nnn', 'sfvsstl',\n",
    "           'sfx', 'sgb9ryvdmb', 'sgp', 'sgt', 'sh', 'tfeh', 'tfv1cztr', 'tgdn', 'tgere', 'tgif', 'tgqzqszji1', 'th', 'tha',\n",
    "           'tkm8l9ty', 'tl', 'tlc', 'tld', 'tlkn', 'tm', 'tmobile', 'tmt', 'tn', 'tna', 'tnd', 'tnszm31m9z', 'ts3', \n",
    "           'vth4r762', 'wshh', 'wtf', 'wth', 'wts6nm3egc', 'yute', 'ze', 'zpkimh9ftg', 'zqvgmlzqfe', 'zucchini', 'zulema',\n",
    "           'zulu', 'zvjroxgndq', 'zw8x7yrmi8', 'zzzquil', 'zzzzzz']\n"
   ]
  },
  {
   "cell_type": "code",
   "execution_count": 11,
   "metadata": {},
   "outputs": [
    {
     "name": "stdout",
     "output_type": "stream",
     "text": [
      "['aberdeen', 'ability', 'able', 'abort', 'abortion', 'abound', 'about', 'abouttime', 'above', 'abraham', 'abs', 'absent', 'absolute', 'absolutely', 'absoluteyvile', 'absolved', 'abstract', 'absurd', 'abus', 'abuse', 'abuser', 'abusive', 'academic', 'accent', 'accept', 'acceptable', 'acceptance', 'access', 'accident', 'accidentally', 'accipiter', 'accipitridae', 'accnt', 'accolade', 'accompany', 'accord', 'according', 'accordingly', 'account', 'accountants', 'accurate', 'accurately', 'accuse', 'accused', 'ace', 'aceptar', 'aceves', 'ache', 'achieve', 'acid', 'acis', 'acknowledge', 'acne', 'acoustic', 'acquire', 'acre', 'across', 'act', 'actin', 'acting', 'action', 'active', 'activist', 'activities', 'activity', 'actor', 'actress', 'actresses', 'actual', 'actuality', 'actually', 'ad', 'adam', 'adays', 'add', 'adderall', 'addict', 'addicted', 'addiction', 'addin', 'addition', 'additional', 'address', 'adept', 'adidas', 'adildo', 'adios', 'adjustment', 'administration', 'admins', 'admirable', 'admission', 'admit', 'adopt', 'adorable', 'adorbs', 'adressed', 'adrien', 'ads', 'adult', 'adultery', 'advance', 'advanced', 'advantage', 'adventure', 'adverising', 'advice', 'advise', 'aerin', 'aeropostale', 'aeros', 'aerosmith', 'affect', 'affection', 'affiliation', 'affleck', 'afford', 'afghanistan', 'afraid', 'africa', 'african', 'afrotino', 'afta', 'after', 'afterearth', 'afterexercising', 'afternoon', 'aftertaste', 'afterwards', 'again', 'against', 'age', 'agency', 'agenda', 'agent', 'aggravating', 'agholor', 'agitprop', 'agnes', 'ago', 'agree', 'agreement', 'agru', 'ahead', 'ahh', 'ahha', 'ahhh', 'ahhhahahaha', 'ahhhhh', 'ahsfreakshow', 'ai', 'aid', 'aide', 'aids', 'aight', 'aim', 'air', 'airbag', 'airline', 'airport', 'aka', 'al', 'ala', 'alabama', 'alabamian', 'aladdin', 'alanah', 'alarm', 'alaska', 'alberta', 'alberto', 'albino', 'album', 'albums', 'alchohol', 'alco', 'alcohol', 'alcoholic', 'alcoholism', 'alcs', 'alec', 'alert', 'alex', 'alexa', 'alexandra', 'alexfromtarget', 'alfie', 'alfredo', 'algebra', 'algeria', 'alias', 'alibaba', 'alice', 'alien', 'alike', 'alive', 'alkin', 'all', 'alla', 'allegedly', 'allegiance', 'allen', 'allergic', 'allergy', 'alley', 'allied', 'alligator', 'allisons', 'alll', 'allover', 'allow', 'allowed', 'allstar', 'allusion', 'ally', 'almeria', 'almighty', 'almond', 'almost', 'aloha', 'alone', 'along', 'alongside', 'alot', 'alotta', 'alpha', 'alphabet', 'already', 'alright', 'alsarabsss', 'alsina', 'also', 'alsonobeermoney', 'altar', 'althea', 'although', 'alu', 'alves', 'alway', 'always', 'alwaysonwatch', 'alyssa', 'alzheimer', 'am', 'amanda', 'amar', 'amaris', 'amarte', 'amateur', 'amaze', 'amazing', 'amber', 'ambition', 'ambitious', 'ambulance', 'amcoiny0wg', 'amediting', 'amen', 'amend', 'amendment', 'america', 'american', 'americanmasters', 'americans', 'amex', 'amigo', 'amina', 'amirite', 'ammendment', 'ammo', 'amnesty', 'amo', 'among', 'amos', 'amount', 'amped', 'amphibian', 'amsterdam', 'amuse', 'amusement', 'amusing', 'amwriting', 'amy', 'an', 'ana', 'anaconda', 'anacortes', 'anal', 'analysis', 'analyzing', 'ananconda', 'anand', 'anat', 'anaya', 'anbar', 'anchor', 'ancient', 'and', 'andfucked', 'andmouth', 'andnowihaveebola', 'andre', 'andrea', 'andrew', 'andrews', 'android', 'andy', 'ane', 'angel', 'angela', 'angelic', 'angelique', 'angelo', 'angelou', 'angels', 'anger', 'angle', 'anglo', 'angry', 'angus', 'animal', 'animate', 'anime', 'animosity', 'ankh', 'ankle', 'ankles', 'ann', 'anncoulter', 'anne', 'annie', 'anniversary', 'annnnd', 'annouced', 'announce', 'announcer', 'annoy', 'annoyance', 'annoying', 'annoyingand', 'annual', 'annually', 'anonymous', 'anotha', 'another', 'anoyin', 'answer', 'answerd', 'answering', 'answers', 'ant', 'anthem', 'anthony', 'anti', 'antisemite', 'antonio', 'antony', 'anxiety', 'any', 'anybody', 'anyhow', 'anymore', 'anyone', 'anything', 'anythingdo', 'anytime', 'anywaaaaaays', 'anyway', 'anyways', 'anywhere', 'apart', 'apartment', 'ape', 'apollo', 'apologize', 'apologizing', 'apology', 'apolonia', 'apolonio', 'apostate', 'app', 'apparel', 'apparently', 'appeal', 'appear', 'appearance', 'applaud', 'apple', 'applebees', 'apples', 'applewood', 'appliance', 'apply', 'appoint', 'appointee', 'appointment', 'appreciate', 'appreciated', 'appreciation', 'approach', 'appropriately', 'approve', 'approximate', 'approximately', 'apracecall', 'april', 'aps', 'aq', 'aqua', 'aquafina', 'aquarium', 'aquatic', 'arab', 'arabia', 'arabic', 'arabspring', 'arantulas', 'arc', 'are', 'area', 'aren', 'arent', 'argentino', 'argue', 'arguement', 'arguin', 'argument', 'argurment', 'ari', 'arial', 'ariana', 'aries', 'ariza', 'arizona', 'arlington', 'arm', 'armed', 'armisticeday', 'armo', 'armor', 'arms', 'army', 'arod', 'around', 'aroundddd', 'arrange', 'arrest', 'arrested', 'arrive', 'arrogant', 'arrow', 'arroz', 'arse', 'arsed', 'arsenal', 'arsne', 'art', 'arthur', 'artichoke', 'article', 'artist', 'artprize', 'arturo', 'as', 'asa', 'asada', 'asagiraffes', 'asains', 'asap', 'ascii', 'asco', 'asf', 'ash', 'asha', 'ashamed', 'ashit', 'ashley', 'ashy', 'asia', 'asian', 'asians', 'aside', 'asidebitchmadethis', 'asideslmao', 'asik', 'asinine', 'ask', 'askdems', 'aske', 'asked', 'askim5', 'askin', 'asking', 'asks', 'asl', 'asleep', 'asphalt', 'aspiration', 'ass', 'assassinate', 'assault', 'asscrow', 'asses', 'asshat', 'asshats', 'asshole', 'assholes', 'assign', 'assistance', 'assjury', 'assless', 'assness', 'assoc', 'associate', 'association', 'asssofathairsoreal', 'assume', 'assuming', 'assumption', 'assure', 'assyria', 'assyrian', 'asthma', 'astigmatisms', 'astrology', 'astros', 'asvab', 'asylum', 'at', 'atcha', 'atchet', 'atcq', 'ate', 'ateam', 'atf', 'atg', 'athea', 'atheist', 'athlete', 'athletic', 'atl', 'atlanta', 'atleast', 'atom', 'atomic', 'atop', 'atound', 'atrapaba', 'atrocities', 'attach', 'attack', 'attacked', 'attackoftitan', 'attacks', 'attainable', 'attempt', 'attempts', 'attend', 'attendance', 'attention', 'attest', 'attire', 'attitud', 'attitude', 'attorney', 'attract', 'attraction', 'attractive', 'attribute', 'atunga', 'aubrey', 'auburn', 'auburnnn', 'audacity', 'audience', 'audition', 'august', 'aunt', 'auramea', 'ausmus', 'austin', 'australia', 'authenticity', 'autistic', 'auto', 'autocorrect', 'autograph', 'autographed', 'automatically', 'autozone', 'auvqnogvdy', 'aux', 'av', 'available', 'avatar', 'ave', 'avengers', 'average', 'avg', 'avi', 'avibrator', 'avila', 'avoid', 'avoiding', 'awad', 'awake', 'awakening', 'award', 'awarde', 'aware', 'awareness', 'away', 'awe', 'awee', 'awesome', 'awesomeness', 'awful', 'awfully', 'awfy', 'awk', 'awkward', 'awnser', 'azaelia', 'azalea', 'azflooding', 'backbone', 'backdoor', 'background', 'backpack', 'backpage', 'backpagepussy', 'backs', 'backstabbing', 'backtrack', 'backup', 'backward', 'backwards', 'backwoods', 'backyard', 'bacon', 'bad', 'bada', 'badass', 'badcombinations', 'badddddd', 'badder', 'baddest', 'badge', 'badger', 'badges', 'badguy', 'badly', 'badmon', 'badongle', 'badonka', 'badonkadonks', 'bae', 'baes', 'baffle', 'bag', 'baghdad', 'bahaha', 'bail', 'bain', 'bainbridge', 'bainbridgians', 'bait', 'baiters', 'baiting', 'bake', 'baked', 'baker', 'baking', 'balance', 'balanced', 'balboa', 'balcony', 'bald', 'baldhead', 'baldheadass', 'baldheaded', 'baldly', 'baldwin', 'balham', 'balkamania', 'ball', 'balla', 'baller', 'balless', 'ballet', 'ballgame', 'ballin', 'balloon', 'balloons', 'ballot', 'ballroom', 'ballsack', 'balochistan', 'baltimore', 'bam', 'bama', 'bambino', 'bammy', 'ban', 'banana', 'band', 'bandana', 'bando', 'bandwagon', 'bandz', 'bang', 'bangbang', 'bangbangbirdgang', 'bangbros', 'banger', 'bangin', 'bangladesh', 'banjo', 'bank', 'bankhead', 'banking', 'bankroll', 'bankrupt', 'bankruptcy', 'banks', 'banner', 'bansal', 'banwagoning', 'bap', 'bar', 'barack', 'barb', 'barbara', 'barbarian', 'barber', 'barbershop', 'barbie', 'barbies', 'barcelona', 'bare', 'barefoot', 'barely', 'bargain', 'barge', 'bark', 'barkley', 'barn', 'barney', 'barnyard', 'barrass', 'barrel', 'barry', 'barrybonds', 'bars', 'bartender', 'bartending', 'barter', 'base', 'baseball', 'based', 'basedgod', 'basement', 'bash', 'basic', 'basically', 'basicbitches', 'basilisk', 'basis', 'baske', 'basketball', 'basketballwivesla', 'baskett', 'bass', 'bastard', 'bastards', 'bastino', 'bat', 'batch', 'bateman', 'bath', 'bathing', 'bathrobe', 'bathrobes', 'bathroom', 'bathtime', 'batman', 'baton', 'bats', 'batshit', 'batter', 'batting', 'battle', 'bauer', 'bautista', 'bay', 'bayou', 'bazinga', 'bbc', 'bbs', 'bday', 'be', 'beacg', 'beach', 'beahe', 'beak', 'beam', 'beamers', 'beamthat', 'bean', 'beaner', 'beanie', 'beaniesjust', 'beans', 'beany', 'bear', 'bearbrother', 'beard', 'bearfaced', 'bearing', 'bears', 'beast', 'beat', 'beatin', 'beatles', 'beats', 'beause', 'beautiful', 'beauty', 'beavis', 'because', 'becky', 'become', 'becoming', 'becuz', 'bed', 'bedrock', 'bedroom', 'bedtime', 'bee', 'beeeitch', 'beef', 'beefin', 'beefing', 'been', 'beenie', 'beening', 'beeotch', 'beep', 'beer', 'beerandtacos', 'bees', 'beethoven', 'befo', 'before', 'beforeiselfdestruct', 'beg', 'beggin', 'begging', 'begin', 'begrudgingly', 'behave', 'beheads', 'behi', 'behind', 'beiber', 'beibers', 'bein', 'being', 'bekuz', 'bel', 'belasco', 'belated', 'belgian', 'belichick', 'belieber', 'belief', 'beliefs', 'believe', 'believer', 'believethat', 'bell', 'bella', 'bellatwins', 'bellicheck', 'belly', 'bellybutton', 'belong', 'belongs', 'below', 'belt', 'ben', 'bench', 'bend', 'bendin', 'benefit', 'bengal', 'bengali', 'benghazi', 'benghazis', 'benghazzi', 'benihana', 'benny', 'bent', 'bentley', 'benton', 'benz', 'benzes', 'benzino', 'benzo', 'bepatient', 'berg', 'bergbrain', 'berlin', 'bermuda', 'bernstine', 'berto', 'besides', 'beslissing', 'bespectacle', 'best', 'bestf', 'bestfriend', 'besties', 'bestsongtohavesexto', 'bestthe', 'bet', 'betances', 'betawards', 'betcha', 'betdat', 'beter', 'beterschap', 'bethiphopawards', 'betray', 'betta', 'bette', 'better', 'betterlatethannever', 'betterthanamobster', 'betterthey', 'betty', 'between', 'beurs', 'beverley', 'beverly', 'bevo', 'bey', 'beyonc', 'beyonce', 'beyond', 'bf', 'bff', 'bffl', 'bg', 'bgc', 'bham', 'bhi', 'bho', 'bi', 'bi6fgp5vgo', 'bias', 'biatch', 'bib', 'bible', 'bic', 'bicep', 'biceps', 'bid', 'biden', 'bieber', 'biebs', 'big', 'big10', 'biggest', 'biggie', 'biggovernment', 'biggs', 'bighead', 'bigot', 'bigotry', 'bih', 'biiaaaatch', 'biiiiitch', 'bij', 'bike', 'biker', 'bikini', 'bilingual', 'bill', 'billion', 'billmaher', 'bills', 'billy', 'bin', 'bind', 'bint', 'bio', 'biological', 'biology', 'bios', 'biotch', 'bipolar', 'birbs', 'bird', 'birdcage', 'birdddd', 'birdie', 'birdmsn', 'birds', 'birffday', 'birkin', 'birth', 'birthd', 'birthday', 'birthdayyyy', 'biscuit', 'bishhh', 'bishop', 'bit', 'bitcccccch', 'bitch', 'bitchassness', 'bitchdamn', 'bitchen', 'bitches', 'bitchesbelike', 'bitchesdo', 'bitchezzz', 'bitchfonda', 'bitchgood', 'bitchheavy', 'bitchhhhhhh', 'bitchier', 'bitchin', 'bitching', 'bitchmaster', 'bitchnigga', 'bitchnun', 'bitchplease', 'bitchslapthursdays', 'bitchthis', 'bitchy', 'bite', 'bites', 'biting', 'bitten', 'bitter', 'bitterness', 'bittersweet', 'bitties', 'bitty', 'bity', 'bitzy', 'biz', 'bizarre', 'bizness', 'bk', 'bla', 'blac', 'blacc', 'black', 'blackish', 'blackout', 'bladder', 'blade', 'blah', 'blair', 'blakk', 'blame', 'bland', 'blank', 'blanke', 'blanket', 'blasio', 'blast', 'blatt', 'blaxican', 'blaze', 'ble', 'bleach', 'bleacher', 'bleaching', 'bleed', 'bleedgreen', 'bleedin', 'bleeding', 'bless', 'blessed', 'blessing', 'blessjesus', 'blessjesusair', 'blessjesuslove', 'blew', 'blind', 'blinding', 'blindness', 'blindside', 'bling', 'blink', 'blinker', 'blitz', 'blk', 'blndsundoll4mj', 'blnt', 'bloaty', 'blocced', 'block', 'blocked', 'blockhead', 'blocklist', 'bloempiet', 'blog', 'blonde', 'blondeproblems', 'blood', 'bloodboiling', 'blooded', 'bloodthickerthanwater', 'bloody', 'bloomberg', 'blow', 'blowin', 'blows', 'blowy', 'blubloods', 'blue', 'bluejays', 'bluffin', 'blunt', 'blunts', 'blushin', 'blvd', 'bm', 'bo', 'boa', 'boaaa', 'board', 'boast', 'boat', 'boats', 'bob', 'bobble', 'bobby', 'bobcostas', 'bod', 'boddies', 'body', 'boehner', 'bogus', 'boi', 'boil', 'boiling', 'bois', 'boit', 'boko', 'bokoo', 'bol', 'bola', 'bold', 'bolin', 'bollywood', 'bologna', 'bolton', 'bomb', 'bombass', 'bombed', 'bomber', 'bombing', 'bombs', 'bona', 'bond', 'bone', 'boner', 'boney', 'bong', 'bonner', 'bonus', 'bony', 'boo', 'boob', 'boobs', 'boof', 'boogawolf', 'boogie', 'book', 'bookgeek', 'bookie', 'booking', 'books', 'boolin', 'boom', 'boon', 'booner', 'boonies', 'boootyyyyy', 'boop', 'booshie', 'boosie', 'boost', 'boot', 'booth', 'bootleg', 'booty', 'bootyyyyyy', 'booyyyyyy', 'boozer', 'bop', 'bord', 'border', 'borderline', 'bore', 'bored', 'boring', 'boringgggg', 'born', 'borrow', 'bortleskombat', 'bos', 'bosh', 'bosjes', 'bosley', 'boss', 'bossd', 'bossy', 'boston', 'bot', 'botch', 'both', 'bother', 'bottle', 'bottom', 'bottoms', 'bought', 'bougie', 'bouldercrest', 'bounce', 'bouncer', 'bouncing', 'bound', 'boundary', 'boundires', 'bourne', 'bout', 'bouta', 'boutta', 'bow', 'bowbow', 'bowebergdahl', 'bowf', 'bowl', 'bowlegged', 'bowling', 'bows', 'bowyer', 'box', 'boxer', 'boxing', 'boy', 'boycott', 'boycottcriminalintent', 'boyfriend', 'boyfriends', 'boyfriendstruck', 'boys', 'boyswhotakepicsinsuits', 'boyy', 'boyyy', 'boyyyyy', 'boyyyyyy', 'boyz', 'boyzzzzzz', 'bp', 'bpg', 'bptrtxcel0', 'bra', 'brace', 'bracelet', 'bracken', 'brackin', 'brad', 'bradley', 'bradshaw', 'brady', 'brag', 'bragadayjah', 'bragging', 'brah', 'brahlls', 'braid', 'brain', 'brainer', 'brainwash', 'brake', 'brampton', 'bran', 'branch', 'brand', 'brandeis', 'brandon', 'brandy', 'brantly', 'brass', 'brat', 'bratty', 'brave', 'braves', 'bravschi', 'brawl', 'braxton', 'brazil', 'brazilian', 'brazzen', 'brb', 'bre', 'bread', 'breadstick', 'break', 'breaker', 'breakfast', 'breakherdown', 'breaking', 'breaking11', 'breakingbad', 'breakkkk', 'breast', 'breath', 'breathe', 'breathes', 'breathing', 'breed', 'breeding', 'breeze', 'breezy', 'breh', 'brendantevlin', 'brendon', 'brett', 'brewer', 'bri', 'briahna', 'brian', 'brick', 'brickk', 'bride', 'bridgewater', 'brie', 'brief', 'bright', 'brighten', 'brilliant', 'bring', 'bringin', 'bringing', 'brings', 'british', 'britney', 'brits', 'britt', 'brittany', 'brittish', 'bro', 'broad', 'broadcast', 'broccoli', 'broiled', 'broiler', 'brokanese', 'broke', 'brokeass', 'broken', 'brolic', 'bromance', 'bron', 'bronco', 'broner', 'bronertaylor', 'bronx', 'brony', 'brook', 'brooklyn', 'brooksndunn', 'broom', 'brooo', 'bros', 'broski', 'brotha', 'brothas', 'brother', 'brotherhood', 'brothers', 'brow', 'broward', 'brown', 'browngal', 'brownie', 'brownies', 'browniesi', 'browns', 'browns2014draft', 'brownshirt', 'brpd', 'brrr', 'bru', 'bruce', 'bruda', 'bruh', 'bruhh', 'bruhhh', 'bruhneither', 'bruins', 'bruinsfan', 'bruise', 'bruised', 'brunch', 'brunette', 'bruno', 'brush', 'brussels', 'brute', 'brutus', 'bruv', 'bryan', 'bryancranston', 'bryant', 'bs', 'bsd', 'bslfe', 'bt', 'btch', 'btchs', 'btw', 'bubba', 'bubbl', 'bubble', 'buck', 'buckcherry', 'bucket', 'bucketlist', 'buckets', 'bucketsproverbs', 'bucs', 'bud', 'budden', 'buddha', 'buddy', 'budget', 'buds', 'buff', 'bug', 'bugatti', 'bugattis', 'buggin', 'buggs', 'bugout', 'bugoutsss', 'buhlowin', 'bui', 'build', 'building', 'built', 'builtbyucf', 'buku', 'bulb', 'bulbous', 'bull', 'bulldoze', 'bullet', 'bullied', 'bullllllshiiiiitttt', 'bullpen', 'bulls', 'bullshit', 'bullshittin', 'bullstalk', 'bully', 'bullying', 'bum', 'bumble', 'bumblebee', 'bumgarner', 'bummy', 'bumoose', 'bump', 'bumpin', 'bumpkin', 'bums', 'bun', 'bunch', 'bundle', 'bung', 'bungie', 'bunk', 'bunny', 'burbs', 'burfict', 'burg', 'burger', 'burn', 'burnating', 'burner', 'burning', 'burnt', 'burrito', 'burritos', 'burton', 'bury', 'bus', 'busch', 'buschi', 'bush', 'bushco', 'business', 'businessopportunity', 'busk', 'buss', 'bussin', 'bussiness', 'bust', 'busted', 'buster', 'busterposey', 'bustin', 'busto', 'busy', 'but', 'butch', 'butchersapparently', 'buter', 'butler', 'butt', 'butter', 'butters', 'butthatsnoneofmybusiness', 'butthead', 'butthurt', 'buttock', 'button', 'bynes', 'bynum', 'bytch', 'bytches', 'byte', 'cabinet', 'cable', 'caboose', 'cactus', 'cadaver', 'caddilac', 'caddy', 'caddyshack', 'cadillac', 'caesar', 'cafeshaw', 'caffenate', 'cage', 'caged', 'cain', 'cair', 'caitlin', 'caitlyn', 'cake', 'cal', 'calamity', 'calculate', 'caldito', 'caleb', 'calendar', 'cali', 'california', 'californiadmv', 'call', 'called', 'callemlikeiseeem', 'callers', 'callin', 'calling', 'calliou', 'calls', 'calm', 'calorie', 'calories', 'cam', 'cambridge', 'cambron', 'came', 'camel', 'camels', 'camera', 'cameras', 'cameron', 'camo', 'camouflage', 'camp', 'campaign', 'campaignseason', 'campbell', 'campus', 'can', 'canada', 'canadian', 'canary', 'cancel', 'cancer', 'cand', 'candace', 'candidate', 'candle', 'candles', 'candy', 'candyass', 'canelo', 'cani', 'canker', 'cannibalism', 'cannoli', 'cannon', 'cano', 'canonically', 'cansada', 'cant', 'cantknockthahussle', 'cantlie', 'cantstanducunt', 'canttrustanyone', 'canucks', 'canyon', 'cap', 'capcom', 'cape', 'capital', 'capitalism', 'capitalize', 'capricorn', 'captain', 'captcha', 'caption', 'capture', 'captured', 'car', 'card', 'cardboard', 'cardigan', 'cardinal', 'cardinals', 'care', 'career', 'careful', 'carefully', 'careless', 'caress', 'carey', 'cargo', 'carl', 'carlton', 'carmel', 'carmen', 'carne', 'carnival', 'carny', 'carol', 'carolina', 'caroline', 'carpet', 'carpool', 'carroll', 'carrot', 'carrrr', 'carry', 'carryon', 'cars', 'cart', 'cartel', 'carter', 'cartier', 'carton', 'cartoon', 'carve', 'case', 'casey', 'cash', 'cashier', 'cashin', 'cashman', 'casino', 'casket', 'casper', 'casserole', 'cassidy', 'cast', 'castro', 'casual', 'casually', 'cat', 'catch', 'catcher', 'catchin', 'catching', 'catchmeifyoucan', 'category', 'cater', 'catfish', 'catfished', 'cathedral', 'catholic', 'cats', 'cattle', 'caucus', 'caught', 'cauley', 'cause', 'causung', 'caution', 'cave', 'caveman', 'cavs', 'cay', 'cayenne', 'cbs', 'cc', 'ccot', 'cd', 'cdc', 'cdfu', 'cdfuuu', 'cdfuuuu', 'ce', 'cease', 'cecil', 'cee', 'ceelo', 'ceiling', 'ceilings', 'celeb', 'celebrate', 'celebratin', 'celebrating', 'celebrities', 'celebrity', 'celebrityleakedphotos', 'celery', 'celestial', 'celibate', 'cell', 'cellar', 'cellphone', 'cellular', 'celtics', 'cement', 'cemetery', 'censor', 'censorship', 'census', 'cent', 'center', 'centeral', 'central', 'centreville', 'centuries', 'century', 'ceo', 'cept', 'ceramic', 'cereal', 'cersei', 'certain', 'certainlt', 'certainly', 'certificates', 'ceviche', 'chain', 'chainsaw', 'chainwax', 'chainz', 'chair', 'chalk', 'challange', 'challenge', 'challenger', 'chamber', 'chamberlain', 'champ', 'champagne', 'champaign', 'champion', 'chance', 'chancellery', 'chaney', 'change', 'changed', 'changethemascot', 'changethename', 'changin', 'channel', 'channing', 'chant', 'chantel', 'chanting', 'chaos', 'chap', 'chaplin', 'chappell', 'chappelle', 'chappellenadal', 'chappelleshow', 'chapter', 'char', 'chara', 'character', 'charcoal', 'charge', 'chargeon', 'charger', 'charity', 'charlemagne', 'charles', 'charlie', 'charlies', 'charlotte', 'chase', 'chaser', 'chasin', 'chasing', 'chat', 'chatt', 'chatter', 'cheap', 'cheaper', 'cheat', 'cheater', 'cheatin', 'cheating', 'checcin', 'check', 'checken', 'checkin', 'checkpoint', 'cheddar', 'cheek', 'cheeky', 'cheer', 'cheerio', 'cheerios', 'cheerlead', 'cheerleader', 'cheers', 'cheese', 'cheeseball', 'cheeseburger', 'cheesecake', 'cheesy', 'cheetah', 'cheeto', 'cheetos', 'cheez', 'chelsey', 'chemistry', 'cherry', 'chest', 'chested', 'chesterfield', 'chevron', 'chew', 'cheweing', 'chewy', 'chi', 'chic', 'chicago', 'chicagopolitics', 'chick', 'chicken', 'chicks', 'chief', 'chiefs', 'chihuahua', 'chik', 'child', 'childhood', 'childish', 'childrens', 'chile', 'chili', 'chill', 'chilli', 'chillin', 'chilling', 'chilly', 'chiminea', 'chin', 'china', 'chinatown', 'chinese', 'chink', 'chip', 'chipotle', 'chippah', 'chipped', 'chiquito', 'chiraq', 'chiricahua', 'chirp', 'chisme', 'chit', 'chitlings', 'chitlins', 'chive', 'chloe', 'choate', 'chocolate', 'choice', 'chojis', 'choke', 'choker', 'chokes', 'choking', 'cholas', 'chompers', 'chood', 'choose', 'choosin', 'choosing', 'chop', 'choppa', 'choppas', 'chopper', 'chose', 'chosen', 'chow', 'chowder', 'chp', 'chris', 'chrisbrown', 'chrisfromwalmart', 'christ', 'christian', 'christianbale', 'christianity', 'christians', 'christin', 'christine', 'christmas', 'christopher', 'christy', 'chrome', 'chromeasome', 'chruch', 'chu', 'chuassup', 'chubb', 'chubbies', 'chubby', 'chuck', 'chucker', 'chuckers', 'chug', 'chugs', 'chukka', 'chung', 'chunk', 'chunky', 'chupacabra', 'church', 'chuuu', 'chyna', 'ciara', 'cici', 'cigarette', 'cigars', 'cinco', 'cinegram', 'cinema', 'cinnamon', 'circle', 'circled', 'circulate', 'circumference', 'ciroc', 'cite', 'citi', 'citizen', 'citizenship', 'city', 'civic', 'civil', 'civilised', 'clack', 'claes', 'clai', 'claiborne', 'claim', 'claimin', 'clam', 'clan', 'clap', 'clappmeat', 'claps', 'clarenceville', 'clarify', 'clasico', 'class', 'classic', 'classically', 'classics', 'classiest', 'classless', 'classroom', 'classy', 'claw', 'cleadventures', 'clean', 'cleaner', 'cleanin', 'cleanup', 'clear', 'clearly', 'cleary', 'cleat', 'clegg', 'clerk', 'cleveland', 'clevelandbrowns', 'clevelandfans', 'clevelandpride', 'clevelandsports', 'clever', 'clicc', 'clichs', 'click', 'clicks', 'client', 'cliff', 'climate', 'climatechange', 'climb', 'clingers', 'clingy', 'clinic', 'clinton', 'clip', 'clipping', 'clips', 'clique', 'cliquot', 'clit', 'clock', 'clone', 'clorox', 'close', 'closed', 'closely', 'closer', 'closet', 'closeup', 'clothe', 'clothes', 'clothesthrow', 'clothing', 'cloud', 'clown', 'clowney', 'clownin', 'clowning', 'club', 'clubs', 'cluck', 'clue', 'clueless', 'clumsy', 'clutch', 'cluuuuub', 'clyburn', 'cmi', 'coach', 'coakley', 'coal', 'coast', 'coat', 'cobain', 'cobbler', 'coca', 'cocaine', 'coccus', 'cochineal', 'cock', 'cockbreath', 'cockeyed', 'cockiest', 'cockroaches', 'cocksucker', 'cocky', 'coco', 'coconut', 'cod', 'code', 'codeword', 'codine', 'cody', 'codyzeller', 'coexist', 'coffee', 'coherent', 'cohwer', 'coil', 'coin', 'coincidence', 'coke', 'col', 'cola', 'cold', 'colder', 'coldhearted', 'cole', 'coleslaw', 'collaborate', 'collabs', 'collage', 'collagen', 'collar', 'collect', 'collection', 'collectively', 'collector', 'college', 'collegefession', 'collegegameday', 'collegehoops', 'cologne', 'colon', 'colonialism', 'color', 'colorado', 'colored', 'colorful', 'colors', 'colour', 'colt', 'colts', 'columbian', 'columbine', 'columbus', 'com', 'comb', 'combed', 'combine', 'combining', 'combo', 'come', 'comeback', 'comebacktoreality', 'comedian', 'comedic', 'comedy', 'comeout', 'comeover', 'comet', 'comfortable', 'comfy', 'comic', 'comical', 'comin', 'coming', 'comma', 'commander', 'commandment', 'commando', 'commence', 'comment', 'commentators', 'commercial', 'commie', 'commission', 'commit', 'commitment', 'committ', 'committe', 'commments', 'common', 'commonquestioniget', 'commune', 'communicate', 'communication', 'communism', 'communist', 'community', 'company', 'compare', 'comparison', 'compassion', 'compassionate', 'compete', 'competition', 'competitive', 'complacent', 'complain', 'complaining', 'complains', 'complement', 'complete', 'completely', 'completes', 'completion', 'compliment', 'composure', 'compound', 'comprehend', 'comprehension', 'compromise', 'compton', 'computer', 'computerscience', 'computerworld', 'comrade', 'con', 'conan', 'concede', 'conceded', 'conceited', 'conceive', 'concentrate', 'concentration', 'concept', 'concern', 'concert', 'concession', 'conclusion', 'concourse', 'concrete', 'concussion', 'condemn', 'condescending', 'condiment', 'condition', 'condo', 'condom', 'cone', 'coney', 'conf', 'conference', 'confess', 'confession', 'confidence', 'confident', 'confirm', 'confirmation', 'conformation', 'confront', 'confrontation', 'confronts', 'confrused', 'confuse', 'confused', 'confusing', 'congestion', 'congies', 'congrats', 'congratulation', 'congratulations', 'congress', 'congressional', 'congressman', 'conjuring', 'connect', 'connection', 'connects', 'connor', 'conscious', 'consensus', 'consent', 'consequence', 'conservative', 'consider', 'consideration', 'consist', 'consistent', 'consistently', 'console', 'constant', 'constantly', 'constitution', 'constitutional', 'cont', 'contact', 'contagious', 'contain', 'contemplate', 'contempt', 'content', 'context', 'continually', 'continue', 'continues', 'contract', 'contrarian', 'contrary', 'contribute', 'control', 'controlled', 'controller', 'convenience', 'convenient', 'conversation', 'converse', 'convert', 'convict', 'convince', 'convinced', 'convo', 'convoy', 'coo', 'cooch', 'coochie', 'cooder', 'cook', 'cookie', 'cookies', 'cookin', 'cooking', 'cooky', 'cool', 'coolatta', 'coolcunts', 'cooler', 'coolest', 'coolie', 'coolin', 'coon', 'cooned', 'coons', 'coool', 'cooper', 'coors', 'cop', 'copacetic', 'cops', 'copy', 'corazon', 'cord', 'core', 'core4', 'corey', 'corn', 'cornball', 'cornbread', 'corner', 'cornrows', 'corny', 'coronas', 'corporate', 'correct', 'correction', 'correctional', 'correctly', 'correctlylmao', 'correctness', 'correspondent', 'corrupt', 'corruptamerica', 'cory', 'cosby', 'cosbymeme', 'cosplay', 'cost', 'costa', 'costume', 'cottages', 'cotto', 'cotton', 'cou', 'couch', 'cougar', 'cough', 'coughlin', 'could', 'coulda', 'couldntbehappier', 'couldve', 'coulter', 'count', 'counter', 'countertop', 'countin', 'country', 'countryass', 'county', 'coupe', 'couple', 'coupon', 'courage', 'course', 'court', 'courtesy', 'courts', 'cousin', 'cousins', 'cousintoucher', 'couuuuuch', 'cover', 'coverage', 'coverup', 'covington', 'cow', 'coward', 'cowboy', 'cowboys', 'cowboysnation', 'cowgirl', 'coworker', 'coworkers', 'cowx', 'cox', 'coz', 'cp88aa7pms', 'cpac', 'cpr', 'cpt', 'cpyo5yp005', 'crab', 'crabtree', 'crack', 'crackas', 'cracker', 'crackhead', 'crackheads', 'crackin', 'cradle', 'crafty', 'craig', 'craigslist', 'cramp', 'cranberry', 'crangrape', 'crank', 'cranny', 'crap', 'crash', 'crashed', 'crave', 'craving', 'crawfish', 'crawl', 'cray', 'crayon', 'craziest', 'crazy', 'crazyyy', 'crazzzy', 'crazzzyyyyyy', 'cream', 'creampie', 'creampied', 'creamteam', 'creamy', 'creanandcrimson', 'crearon', 'create', 'created', 'creating', 'creative', 'creativity', 'creator', 'creature', 'credential', 'credibility', 'credibilityshot', 'credit', 'creek', 'creep', 'creeping', 'creepy', 'cremes', 'crew', 'crewwww', 'crib', 'cricket', 'crime', 'criminal', 'cringe', 'crip', 'cripple', 'crisco', 'crisis', 'crisp', 'crispy', 'crissi', 'crist', 'crists', 'critical', 'criticise', 'critique', 'crochet', 'crook', 'crooked', 'crop', 'croquette', 'cross', 'crossbow', 'crossed', 'crosshairs', 'crow', 'crowd', 'crowded', 'crowing', 'crown', 'crows', 'crowther', 'crr', 'crucible', 'crucify', 'cruel', 'cruise', 'cruisin', 'cruising', 'crumb', 'crumble', 'crunch', 'crusader', 'crush', 'crust', 'crusty', 'crutch', 'cruz', 'cry', 'crybaby', 'cryin', 'crying', 'crystal', 'crystalline', 'csgo', 'csitaly', 'ct', 'ctfu', 'ctfuu', 'ctmwgweknl', 'cu', 'cub', 'cuba', 'cube', 'cucumber', 'cud', 'cuddle', 'cudi', 'cue', 'cuff', 'cuffin', 'cuffing', 'cuh', 'cuhz', 'cultist', 'cultural', 'culturally', 'culture', 'cum', 'cumin', 'cuming', 'cumming', 'cums', 'cunt', 'cunts', 'cup', 'cupcake', 'cupps', 'cur', 'curator', 'curb', 'cure', 'curfew', 'curiosity', 'curious', 'curl', 'curled', 'curls', 'curly', 'current', 'currently', 'currenttv', 'curriculum', 'curry', 'curse', 'curtain', 'curti', 'curve', 'curved', 'curvy', 'cus', 'cushite', 'cuss', 'cussing', 'cussss', 'custody', 'customer', 'customers', 'cut', 'cute', 'cutie', 'cutlers', 'cuts', 'cutter', 'cuttin', 'cuz', 'cuzzints', 'cuzzo', 'cville', 'dab', 'dacht', 'dad', 'dada', 'daddies', 'daddy', 'dadsbeingsilly', 'dafuq', 'daggone', 'dah', 'daily', 'dairy', 'dak', 'dakari', 'dakota', 'dallas', 'dallying', 'dam', 'damage', 'damara', 'dame', 'damian', 'damm', 'dammit', 'dammn', 'damn', 'damnear', 'dampen', 'dampness', 'dan', 'dana', 'dance', 'dancehall', 'dancerproblems', 'dandelion', 'daney', 'danger', 'dangerous', 'dangerously', 'dangle', 'dani', 'danica', 'daniel', 'danielle', 'daniels', 'dank', 'danny', 'dans', 'daps', 'dare', 'darf', 'darg', 'dari', 'darion', 'dark', 'darkie', 'darkies', 'darkness', 'darkskin', 'darkskinned', 'darling', 'darnell', 'darren', 'darth', 'daryl', 'das', 'dash', 'dashiki', 'dat', 'data', 'date', 'dates', 'dateslet', 'dating', 'dats', 'daughter', 'daughters', 'dave', 'david', 'davidian', 'davis', 'dawdle', 'dawg', 'dawggg', 'dawn', 'dawson', 'day', 'dayd', 'dayhe', 'days', 'dead', 'deadass', 'deadly', 'deaf', 'deafreaperventus', 'deal', 'dealer', 'dealership', 'dean', 'deandre', 'dear', 'dearfeministmen', 'dearfuturehusband', 'death', 'debacle', 'debarge', 'debate', 'debating', 'debbie', 'decaf', 'deceive', 'december', 'december8th', 'decent', 'decide', 'decides', 'decipher', 'decision', 'deck', 'declare', 'decline', 'decor', 'decrease', 'dedicate', 'dee', 'deeeez', 'deemef', 'deep', 'deeper', 'deer', 'deerin', 'deez', 'def', 'default', 'defeat', 'defeats', 'defecate', 'defend', 'defending', 'defenition', 'defense', 'defensive', 'defiance', 'defiantly', 'define', 'definitely', 'definition', 'deflect', 'deform', 'defunding', 'defy', 'degenerateartist', 'degrade', 'degrasse', 'degree', 'dehydrated', 'deigo', 'deion', 'dej', 'deja', 'dekalb', 'del', 'delete', 'deli', 'delicious', 'delillo', 'deliver', 'delivered', 'delivery', 'delta', 'deltas', 'deltron', 'delusional', 'deluxe', 'demand', 'demo', 'democracy', 'democrat', 'democratic', 'democrats', 'demographic', 'demolish', 'demon', 'dempster', 'dems', 'demz', 'den', 'denial', 'denkt', 'denna', 'denny', 'denote', 'densuaw', 'dental', 'dentist', 'denver', 'deny', 'denzel', 'denzie', 'denzy', 'deodorant', 'department', 'depaula', 'depend', 'dependence', 'dependent', 'depends', 'deport', 'depot', 'depp', 'deprecating', 'depreciation', 'depressed', 'depressing', 'depression', 'dept', 'depth', 'der', 'derail', 'derange', 'dere', 'derek', 'derekjeter', 'derrrrrrr', 'des', 'descend', 'describe', 'describes', 'description', 'dese', 'deserve', 'deses', 'deshawn', 'desi', 'design', 'designer', 'desire', 'desk', 'desperate', 'desperately', 'despise', 'despite', 'desrve', 'dessert', 'destiny', 'destroy', 'destroyed', 'destroying', 'detail', 'detailed', 'detective', 'determine', 'determined', 'detest', 'detonate', 'detroit', 'detroitgirls', 'detroitniccainatlantaproblems', 'deux', 'develop', 'development', 'deviancy', 'device', 'devil', 'devilish', 'devin', 'devote', 'dex', 'dexter', 'dey', 'dez', 'deztinis', 'df', 'diamond', 'diamondback', 'diana', 'diaper', 'diapers', 'diaphragm', 'diary', 'diaryofamadblackwoman', 'dicc', 'dice', 'dichter', 'dick', 'dicked', 'dickhead', 'dickin', 'dicking', 'dicklicker', 'dickmatized', 'dictionary', 'did', 'didnt', 'die', 'died', 'diego', 'diehard', 'dierngedrag', 'diesel', 'dieselstation', 'diet', 'dietschmiet', 'diettime', 'diff', 'difference', 'different', 'differentials', 'differentlevels', 'differently', 'difficult', 'dig', 'digestive', 'digger', 'diggin', 'digit', 'digital', 'digits', 'dime', 'dimensional', 'dimple', 'dine', 'ding', 'dinguling', 'dingy', 'dini', 'dink', 'dinner', 'dino', 'dip', 'diploma', 'diplomatic', 'dips', 'dipshit', 'direct', 'directioner', 'directioners', 'directly', 'director', 'directtv', 'directv', 'dirk', 'dirt', 'dirty', 'dirtymoney24', 'dirtyyyy', 'dis', 'disabled', 'disagree', 'disappear', 'disappoint', 'disaster', 'discipline', 'disco', 'disconnect', 'discontinue', 'discou', 'discount', 'discover', 'discriminate', 'discrimination', 'discuss', 'discussion', 'disease', 'disgrace', 'disgraced', 'disgraceful', 'disgu', 'disguise', 'disgust', 'disgusting', 'dish', 'dishin', 'disingenuous', 'dislike', 'dismembered', 'dismiss', 'disney', 'disown', 'disparagement', 'disparaging', 'disperse', 'display', 'disposed', 'disposition', 'disrespect', 'disrespected', 'disrespectful', 'disrupts', 'diss', 'dissin', 'distance', 'distant', 'distract', 'distribution', 'district', 'disturb', 'disturbing', 'dit', 'ditch', 'dive', 'diver', 'diverge', 'diversion', 'diversity', 'diving', 'division', 'divorce', 'divorced', 'diz', 'dizzy', 'dj', 'djgs6rgdfv', 'djmemphis10', 'djuvhsby84', 'dlc', 'doc', 'dock', 'docket', 'doctor', 'dodge', 'dodger', 'dodgers', 'dodging', 'dodo', 'does', 'doesnt', 'doet', 'dog', 'doggie', 'doggpound', 'doghouse', 'dogs', 'dogshit', 'doin', 'doing', 'doll', 'dollar', 'dollars', 'dollas', 'dollaz', 'dollywood', 'dolphins', 'dolt', 'dome', 'domestic', 'domin', 'dominate', 'dominic', 'dominican', 'dominion', 'dominique', 'domino', 'dominoes', 'dommer', 'doms', 'don', 'donald', 'donate', 'donatella', 'donation', 'done', 'dong', 'donkey', 'donnas', 'donno', 'donny', 'donnydinero', 'donovan', 'dont', 'dontneedanyone', 'dontouch', 'donts', 'donut', 'doo', 'doobie', 'doodle', 'doodoo', 'doods', 'doody', 'dooms', 'dooo', 'door', 'doors', 'doorstep', 'dope', 'dopeman', 'dora', 'dorian', 'dorky', 'dorsey', 'dose', 'dot', 'double', 'doublestandard', 'doubt', 'douche', 'douchebag', 'doug', 'dough', 'doughnut', 'dougie', 'douglas', 'dougnut', 'dove', 'down', 'downey', 'downfall', 'downie', 'download', 'downloaded', 'downnnn', 'downs', 'downspouts', 'downstairs', 'downtown', 'downward', 'doyourgoogles', 'dozen', 'dr', 'draft', 'draftexpress', 'drag', 'dragged', 'draggn', 'dragon', 'drain', 'drake', 'drakes', 'drama', 'dramatic', 'draw', 'drawer', 'drawing', 'draws', 'draya', 'drayamondays', 'drdolittle', 'dread', 'dreaded', 'dream', 'dreamed', 'dreaming', 'dreamon', 'dreams', 'dreamt', 'drek', 'dress', 'dresses', 'dressin', 'dressing', 'drew', 'dried', 'drier', 'drift', 'drill', 'drillin', 'drilling', 'drills', 'drink', 'drinkbreakwhen', 'drinker', 'drinkin', 'drinking', 'drip', 'drippen', 'drippin', 'drippn', 'drita', 'drive', 'driven', 'driver', 'driving', 'drizzown', 'drizzy', 'droids', 'drool', 'drop', 'dropped', 'droppin', 'dropping', 'drose', 'drown', 'drowning', 'drudge', 'drug', 'drugs', 'drugz', 'drugzzz', 'drum', 'drunk', 'drunken', 'drunkenly', 'drunkinlove', 'drunkkkk', 'drunks', 'drunktalk', 'dry', 'dryer', 'dub', 'duchess', 'duck', 'ducked', 'ducking', 'dude', 'dudes', 'due', 'duel', 'duff', 'duh', 'duhh', 'dui', 'duke', 'dull', 'dum', 'dumass', 'dumb', 'dumbass', 'dumber', 'dumbfuck', 'dumbi', 'dumbto', 'dumby', 'dummy', 'dump', 'dumped', 'dumps', 'dumpster', 'duncanville', 'dunce', 'dunk', 'dunleavy', 'duper', 'durag', 'duraghistoryweek', 'durant', 'durham', 'during', 'dust', 'dusty', 'dutch', 'duty', 'duunkk', 'duval', 'dvd', 'dvds', 'dvrtime', 'dwammm', 'dwarf', 'dweeb', 'dwig', 'dwight', 'dwn', 'dy', 'dyckman', 'dye', 'dying', 'dyke', 'dykes', 'dykey', 'dylan', 'dynamite', 'dyslexia', 'eagle', 'eagles', 'eaglesnation', 'eal', 'eandlksbpm', 'ear', 'earl', 'earlier', 'earlobe', 'early', 'earlybird', 'earn', 'earned', 'earring', 'earrings', 'ears', 'earth', 'ease', 'easier', 'easily', 'east', 'easter', 'easter420', 'eastern', 'easton', 'easy', 'eat', 'eaten', 'eater', 'eatin', 'eating', 'eatmytazer', 'eats', 'eatta', 'eattin', 'eatting', 'eazy', 'ebola', 'ebolian', 'ebony', 'ebt', 'eceipts', 'echo', 'eco', 'economy', 'ecosystem', 'ecstasy', 'ecuador', 'ed', 'eda', 'edclv', 'eddie', 'eddy', 'edgar', 'edge', 'edgewater', 'edgewood', 'edict', 'edit', 'edition', 'edm', 'eduardo', 'educate', 'education', 'edward', 'effect', 'effective', 'effort', 'efxqnxeewq', 'egg', 'eggo', 'eggplant', 'eggsareinherass', 'ego', 'egotistical', 'egregious', 'egypt', 'egyptian', 'egyptians', 'eh', 'ehh', 'ei', 'eiffel', 'eit', 'eitha', 'either', 'el', 'elan', 'elate', 'elbow', 'elder', 'eldman', 'eldorato', 'elect', 'election', 'election2014', 'electric', 'electricity', 'elegant', 'elegido', 'element', 'elementary', 'elephant', 'elevate', 'elevator', 'elf', 'eli', 'elicit', 'elijah', 'eliminate', 'elissa', 'elite', 'eliwallach', 'elixer', 'elizabeth', 'ell', 'ellie', 'eloquently', 'else', 'elves', 'elway', 'elza', 'em', 'emabiggestfans1d', 'email', 'emailing', 'emasculate', 'embarrass', 'embarrassment', 'embassy', 'embodiment', 'embrace', 'emd', 'emerald', 'emergen', 'emergency', 'emers', 'emily', 'eminem', 'emm', 'emma', 'emo', 'emoji', 'emojii', 'emojis', 'emotion', 'emotionaaaal', 'emotional', 'emotionally', 'employee', 'empower', 'empty', 'emu', 'en', 'encounter', 'encourage', 'encourages', 'encrust', 'end', 'endangered', 'endear', 'ended', 'endeth', 'endless', 'endlesslove', 'endorse', 'endure', 'enemy', 'energetic', 'energy', 'enforcem', 'enforcement', 'engage', 'engagement', 'engels', 'engine', 'engineering', 'england', 'englewood', 'english', 'engvolk', 'enhance', 'enjoy', 'enjoying', 'enlarge', 'enon', 'enough', 'enraged', 'enron', 'ent', 'enter', 'entertain', 'entertaining', 'entertainment', 'enthusiasm', 'enti', 'entire', 'entirely', 'entitle', 'entree', 'enuf', 'enuff', 'envious', 'environment', 'environmental', 'environmentally', 'envy', 'enzi', 'ep', 'epa', 'epic', 'epidemic', 'episode', 'epps', 'epsilon', 'equal', 'equality', 'equalizer', 'equally', 'equation', 'equestriagirls', 'equipment', 'equivalent', 'er', 'era', 'erase', 'erbody', 'erection', 'eric', 'erica', 'erick', 'erickson', 'erin', 'erm', 'err', 'errday', 'error', 'errrnigga', 'errrrything', 'erry', 'errybody', 'erwin', 'erybody', 'erything', 'escape', 'escort', 'eskimo', 'eso', 'esophagus', 'esp', 'espaol', 'especially', 'espect', 'espn', 'essay', 'essence', 'establish', 'este', 'esteem', 'estupid', 'estuvo', 'etc', 'eternallygrateful', 'ethic', 'ethiopian', 'eugene', 'euphoric', 'euro', 'europe', 'european', 'euros', 'eurostar', 'eurotrash', 'eva', 'evaaaa', 'evader', 'evaluate', 'evan', 'eve', 'evelyn', 'evem', 'even', 'evening', 'event', 'ever', 'everclear', 'every', 'everybody', 'everybodyyyyy', 'everycunt', 'everyday', 'everyjuan', 'everynight', 'everyo', 'everyone', 'everything', 'everytime', 'everywhere', 'evil', 'evilyn', 'evolution', 'evolutionary', 'evolve', 'evolved', 'evolves', 'ew', 'ewh', 'ewing', 'eww', 'ewww', 'ewwww', 'ewwwwbitch', 'ewwwwwww', 'ex', 'exactly', 'examine', 'example', 'excellent', 'except', 'exception', 'exceptionally', 'excessive', 'excessively', 'exchange', 'excite', 'excited', 'excitement', 'exclusive', 'exclusively', 'excuse', 'exe', 'execute', 'executioner', 'executive', 'exempt', 'exes', 'exhale', 'exist', 'existence', 'exit', 'exotic', 'expect', 'expectation', 'expendable', 'expensive', 'experience', 'expiration', 'expire', 'explain', 'explaining', 'explode', 'explore', 'explosion', 'expose', 'express', 'expression', 'expunge', 'exs', 'exsposin', 'extend', 'extension', 'extinct', 'extra', 'extract', 'extradressing', 'extralife', 'extreme', 'extremely', 'ey', 'eye', 'eyebrow', 'eyebrows', 'eyed', 'eyelash', 'eyelashes', 'eyez', 'eyyyy', 'ezra', 'fabric', 'fabulous', 'fac', 'facade', 'face', 'facebook', 'faced', 'faces', 'facetime', 'facial', 'facialized', 'facilitate', 'facility', 'facing', 'facs', 'fact', 'factdontargue', 'facto', 'factor', 'factory', 'facts', 'factz', 'fad', 'fade', 'faded', 'fads', 'fag', 'faget', 'faggit', 'faggot', 'faggots', 'faggotsmh', 'faggotyou', 'fagjo', 'fags', 'fai', 'fail', 'failure', 'faints', 'fair', 'fairly', 'fairweather', 'fairy', 'faith', 'faithful', 'fajita', 'fake', 'faker', 'faking', 'fal', 'falcants', 'falcon', 'falisha', 'fall', 'fallen', 'fallin', 'fallinginthedraft', 'fallon', 'fallout', 'falloutbird', 'falls', 'false', 'fam', 'fame', 'familiar', 'family', 'famous', 'famu', 'fan', 'fanboying', 'fanboys', 'fancily', 'fancy', 'fandomapology', 'fanduel', 'fanfare', 'fanny', 'fans', 'fantastic', 'fantasy', 'fantasygames', 'fap', 'far', 'farcical', 'fareal', 'farewell', 'farewellcaptain', 'fargo', 'farm', 'farquaad', 'farra', 'farrakhan', 'fart', 'fartin', 'farve', 'fashion', 'fasho', 'fashoo', 'fast', 'fastballs', 'faster', 'fat', 'fatal', 'fatality', 'father', 'fatherless', 'fatherrr', 'fathom', 'fatter', 'fatty', 'fatwa', 'fault', 'faux', 'fav', 'fave', 'favor', 'favorite', 'favorited', 'favorites', 'favoriting', 'favourite', 'favstartweets', 'fax', 'faze', 'fazeisgay', 'fb', 'fbi', 'fc', 'fck', 'fckd', 'fckin', 'fckn', 'fcmlvtigbl', 'fear', 'fearful', 'fearless', 'feat', 'feather', 'feature', 'feb', 'february', 'fec', 'fed', 'federalboobieinspector', 'fedora', 'feds', 'fee', 'feed', 'feeder', 'feedme', 'feel', 'feeld', 'feelin', 'feeling', 'feelings', 'feelins', 'feels', 'feenin', 'fell', 'fellas', 'fellaz', 'felling', 'fellow', 'felonsplease', 'felony', 'felt', 'felton', 'female', 'femalelogic', 'females', 'femininity', 'feminism', 'feminist', 'fence', 'fend', 'fendi', 'fenkell', 'fenna', 'fergerson', 'fergie', 'ferguson', 'fergusonoctober', 'fergusonriot', 'ferkin', 'ferrari', 'ferry', 'fertile', 'fest', 'festival', 'fetch', 'fetish', 'feud', 'fever', 'few', 'fezbandname', 'fiancee', 'fiascos', 'fiberglass', 'fides', 'fie', 'field', 'fields', 'fierce', 'fifa', 'fifth', 'fifty', 'fight', 'fighter', 'fighters', 'fightin', 'fighting', 'figuratively', 'figure', 'fil', 'file', 'filet', 'filing', 'fill', 'filling', 'film', 'filrting', 'filter', 'filtering', 'filterless', 'filth', 'filthy', 'fin', 'final', 'finale', 'finally', 'financial', 'find', 'finders', 'finding', 'findtheeggs', 'fine', 'finer', 'fines', 'finesse', 'finethe', 'fing', 'finger', 'fingeredhard', 'finish', 'finished', 'finishing', 'finito', 'finna', 'fire', 'fireball', 'firebird', 'firecashman', 'firechoreli', 'fired', 'firefight', 'firefighter', 'firehouse', 'fireman', 'firestone', 'firework', 'first', 'firstballot', 'fish', 'fisher', 'fisherman', 'fishin', 'fishy', 'fist', 'fisted', 'fisting', 'fists', 'fit', 'fite', 'fitness', 'fitted', 'fittin', 'fitting', 'fitz', 'fitzgerald', 'fitzpatrick', 'five', 'fix', 'fixit', 'fixitjesus', 'fixmylife', 'fiya', 'fizz', 'fking', 'fkkk', 'fkn', 'fl', 'flabby', 'flaco', 'flag', 'flagrant', 'flake', 'flaky', 'flame', 'flameeee', 'flames', 'flamin', 'flaming', 'flamingo', 'flappy', 'flappybirdisruiningmylife', 'flash', 'flashin', 'flask', 'flat', 'flatfoot', 'flatter', 'flavaaaaa', 'flavor', 'flaw', 'flawged', 'flawgen', 'flawging', 'flawless', 'flawwssss', 'flciking', 'flea', 'flee', 'fleece', 'fleek', 'fleeto', 'fleetweeknyc', 'flesh', 'flew', 'flex', 'flexin', 'flexing', 'flick', 'flier', 'flight', 'flightless', 'flighty', 'flinch', 'fling', 'flip', 'flipped', 'flipping', 'flipthesenate', 'flirt', 'flirtin', 'flirting', 'flite', 'flo', 'float', 'flock', 'flood', 'floor', 'flop', 'floppers', 'floppy', 'florida', 'floridaprimary', 'floridians', 'flossin', 'flotation', 'flour', 'flourish', 'flow', 'flower', 'flowing', 'floyd', 'flu', 'fluffy', 'fly', 'flyer', 'flyest', 'flying', 'fml', 'fo', 'foam', 'fob', 'focal', 'fock', 'focus', 'foe', 'foes', 'fog', 'fold', 'foles', 'foley', 'folie', 'folk', 'folks', 'follin', 'follow', 'followback', 'follower', 'following', 'followmebeau', 'follows', 'font', 'foo', 'food', 'foodlovers', 'foodporn', 'foodtown', 'fool', 'foolin', 'foolish', 'foot', 'football', 'footer', 'footin', 'for', 'force', 'forcin', 'ford', 'foreal', 'foreall', 'forehead', 'foreign', 'foreseeable', 'forestgump', 'forevea', 'forever', 'foreverrrr', 'forevs', 'forf', 'forge', 'forget', 'forgets', 'forgetting', 'forgiato', 'forgive', 'forgiving', 'forgot', 'foriegn', 'form', 'formal', 'formally', 'former', 'formula', 'forreal', 'forrest', 'forsake', 'forth', 'forthebros', 'fortunate', 'fortune', 'foruse', 'forver', 'forward', 'forwd', 'fosters', 'foto', 'fotos', 'fou', 'foul', 'found', 'founder', 'fountain', 'four', 'fourth', 'fox', 'fox8', 'foxnews', 'foxx', 'fpd', 'fr', 'frame', 'fran', 'france', 'franch', 'franchise', 'francisco', 'frank', 'frankie', 'franklin', 'frappuccino', 'frasesdeunamadremexicana', 'frat', 'fraud', 'fraudulent', 'fray', 'frc', 'freak', 'freakin', 'freaking', 'freaksandgeeks', 'freakshow', 'freaky', 'freckbars', 'freckle', 'fred', 'freddie', 'freddy', 'fredericks', 'free', 'freeballoutpartypart3', 'freebee', 'freebie', 'freeboosie', 'freecb', 'freedom', 'freee', 'freeeeezing', 'freeelchapo', 'freeky', 'freelikeabird', 'freemarket', 'freestyle', 'freestylers', 'freeway', 'freeze', 'freezing', 'french', 'frenchman', 'frenemies', 'frenzy', 'fresh', 'freshman', 'freshmanadvice', 'freshprince', 'freshrhymes', 'freudian', 'frfr', 'fri', 'friday', 'fridayfaves', 'fridge', 'fried', 'friend', 'friended', 'friendly', 'friends', 'friendzone', 'friendzoned', 'friggin', 'frisbee', 'frisk', 'fritag', 'frito', 'frm', 'fro', 'frog', 'frogger', 'frohorsemen', 'from', 'front', 'frontin', 'fronting', 'frost', 'frosting', 'froyo', 'froze', 'frozed', 'frozen', 'fruit', 'fruitcake', 'fruity', 'frumpy', 'frustrate', 'frustrated', 'frustration', 'fry', 'fse', 'fstow', 'fsu', 'ft', 'ftw', 'fu', 'fubu', 'fuc', 'fucboy', 'fucc', 'fucccccckn', 'fucccckkkkkk', 'fuccck', 'fucced', 'fuccin', 'fuccing', 'fuccn', 'fuck', 'fucka', 'fuckahs', 'fuckas', 'fuckboy', 'fuckd', 'fucked', 'fuckedd', 'fuckedhard', 'fuckem', 'fuckemx3', 'fucken', 'fucker', 'fuckfriendzones', 'fuckgm', 'fuckhead', 'fuckher', 'fuckherrightinthepussy', 'fucki', 'fuckin', 'fucking', 'fuckingggggg', 'fuckiphones', 'fuckittt', 'fuckjng', 'fuckk', 'fuckked', 'fuckkkk', 'fuckkkkk', 'fuckkkkkkkkkkkkk', 'fuckn', 'fucknigga', 'fuckniggahs', 'fuckry', 'fucks', 'fucksamattawithyou', 'fucksuge', 'fucktard', 'fucktards', 'fuckthesteelers', 'fudg', 'fudge', 'fuel', 'fufu', 'fuggin', 'fugly', 'fuk', 'fukd', 'fuked', 'fukemweball', 'fukin', 'fuking', 'fukkin', 'fukkk', 'fukniccas', 'full', 'fulla', 'fulltime', 'fully', 'fumble', 'fumny', 'fun', 'funccy', 'function', 'functionally', 'funcy', 'fund', 'fundamentalist', 'funeral', 'funfetti', 'funky', 'funnel', 'funnie', 'funniest', 'funny', 'fur', 'furbush', 'furqan', 'further', 'fuse', 'fuss', 'fussy', 'futon', 'future', 'fuuck', 'fuuuck', 'fuuuuuck', 'fuuuuuuuuck', 'fuwop', 'fuxk', 'fuxker', 'fuzzies', 'fuzzy', 'fvck', 'fvckin', 'fw', 'fwher', 'fwm', 'fwu', 'fwy', 'fxck', 'fye', 'fyi', 'ga', 'gaaaaaaaaaaaay', 'gab', 'gabby', 'gabbys', 'gabourey', 'gabriella', 'gabrielle', 'gaddafi', 'gadget', 'gadkari', 'gaffeoke', 'gag', 'gaga', 'gaggler', 'gah', 'gahbage', 'gahdamn', 'gail', 'gain', 'gal', 'gala', 'galaxy', 'gallagher', 'gallo', 'gallon', 'gallop', 'gallup', 'galore', 'gambino', 'gambling', 'game', 'game6', 'game7', 'gameplan', 'gamer', 'gaming', 'gamoot', 'ganarle', 'gang', 'gangbang', 'gangbanged', 'gangsta', 'gangstaz', 'gangster', 'gansitos', 'gap', 'gaping', 'garage', 'garbage', 'garcia', 'garden', 'gardner', 'garfield', 'gargamel', 'garlic', 'gary', 'gas', 'gasoline', 'gasp', 'gassin', 'gate', 'gates', 'gator', 'gatorade', 'gatorades', 'gatoraide', 'gatornation', 'gauntlet', 'gave', 'gawd', 'gay', 'gayer', 'gaymarriage', 'gayor', 'gays', 'gayvegas', 'gaza', 'gb', 'gear', 'gearin', 'gebeuren', 'gee', 'geek', 'geeked', 'geekin', 'geez', 'geeze', 'gehrig', 'gehrigs', 'gekkigheid', 'gel', 'gelato', 'gelatocart', 'gem', 'gemini', 'gemma', 'gen', 'gene', 'general', 'generalization', 'generate', 'generation', 'generic', 'generous', 'genes', 'genesis', 'genetic', 'genetics', 'genius', 'geno', 'genos', 'gentle', 'gentleman', 'gently', 'genuine', 'genuinely', 'george', 'georgia', 'gepeste', 'ger0ipabpa', 'geriatric', 'german', 'germany', 'gerry', 'gesture', 'get', 'getcho', 'getchu', 'getfree', 'getlostfakebitch', 'gettin', 'getting', 'gettingreal', 'gettn', 'getup', 'getwitme', 'getyourlife', 'gey', 'gezus', 'gf', 'gfu', 'gga', 'ggas', 'ggl', 'ghetto', 'ghettos', 'ghost', 'gi', 'giant', 'giants', 'gibson', 'gif', 'gifs', 'gift', 'gifted', 'gig', 'giggle', 'giggling', 'gil', 'gilbert', 'gilda', 'gill', 'gillette', 'gim', 'gimmeablackemoji', 'gimmi', 'gimp', 'gin', 'ging', 'ginger', 'gingerbread', 'gino', 'ginobli', 'ginyu', 'ginzo', 'gir', 'giraffe', 'girardi', 'girbaud', 'girbuad', 'girl', 'girlboo', 'girlboy', 'girlbye', 'girlfights', 'girlfriend', 'girlfriends', 'girllll', 'girls', 'girlsshit', 'girly', 'girlz', 'gitmo', 'giuliani', 'give', 'givenchy', 'givin', 'giving', 'givingup', 'givng', 'gla', 'glad', 'gladbagflow', 'gladiola', 'gladyouregone', 'gladys', 'glass', 'glenn', 'glides', 'glimpse', 'glitch', 'glitter', 'glittery', 'glizzy', 'glizzygang', 'glo', 'globalforceforgood', 'glocc', 'glock', 'glocks', 'glorify', 'glory', 'glorydays', 'glossy', 'glove', 'glow', 'glue', 'gluten', 'gluton', 'gm', 'gma', 'gmcyhdtb', 'gmfu', 'gmix', 'gmula', 'gn', 'gna', 'gnarles', 'gnc', 'gne', 'gnu', 'go', 'go58ct7ue7', 'goa', 'goal', 'goals', 'goat', 'goauche', 'gobble', 'gobbledy', 'gobernador', 'gobuycomb', 'gocruise', 'god', 'goddam', 'goddamit', 'goddamn', 'goddess', 'godfather', 'godly', 'godprotectshisangels', 'godsmack', 'godwhat', 'godzilla', 'goes', 'gogetit', 'gogh', 'goin', 'going', 'goingtogethurtagain', 'goku', 'gold', 'goldbar', 'golden', 'goldfish', 'goldiggers', 'goldigging', 'golds', 'goldschmied', 'golf', 'goligoski', 'golly', 'gon', 'gona', 'gone', 'gonetofar', 'gonn', 'gonorrhea', 'gonzales', 'good', 'goodbye', 'goodbyebreakingbad', 'goodday', 'gooder', 'goodmorning', 'goodness', 'goodnight', 'goofball', 'goofy', 'google', 'gook', 'goon', 'goood', 'gooooo', 'gooooooooooood', 'goose', 'gop', 'gopats', 'gordon', 'gore', 'gorg', 'gorge', 'gorgeous', 'gorilla', 'gosh', 'goshawk', 'gosling', 'gosox', 'gospel', 'gossip', 'gossman', 'got', 'gota', 'gotcha', 'gotdayum', 'goth', 'gots', 'gott', 'gottagetthe30', 'gottem', 'gotten', 'gotti', 'gouache', 'gov', 'governing', 'government', 'governmentaffairs', 'governor', 'govt', 'gpa', 'grab', 'grabs', 'grace', 'gracias', 'grade', 'grader', 'gradeschool', 'gradeyeah', 'graduate', 'graduated', 'graduation', 'graffiti', 'graham', 'grail', 'gram', 'gramatically', 'grammar', 'grand', 'grandbabies', 'grande', 'grandfather', 'grandma', 'grandmama', 'grandmoma', 'grandpa', 'granny', 'grant', 'grape', 'graphic', 'gras', 'grass', 'gratata', 'grateful', 'grats', 'grave', 'gravedigger', 'gravel', 'graveyard', 'gravity', 'gravy', 'gray', 'gready', 'grease', 'greaser', 'great', 'greece', 'greedy', 'greek', 'green', 'greene', 'greeneggs', 'greenmile', 'greet', 'greg', 'gregg', 'greggs', 'gremlin', 'gresham', 'gretchen', 'grey', 'greyhound', 'greysanatomy', 'grhtdie9dz', 'grier', 'griff', 'griffin', 'grigio', 'griiind', 'grill', 'grilled', 'grimey', 'grin', 'grinch', 'grind', 'grindin', 'grinding', 'grindr', 'griner', 'grip', 'grizzly', 'grohl', 'groom', 'groovy', 'gross', 'grouch', 'ground', 'grounder', 'group', 'groupie', 'grouse', 'grove', 'grow', 'grown', 'growth', 'growup', 'grub', 'grudges', 'grumbling', 'grumpy', 'grusty', 'gs', 'gshit', 'gt', 'gta', 'gtf', 'gtflfgrmtz', 'gtfo', 'gtfoh', 'gtfohhhhh', 'gtln1tpmgi', 'gts', 'gtta', 'guala', 'guarantee', 'guaranteed', 'guard', 'guardianinternational', 'guards', 'gubernatorial', 'guccccci', 'gucci', 'gudnight', 'guess', 'guessin', 'guesss', 'guest', 'guevara', 'guidance', 'guide', 'guideline', 'guido', 'guilt', 'guilty', 'guinea', 'guitar', 'gulf', 'gull', 'gullible', 'gulping', 'gum', 'gummy', 'gump', 'gun', 'guncontrol', 'gung', 'gunna', 'guns', 'gunsense', 'guppies', 'gurl', 'gurley', 'gurll', 'gushy', 'gusta', 'gut', 'gutter', 'guy', 'guys', 'guysssss', 'gwb', 'gwbush', 'gwen', 'gwop', 'gxxd', 'gym', 'gypsy', 'gyro', 'gz', 'haatsmurfen', 'habichuelas', 'habit', 'hack', 'hacker', 'hackey', 'hacky', 'had', 'hadddd', 'hag', 'hagen', 'haggling', 'hah', 'haha', 'hahaa', 'hahah', 'hahaha', 'hahahaa', 'hahahaaha', 'hahahah', 'hahahaha', 'hahahahah', 'hahahahaha', 'hahahahahah', 'hahahahahaha', 'hahahahahahaha', 'hahahahahahahahaha', 'hahahahahahahahahaahah', 'hahahahahahahahahahaha', 'hahahh', 'hahahhaa', 'hahahhaha', 'hahahhahaa', 'hahha', 'hahhaha', 'hail', 'hair', 'haircut', 'haircuts', 'haired', 'hairlessss', 'hairs', 'hairstyle', 'hairstylist', 'hairy', 'hairychestsdoee', 'haiti', 'haitian', 'hajj', 'hajjaj', 'haley', 'half', 'halfassed', 'halftime', 'halfway', 'halibut', 'hall', 'hallon', 'halloween', 'hallway', 'halo', 'ham', 'hamas', 'hamburger', 'hammer', 'hamper', 'hampshire', 'hamster', 'han', 'hand', 'handcuff', 'handcut', 'handful', 'handicap', 'handicapped', 'handin', 'handjob', 'handle', 'handler', 'handling', 'handmade', 'handout', 'handsome', 'handy', 'hang', 'hangin', 'hanging', 'hangout', 'hangover', 'hank', 'hankwilliams', 'hanna', 'hannah', 'hanson', 'happen', 'happend', 'happening', 'happens', 'happiest', 'happily', 'happiness', 'happppppy', 'happy', 'happybirthdaytome', 'happycolumbusday', 'happyhour', 'happysunday', 'haram', 'harass', 'harassment', 'harbor', 'hard', 'hardcocks', 'hardcore', 'harddick', 'harden', 'harder', 'hardin', 'hardly', 'hardy', 'harf', 'harlem', 'harley', 'harrell', 'harris', 'harrison', 'harrrrd', 'harry', 'harsh', 'hart', 'haruka', 'harvard', 'harvest14', 'harvey', 'harvin', 'has', 'hash', 'hashtag', 'hashtags', 'hasta', 'hat', 'hatchy', 'hate', 'hated', 'hatefakepeople', 'hateful', 'hater', 'haters', 'hates', 'hath', 'hatin', 'hating', 'hatred', 'hattiesburg', 'hau', 'haul', 'haunt', 'hav', 'havana', 'have', 'havent', 'havin', 'having', 'havti', 'hawaii', 'hawaiian', 'hawk', 'hawkeye', 'hawkin', 'hawt', 'haye', 'haymon', 'hazard', 'hazel', 'hazelnut', 'hba', 'hbcu', 'hbic', 'hc', 'hc2k14', 'hcbitch', 'hd', 'he', 'hea', 'head', 'headace', 'headache', 'headaches', 'headass', 'headband', 'headbutt', 'header', 'headley', 'headlight', 'headlock', 'headphone', 'heads', 'heal', 'health', 'healthcare', 'healthy', 'hear', 'heard', 'hearing', 'hearne', 'heart', 'hearted', 'heartless', 'heat', 'heated', 'heather', 'heauxs', 'heave', 'heaven', 'heavenly', 'heavily', 'heavy', 'heavyweight', 'hebrew', 'hebronville', 'heck', 'hectic', 'hed', 'hedge', 'heeb', 'heeeey', 'heeellllooo', 'heel', 'heelys', 'heet', 'heffa', 'hefner', 'heftig', 'heftige', 'hehe', 'hehehehehe', 'heidi', 'height', 'heinie', 'heinz', 'heir', 'heisman', 'helicopter', 'hell', 'hella', 'hellen', 'hellfire', 'hellhole', 'helll', 'hello', 'hellyeah', 'helmet', 'helmsley', 'helotes', 'help', 'hem', 'hemmings', 'hemroid', 'hen', 'hennessey', 'hennessy', 'henny', 'henrique', 'henry', 'hentai', 'her', 'herb', 'herd', 'here', 'heree', 'heres', 'herkfacts', 'hermaphrodite', 'hernandez', 'hero', 'herps', 'herpussy', 'hers', 'herself', 'hershe', 'hershey', 'hertwat', 'heru', 'hes', 'hese', 'hesgay', 'hesitate', 'hesitation', 'hester', 'het', 'hetro', 'hey', 'heyyy', 'heyyyyyyyyyyy', 'hi', 'hibben', 'hibbert', 'hick', 'hickey', 'hickeys', 'hickies', 'hickman', 'hicks', 'hid', 'hiddencam', 'hiddencams', 'hide', 'hiden', 'hideous', 'hiding', 'high', 'higher', 'highgang', 'highh', 'highhhhh', 'highkey', 'highlight', 'highly', 'highschool', 'highway', 'hilarious', 'hilary', 'hilfiger', 'hill', 'hillary', 'hillbilly', 'hillllll', 'hills', 'him', 'himse', 'himself', 'hinder', 'hindi', 'hindu', 'hinouchi', 'hinrich', 'hint', 'hinvxbup31', 'hip', 'hiphop', 'hipotle', 'hippie', 'hippo', 'hipster', 'hire', 'hirin', 'his', 'hispanic', 'hispanics', 'histories', 'history', 'hit', 'hitch', 'hitchens', 'hitin', 'hitler', 'hitm', 'hitman', 'hits', 'hittas', 'hittaz', 'hitter', 'hittin', 'hiv', 'hive', 'hje7v4awdw', 'hjhdyhdhlgjdftilh', 'hlqal7cigf', 'hm', 'hmm', 'hmmm', 'hmmmmm', 'hmu', 'ho', 'hobbit', 'hobby', 'hobo', 'hockey', 'hoe', 'hoe1000', 'hoed', 'hoein', 'hoeing', 'hoek', 'hoeoh', 'hoes', 'hoesbroke', 'hoesnot', 'hoethea', 'hoeyas', 'hof', 'hog', 'hogan', 'hogg', 'hoggin', 'hoi', 'hokage', 'hokis', 'hol', 'hold', 'holder', 'holders', 'holdin', 'hole', 'holic', 'holiday', 'holidayseasonlive', 'holla', 'hollah', 'hollar', 'holler', 'holllll', 'hollow', 'hollywood', 'hologram', 'holographic', 'holy', 'hom', 'home', 'homeboy', 'homeboys', 'homecoming', 'homegirl', 'homeless', 'homemade', 'homeowner', 'homer', 'homeruns', 'homestand', 'homework', 'homewreckers', 'homey', 'homie', 'homies', 'homo', 'homophobia', 'homophobic', 'homosexual', 'honcho', 'honda', 'honda200', 'honest', 'honestly', 'honesty', 'honestyhour', 'honey', 'honeybadger', 'honeybun', 'honeymoon', 'hong', 'honk', 'honkey', 'honkie', 'honky', 'honor', 'honour', 'hoo', 'hood', 'hoodbitches', 'hoodcomedy', 'hoodie', 'hoodiest', 'hook', 'hookah', 'hookem', 'hooker', 'hooouseee', 'hoop', 'hooping', 'hoor', 'hoosier', 'hoosierdaddy', 'hoosierstate', 'hoovas', 'hoover', 'hop', 'hope', 'hopeful', 'hopefully', 'hopehegetskilled', 'hopes', 'hoping', 'hopper', 'hopping', 'hoppy', 'horizon', 'hormone', 'horn', 'horny', 'hornyjapaneses', 'hornymen', 'horoscope', 'horoscopes', 'horrible', 'horrific', 'horrify', 'horror', 'horse', 'horus', 'hos', 'hose', 'hoser', 'hospice', 'hospital', 'host', 'hot', 'hotboxing', 'hotdog', 'hotel', 'hotnigga', 'hotshot', 'hott', 'hotter', 'hou', 'hounding', 'hour', 'hours', 'house', 'household', 'housewife', 'houston', 'houuuse', 'hov', 'hover', 'hovers', 'how', 'howard', 'howdhow', 'however', 'howler', 'hows', 'hoze', 'hp', 'hr', 'hs', 'hsadkzcain', 'hsn', 'ht', 'htgawm', 'htown', 'htt', 'httr', 'hu', 'hu27le', 'hubby', 'huffy', 'hug', 'huge', 'hugedick', 'huggin', 'hugging', 'huggins', 'hugh', 'hugs', 'huh', 'hulk', 'hulkamania', 'hull', 'hum', 'human', 'humanity', 'humble', 'hummus', 'humor', 'humorisaweapon', 'hump', 'humpday', 'humpin', 'humping', 'hun', 'hundred', 'hung', 'hungarian', 'hunger', 'hungover', 'hungrier', 'hungry', 'hunkie', 'hunky', 'hunna', 'hunned', 'hunneds', 'hunnid', 'hunnit', 'hunny', 'huns', 'hunt', 'hunter', 'hunters', 'huntin', 'hurd', 'hurricane', 'hurry', 'hurt', 'husband', 'husky', 'hussein', 'hustlaz', 'hustle', 'hustler', 'hustlin', 'hut', 'hydro', 'hydrogen', 'hygiene', 'hykwrvd', 'hype', 'hypebeasts', 'hypnotized', 'hypocrisy', 'hypocrite', 'hypocritical', 'hyposhitical', 'hysteria', 'hysterical', 'ice', 'icebucketchallenge', 'icecream', 'icecube', 'iced', 'ichiro', 'icing', 'ickblah', 'iconic', 'icu', 'icy', 'id', 'idc', 'idea', 'identify', 'ideological', 'ideology', 'idf', 'idg', 'idgaf', 'idgafmode', 'idiot', 'idiotic', 'idiots', 'idk', 'idol', 'idont', 'idontcare', 'ie', 'iets', 'if', 'iffy', 'ifihadme1', 'ifshecantsuckthedickright', 'ifthepurgewasreal', 'ig', 'iggohwewfh', 'iggy', 'ight', 'ign', 'ignorance', 'ignorant', 'ignore', 'ihop', 'ihopesomeday', 'ihy', 'iight', 'iite', 'iittt', 'ijs', 'ik', 'ike', 'ikea', 'ill', 'illegal', 'illegals', 'illegitimate', 'illiberal', 'illino', 'illinois', 'illiterate', 'illmissu', 'illness', 'illneverunderstandwhy', 'illuminati', 'ilovemakonnen', 'ilusm', 'ily', 'ilysm', 'im', 'im_hollywood_jay', 'im_yung_jay', 'ima', 'imaddictedto', 'image', 'images', 'imaginary', 'imagination', 'imagine', 'imahomie', 'imediatly', 'imik', 'imitate', 'imma', 'immature', 'immediately', 'immigrant', 'immoral', 'immune', 'imo', 'impact', 'impeachment', 'impeachobama', 'imperfection', 'imperial', 'imperialist', 'imply', 'import', 'important', 'impossible', 'imposter', 'impregnate', 'impress', 'impressed', 'impression', 'impromptu', 'improve', 'improvement', 'imsad', 'imy', 'in', 'inbed', 'inbox', 'inboxing', 'inbred', 'incarnation', 'incase', 'incessant', 'inch', 'incident', 'incidents', 'include', 'including', 'income', 'inconsiderate', 'inconsistent', 'increase', 'incredible', 'inda', 'inde', 'indeed', 'indentured', 'independent', 'independents', 'indian', 'indiana', 'indianapolis', 'indicate', 'indiegamepickuplines', 'indigenouspeoplesday', 'indirect', 'indirectly', 'indonesia', 'indonesian', 'indoor', 'induce', 'inductee', 'industry', 'indycar', 'indyfest', 'inevitably', 'infant', 'infect', 'infected', 'infection', 'infer', 'infest', 'infinitely', 'infio', 'inflammed', 'influence', 'influential', 'info', 'infor', 'inform', 'information', 'informed', 'infrastructure', 'infront', 'ing', 'ingezonden', 'inhale', 'inheritance', 'initial', 'initiating', 'injun', 'injure', 'injury', 'ink', 'inktober', 'inky', 'inlove', 'inmate', 'inmiddleschool', 'innat', 'inner', 'innin', 'inning', 'innis', 'innocence', 'innocent', 'innovative', 'insane', 'insect', 'insecure', 'insecurities', 'insensitive', 'insert', 'inside', 'insideandout', 'insidious', 'insomnia', 'inspect', 'inspirational', 'inspire', 'inspires', 'inspiring', 'insta', 'instafrontin', 'instagram', 'installment', 'instant', 'instantly', 'instating', 'instead', 'instigate', 'instruction', 'insufferable', 'insult', 'insurance', 'integrity', 'intellectual', 'intelligence', 'intelligent', 'intended', 'intense', 'intensifies', 'intensity', 'intention', 'intentionally', 'intercept', 'interception', 'intercourse', 'interest', 'interested', 'interesting', 'interfere', 'interference', 'interlagos', 'internal', 'international', 'internet', 'interrogation', 'interrupt', 'intersection', 'interview', 'intimidate', 'intimidator', 'into', 'intolerant', 'intrigue', 'introduce', 'intrrvention', 'intvw', 'invade', 'invader', 'invent', 'invention', 'invest', 'investigate', 'investment', 'invisible', 'invisiblebird', 'invite', 'invoke', 'involve', 'io', 'ioana', 'ioc', 'ion', 'iongotnotype', 'ionn', 'iont', 'ios', 'ios8', 'iota', 'iowa', 'ipad', 'iphone', 'iphone6', 'ipod', 'iq', 'iran', 'iraq', 'irish', 'iron', 'ironing', 'irony', 'irratating', 'irrational', 'irrelevant', 'irri', 'irritable', 'irritate', 'irritated', 'irritating', 'irs', 'is', 'isaiah', 'isdestroyed', 'ish', 'isint', 'isis', 'isl', 'islam', 'islamic', 'islamnation', 'islamophobe', 'island', 'isley', 'isnt', 'isolated', 'israel', 'iss', 'isss', 'issssss', 'issue', 'issues', 'istandwithisr', 'istandwithrand', 'istg', 'isu', 'it', 'ita', 'itakeshitfromnoone', 'italian', 'italianproblems', 'italy', 'itch', 'itchin', 'itdircnt7y', 'item', 'iteration', 'itll', 'its', 'itsawrap', 'itself', 'itsfallbecause', 'itstoofuckingeasy', 'ittt', 'ittttt', 'itty', 'ituahyhc0r', 'itunes', 'itv', 'itwas', 'iu', 'iubb', 'iudvnqckb4', 'iv', 'ivanpah', 'ive', 'iverrishaa', 'ivory', 'ivs', 'ivy', 'jab', 'jabroni', 'jac', 'jacey', 'jack', 'jackelope', 'jacker', 'jacket', 'jackie', 'jackies', 'jackson', 'jacob', 'jacuzzi', 'jada', 'jadapose', 'jadhav', 'jai', 'jail', 'jailmail', 'jaime', 'jake', 'jakes', 'jalens', 'jam', 'jamaica', 'jamba', 'jameis', 'james', 'jameson', 'jamie', 'jammer', 'jammin', 'jamming', 'jammy', 'janay', 'jane', 'janelle', 'janemba', 'janet', 'janitor', 'jank', 'janky', 'jants', 'january', 'japan', 'japanese', 'japn', 'japoneses', 'japped', 'japs', 'jar', 'jarrett', 'jasmin', 'jason', 'jasper', 'jaw', 'jax', 'jaxon1114', 'jay', 'jayballout', 'jayfacts', 'jayonna', 'jays', 'jazz', 'jb', 'je', 'jealous', 'jean', 'jeanne', 'jebidiah', 'jedah', 'jeesh', 'jeezus', 'jeezy', 'jeff', 'jeffersons', 'jeffrey', 'jell', 'jello', 'jelly', 'jellydoughnuts', 'jen', 'jenna', 'jenner', 'jennifer', 'jennings', 'jenny', 'jeopardy', 'jerk', 'jerksquad', 'jerome', 'jerry', 'jerryreed', 'jerryspringer', 'jerse', 'jersey', 'jerseys', 'jessica', 'jessie', 'jesus', 'jesuschrist', 'jet', 'jeter', 'jeters', 'jets', 'jetsgreen', 'jetter', 'jew', 'jewel', 'jewelery', 'jewelry', 'jewis', 'jewish', 'jews', 'jezzy', 'jig', 'jigaboo', 'jigg', 'jigga', 'jiggaboo', 'jiggas', 'jigger', 'jiggy', 'jihadi', 'jihadis', 'jihadist', 'jim', 'jimmy', 'jindal', 'jingo', 'jinxy', 'jis', 'jitt', 'jixwxexnie', 'jiz', 'jj', 'jk', 'jkbridgeturstraight', 'jm', 'jn8exkxf', 'jncos', 'joan', 'job', 'jobright', 'jobs', 'jockey', 'jockin', 'joda', 'jody', 'joe', 'joel', 'joepesci', 'joetorreday', 'joey', 'johans', 'johansson', 'john', 'johndeere', 'johnel', 'johnny', 'johns', 'johnson', 'join', 'joint', 'joique', 'jojo', 'joke', 'joking', 'jollies', 'jolly', 'jon', 'jonas', 'jones', 'jongen', 'joo', 'joon', 'jooooooked', 'jordan', 'jordyn', 'jorge', 'jose', 'josef', 'joseline', 'josh', 'joshoutman', 'joshua', 'journal', 'journalist', 'joy', 'joyce', 'joystick', 'jp', 'jr', 'judge', 'judgement', 'judgemental', 'judges', 'judgmen', 'judgment', 'judy', 'judyann', 'juelz', 'jugar', 'juheard', 'juice', 'juicy', 'julia', 'julian', 'julie', 'july', 'jumbo', 'jumbotron', 'jump', 'jumper', 'jumpin', 'june', 'jungle', 'junior', 'juniors', 'junk', 'junkie', 'jury', 'jus', 'juss', 'just', 'justice', 'justice4mikebrown', 'justific', 'justified', 'justify', 'justin', 'justmadeitawkward', 'justsayin', 'justsaying', 'jusy', 'juvenile', 'juwanna', 'kaaspiet', 'kaboom', 'kae', 'kaep', 'kaepernick', 'kaetlin', 'kakao', 'kamehameha', 'kamehamehaaaaaaa', 'kane', 'kang', 'kangaroo', 'kannie', 'kannon', 'kansas', 'kanye', 'kanyeeeeeee', 'kanyes', 'kappas', 'karahn', 'karaoke', 'karass', 'karate', 'kardashian', 'kardashians', 'kareem', 'karl', 'karlie', 'karlmarx', 'karma', 'karmas', 'karmic', 'kart', 'kass', 'kasur', 'kat', 'kate', 'katiedodds15', 'katrina', 'kats', 'katy', 'kawasaki', 'kawkin', 'kay', 'kaya', 'kayne', 'kazooie', 'kb', 'kbye', 'kd', 'kd3iseiold', 'kdstreak', 'kearney', 'kecfnjyrwe', 'keebler', 'keef', 'keep', 'keepcruzing', 'keeper', 'keith', 'kejr', 'kejriwal', 'keke', 'keller', 'kelly', 'kemora', 'ken', 'kendall', 'kendrick', 'kenfolk', 'kenna', 'kenneth', 'kennies', 'kenny', 'kenobi', 'kenosha', 'kentucky', 'kenzie', 'kept', 'kermit', 'kernel', 'kerry', 'kesha', 'keshawn', 'keshun', 'kestrel', 'ketchup', 'kevin', 'kevinsmith', 'key', 'keyair', 'keyboard', 'keyshawn', 'keyshia', 'keystone', 'kfc', 'kfromtheg', 'khaki', 'khaled', 'khalifa', 'khalifas', 'khan', 'khatam', 'khloe', 'khmer', 'khole', 'khorasan', 'kia', 'kiara', 'kick', 'kicked', 'kicker', 'kickin', 'kicking', 'kicks', 'kid', 'kidd', 'kiddin', 'kidding', 'kidnap', 'kidnapped', 'kidnapping', 'kids', 'kiem', 'kierstens', 'kik', 'kike', 'kiking', 'kill', 'killa', 'killaaaa', 'killas', 'killed', 'killer', 'killery', 'killin', 'killing', 'killlllllas', 'killyouself', 'kim', 'kimball', 'kimlau', 'kimono', 'kimorablac', 'kind', 'kinda', 'kindergarten', 'kindly', 'kindness', 'kinfolk', 'king', 'kingdom', 'kinglute', 'kings', 'kinky', 'kintes', 'kip', 'kiper', 'kirk', 'kiss', 'kissed', 'kisses', 'kissin', 'kissing', 'kit', 'kitchen', 'kite', 'kitkat', 'kitten', 'kitty', 'kittycopter', 'kkeldalegend', 'kkk', 'kkuzv5pddr', 'klain', 'klcsgy9jpw', 'kleur', 'kleurenblind', 'klokus', 'kmm', 'kncwbpc8ez', 'knee', 'knees', 'knew', 'knicks', 'knife', 'knight', 'kno', 'knob', 'knock', 'knockdown', 'knocked', 'knockout', 'knotch', 'know', 'knowin', 'knowing', 'knowledge', 'knowledgeable', 'known', 'knows', 'knoww', 'knowww', 'knowwwww', 'knowyourplace', 'knoxville', 'knw', 'knwin', 'ko', 'koala', 'kobane', 'kobe', 'koed', 'kok', 'kombat', 'kompas', 'komt', 'kong', 'kool', 'koolqueeftribute', 'korean', 'kors', 'koskinen', 'koula', 'kourtney', 'kp', 'krabby', 'kratataaaaa', 'kreme', 'kris', 'krispy', 'krug', 'krunkchip', 'kseminole', 'kthxbai', 'kufar', 'kunis', 'kunta', 'kurdish', 'kuroda', 'kurt', 'kush', 'kushite', 'kushy', 'kuvq8upwuw', 'kuwait', 'kuz', 'kvlpjsua4f', 'label', 'labelling', 'labor', 'lace', 'lack', 'lacs', 'lactose', 'lacy', 'lad', 'laden', 'ladies', 'ladrones', 'lads', 'lady', 'ladybitch', 'ladykimora', 'laff', 'lag', 'lagerfeld', 'lahhh', 'lahi', 'lake', 'lakeerie', 'lakers', 'lalagay', 'lamar', 'lamb', 'lambdamoo', 'lame', 'lameapocalypses', 'lamee', 'lamest', 'laminate', 'lamo', 'lamp', 'lan', 'lana', 'lancaster', 'lance', 'land', 'landfill', 'lane', 'language', 'lansing', 'lantern', 'lap', 'lapdances', 'laporta', 'laptop', 'lara', 'large', 'lari', 'larry', 'lasagna', 'lash', 'lassen', 'lassie', 'last', 'lasthurrahthendietstarts', 'lastnight', 'lat', 'late', 'lately', 'later', 'latest', 'latex', 'latifah', 'latin', 'latina', 'latinas', 'latino', 'latte', 'latter', 'lattisaw', 'lauderdale', 'laugh', 'laughable', 'laughin', 'laughing', 'laughter', 'launch', 'launcher', 'laundry', 'lauren', 'lava', 'law', 'lawd', 'lawful', 'lawmaker', 'lawn', 'lawrence', 'laws', 'lawwwddd', 'lawyer', 'lay', 'layer', 'layin', 'laying', 'layover', 'lazy', 'lb', 'lbcc', 'lbe', 'lbj', 'lbr', 'lbs', 'lbum', 'lbvs', 'le', 'lea', 'lead', 'leader', 'leadership', 'leading', 'leadoff', 'leads', 'leaf', 'league', 'leak', 'leaked', 'lean', 'leap', 'learn', 'learned', 'lease', 'leash', 'least', 'leather', 'leave', 'leaves', 'leavin', 'leb', 'lebouf', 'lebron', 'lebronjames', 'lech', 'lecture', 'led', 'ledbetter', 'leduff', 'ledzeppelin', 'lee', 'leech', 'lees', 'leevancleef', 'left', 'leftist', 'leftover', 'leg', 'legacy', 'legal', 'legalize', 'legend', 'legendary', 'legging', 'leggings', 'leggo', 'legion', 'legisl', 'legislation', 'legislature', 'legit', 'legitimately', 'legitimize', 'legs', 'leija', 'leisuuuure', 'lem', 'lemon', 'lemonade', 'lenny', 'lent', 'lentyour', 'leo', 'leoparcy', 'leopard', 'leotard', 'leprechaun', 'lerner', 'lesbian', 'lesbians', 'lesbo', 'less', 'lesser', 'lesserfilms', 'lesson', 'lester', 'let', 'lethal', 'lets', 'letsgetit', 'letsgoyankees', 'letsmakeitawkward', 'letter', 'lettin', 'lettuce', 'levar', 'level', 'levine', 'levitate', 'leviticus', 'lewis', 'lexii', 'lexus', 'lexy', 'lgbtq', 'lha', 'lhha', 'lhhatl', 'lhhatlreunion', 'lhhny', 'li', 'liam', 'liar', 'liars', 'lib', 'liberal', 'liberal1', 'liberal2', 'liberalism', 'liberals', 'liberation', 'liberty', 'libra', 'library', 'libs', 'libtard', 'libtards', 'license', 'lichter', 'lick', 'licker', 'lickin', 'lid', 'lie', 'lien', 'lies', 'liesaboutvinscully', 'life', 'lifechanging', 'lifecomplete', 'lifelong', 'lifemade', 'lifes', 'lifestyle', 'lifetime', 'lift', 'lifted', 'liftin', 'liga', 'light', 'lightbill', 'lighten', 'lighter', 'lights', 'lightskin', 'lightskinned', 'lightskins', 'lightup', 'lightweight', 'like', 'likeeee', 'likely', 'likes', 'liking', 'likka', 'likkadawgg', 'lil', 'lilith', 'lilly', 'lilsmokey', 'limb', 'limelight', 'limewire', 'limit', 'limited', 'limousine', 'limp', 'lin', 'linc', 'linch', 'lincoln', 'linda', 'lindsay', 'line', 'linebacker', 'lineman', 'lineup', 'ling', 'lingerie', 'lingo', 'linguine', 'linguini', 'linin', 'link', 'linked', 'linkedin', 'linkiden', 'links', 'linux', 'lion', 'lip', 'lipgloss', 'lips', 'lipstick', 'liq', 'liquid', 'liquior', 'liquor', 'lisa', 'lisp', 'list', 'listen', 'listener', 'listening', 'lists', 'lit', 'literally', 'litetally', 'litter', 'litterally', 'little', 'littledebbie', 'liu', 'liv', 'live', 'lively', 'livestock', 'livestream', 'livid', 'livin', 'living', 'livinthedream', 'lizard', 'll', 'llab', 'llewyn', 'llive', 'lls', 'lm', 'lma', 'lms', 'lnqnpchcia', 'lnyhbt', 'lo', 'load', 'loaded', 'loaf', 'loan', 'lob', 'lobby', 'lobster', 'local', 'locally', 'location', 'lock', 'lockdown', 'locker', 'loco', 'log', 'logan', 'logic', 'logical', 'logo', 'lohan', 'lois', 'lol', 'lola', 'loll', 'lollis', 'lollol', 'lolnot', 'lolol', 'lololol', 'lolololol', 'lolrt', 'loltrash', 'lolwe', 'lolz', 'london', 'lonely', 'loner', 'long', 'longer', 'longhorn', 'longlive', 'longlivelilray', 'longway', 'lonnie', 'look', 'lookatathehood', 'looke', 'looked', 'lookie', 'lookin', 'looking', 'lookout', 'looks', 'lool', 'loom', 'looney', 'looong', 'looooool', 'looove', 'loop', 'loophole', 'loose', 'loosen', 'looter', 'lop', 'lopsided', 'lor', 'lord', 'lorde', 'lords', 'lordwillin', 'los', 'losangeles', 'lose', 'loser', 'losing', 'loss', 'lost', 'lot', 'lotion', 'lots', 'lotta', 'lottery', 'lotto', 'lou', 'loud', 'loudly', 'loudmouth', 'louis', 'louisiana', 'louisville', 'louisvillepurge', 'lounge', 'lous', 'louse', 'lousiville', 'lov', 'love', 'loveandhiphop', 'lovee', 'loveeee', 'lovehim', 'loveit', 'lovely', 'lover', 'loves', 'lovin', 'loving', 'lovingly', 'low', 'lowe', 'lower', 'lowkey', 'lowlife', 'lowww', 'lowwwww', 'lox', 'loy', 'loyal', 'loyallll', 'loyalty', 'lozewoorden', 'lp', 'lpptofmj5r', 'lrt', 'lsd', 'lsu', 'lt', 'ltao', 'ltimahora', 'lube', 'lucas', 'luck', 'luckily', 'lucky', 'lucy', 'luh', 'luhv', 'luke', 'lul', 'lunch', 'luncheon', 'lung', 'lupe', 'lure', 'lurk', 'lurkin', 'lustboy', 'lutsen', 'luu', 'luuuuube', 'luuuuuuv', 'luv', 'luvv', 'lux', 'luxury', 'luz', 'lv', 'lvg', 'lydia', 'lyfe', 'lyin', 'lyinest', 'lying', 'lyingggggg', 'lynch', 'lynchberg', 'lyric', 'lyrical', 'lyrically', 'lyricsyouliketoscream', 'lyte', 'maaco', 'maar', 'maas', 'mac', 'macdonalds', 'machine', 'macin', 'mack', 'macklemoore', 'macklemore', 'macs', 'macy', 'mad', 'madam', 'madd', 'madddd', 'madden', 'maddiston', 'made', 'madea', 'madison', 'madisonlmao', 'madonna', 'maegan', 'magaluf', 'magazine', 'maggie', 'maggot', 'magic', 'magical', 'magically', 'magician', 'magine', 'magnet', 'magnum', 'magov', 'mah', 'mahammad', 'mahanain', 'maher', 'mai', 'maidana', 'maiden', 'mail', 'main', 'maine', 'mainestatepier', 'mainline', 'mainly', 'maintain', 'majesty', 'majjinn', 'major', 'majority', 'majorleauge', 'mak', 'make', 'makem', 'maken', 'maker', 'makerr', 'makes', 'makeshitup', 'makeup', 'makin', 'making', 'mala', 'malcolm', 'male', 'malibus', 'malicious', 'mall', 'malnourish', 'malone', 'malt', 'malware', 'malzeno', 'mam', 'mama', 'mamma', 'mammal', 'mammy', 'man', 'manage', 'management', 'manager', 'manages', 'manbooty', 'manchurian', 'mandate', 'mandatory', 'mandela', 'mandingo', 'mandingos', 'mane', 'manga', 'mangia', 'mango', 'manhood', 'maniac', 'manly', 'mann', 'manner', 'manning', 'mannn', 'mannnnn', 'mannnnnn', 'manpower', 'mans', 'mansion', 'mansionelan', 'manson', 'mansplaining', 'mantis', 'mantle', 'manual', 'manually', 'manure', 'many', 'manziel', 'manziels', 'maoists', 'maple', 'maplerow', 'maqdisi', 'mar', 'marack', 'marathon', 'marble', 'march', 'marchmadness', 'marco', 'marcus', 'mardi', 'margin', 'maria', 'mariah', 'mariano', 'marie', 'marijauna', 'marijuana', 'marilyn', 'marinated', 'mariners', 'marines', 'mark', 'marker', 'market', 'marks', 'marley', 'marlins', 'marriage', 'married', 'marriott', 'marry', 'mars', 'marsh', 'marshall', 'marshmallow', 'mart', 'martens', 'martha', 'martin', 'martinez', 'martini', 'marvel', 'mary', 'maryjane_militant_que', 'maryland', 'masahiro', 'mascato', 'mascot', 'maserati', 'mash', 'mask', 'mason', 'masque', 'mass', 'massachusetts', 'massacred', 'massage', 'massive', 'master', 'masterchef', 'masterchefjunior', 'masturbate', 'mat', 'match', 'matching', 'mate', 'material', 'materialize', 'math', 'matress', 'matt', 'matter', 'matthew', 'matthias', 'mattress', 'mattwho', 'mature', 'maury', 'maven', 'maverick', 'mavtv500', 'mawnin', 'max', 'maxi', 'maximum', 'may', 'maya', 'mayaangelou', 'maybe', 'mayday', 'mayne', 'mayo', 'mayonnaise', 'mayor', 'mayoral', 'mayweather', 'mayweathercotto', 'mc', 'mcbitcherson', 'mcbob', 'mccain', 'mccarthy', 'mccoy', 'mcdonald', 'mcdonalds', 'mcdoubles', 'mcflurries', 'mcflurry', 'mcgirt', 'mcgrath', 'mckean', 'mcknight', 'mcm', 'mcnab', 'mcnair', 'mcoy', 'mcrib', 'mcs', 'mcshay', 'mcsully', 'me', 'mea', 'meadow', 'meal', 'mean', 'meaner', 'meaning', 'means', 'meant', 'meanwhile', 'measly', 'measure', 'meat', 'meatloaf', 'med', 'medal', 'medellin', 'media', 'medical', 'medicine', 'mediocre', 'medium', 'mee', 'meech', 'meeedd', 'meeeeee', 'meek', 'meer', 'meet', 'meetin', 'meeting', 'meez', 'meg', 'mega', 'megatron', 'meghan', 'mei', 'meijer', 'mein', 'mel', 'melisa', 'melky', 'mellie', 'mello', 'mellows', 'melo', 'melody', 'melt', 'melted', 'melts', 'member', 'members', 'meme', 'memo', 'memorabilia', 'memorial', 'memorization', 'memorize', 'memory', 'memphis', 'men', 'menace', 'menino', 'mental', 'mentality', 'mentallity', 'mentally', 'menthols', 'mention', 'mentions', 'mentor', 'menu', 'meow', 'mercedes', 'mercurian', 'mercy', 'merica', 'meridian', 'merit', 'merk', 'mermaid', 'mernin', 'merry', 'mervin', 'meshal', 'mesquito', 'mess', 'message', 'messagetomyfuturespouse', 'messi', 'messier', 'messin', 'messing', 'messinwithsasquach', 'messy', 'messyyy', 'met', 'metairie', 'metal', 'metaphor', 'meter', 'meth', 'metro', 'mets', 'mewtwo', 'mexcian', 'mexican', 'mexicano', 'mexicans', 'mexico', 'mf', 'mfa', 'mfer', 'mfers', 'mfka', 'mfs', 'mfvcmym', 'mfw', 'mg', 'mg2sre0jr8', 'mgr', 'mh46xxnu0n', 'mhm', 'mhmm', 'mhmmm', 'mi', 'mi6', 'mia', 'miami', 'mic', 'mich', 'michael', 'michaelangelo', 'michelle', 'michigan', 'michiganst', 'michn', 'michone', 'mick', 'mickey', 'microphone', 'microsoft', 'microwave', 'microwaveable', 'mid', 'middle', 'mideast', 'midget', 'midlaner', 'midnight', 'midsection', 'midsole', 'midterm', 'midwest', 'mifvotd', 'might', 'mighta', 'mignon', 'migos', 'migosconcert', 'migrate', 'migratory', 'miguel', 'mike', 'mikebrown', 'mikepps', 'mikes', 'mikey', 'mil', 'mila', 'milca', 'mild', 'mildly', 'milds', 'mile', 'milesthompson', 'miley', 'milf', 'miliband', 'militant', 'military', 'militarymonday', 'militia', 'milk', 'milkshake', 'milkshakes', 'milkthecity', 'mill', 'miller', 'million', 'millionaire', 'millions', 'millon', 'milwaukee', 'milwaukie', 'mimi', 'mimiblargh', 'mimosa', 'min', 'minaj', 'mind', 'minded', 'mindless', 'mine', 'mineeeee', 'mines', 'mingling', 'mini', 'minimum', 'minivan', 'minnesota', 'mino', 'minor', 'minority', 'mins', 'minstrel', 'mint', 'mints', 'mintue', 'minus', 'minute', 'minutes', 'miracle', 'mirajane', 'miranda', 'mirror', 'mis', 'mischief', 'misdeed', 'miserable', 'misery', 'misfit', 'misplace', 'miss', 'missed', 'misses', 'missile', 'mission', 'mississippi', 'missouri', 'misspell', 'missy', 'mistake', 'mistaken', 'mistakes', 'mistress', 'mitchell', 'mite', 'mitt', 'mix', 'mixed', 'mixtape', 'mixtapes', 'mj', 'mk', 'mlb', 'mlbtheshow12', 'mlk', 'mlrt', 'mma', 'mmkay', 'mmm', 'mmmh', 'mn', 'mn0tf3dgo7', 'mnage', 'mnf', 'mngop', 'mnleg', 'mo', 'moan', 'moanin', 'moaning', 'moar', 'mob', 'mobb', 'mobbin', 'moc', 'mocha', 'mock', 'mocking', 'mockingjay', 'mode', 'model', 'models', 'moderate', 'moderation', 'moderator', 'modern', 'moe', 'moet', 'mofos', 'mohawk', 'moisture', 'moke', 'mold', 'molester', 'molly', 'mom', 'moma', 'moment', 'momma', 'mommy', 'mommymonday', 'moms', 'momsdemand', 'mon', 'mona', 'monae', 'monday', 'mondays', 'money', 'mong', 'mongoloid', 'monistat', 'monkey', 'mono', 'monogamous', 'monroe', 'monsta', 'monster', 'monstertape', 'montana', 'month', 'months', 'montlake', 'montreal', 'monument', 'monumental', 'moochie', 'mood', 'moody', 'mook', 'mooks', 'moon', 'moonlit', 'moons', 'moooob', 'moor', 'moors', 'moose', 'moovin', 'mop', 'moral', 'more', 'moree', 'morele', 'morello', 'moreno', 'morestill', 'morgan', 'mornin', 'morning', 'morningjoe', 'moron', 'morph', 'mortal', 'mortality', 'mosa', 'moscato', 'mosen', 'moses', 'mosh', 'moshing', 'moslems', 'mosque', 'mosquito', 'most', 'mostly', 'motel', 'motha', 'mothafucka', 'mothafuckin', 'mother', 'motherfucker', 'motherfuckin', 'motherfucking', 'motif', 'motion', 'motivation', 'motor', 'motown', 'motto', 'mouf', 'moulinyan', 'mount', 'mountain', 'mourn', 'mouse', 'moustache', 'mouth', 'mouthshe', 'mouthy', 'move', 'movement', 'moveoutmyway', 'movie', 'movin', 'moving', 'mower', 'mozzarella', 'mquina', 'mrs', 'ms', 'msg', 'msnbc', 'mt', 'mtn', 'mtvhottest', 'mtzra', 'mu', 'muafucka', 'muammar', 'much', 'muching', 'mud', 'mudda', 'muder', 'muffie', 'mufucka', 'mufuckas', 'mufuckin', 'mug', 'mugg', 'mugshot', 'muh', 'muhammed', 'muhfuckas', 'muhfuckin', 'muhhfuckin', 'mukk3bottu', 'mulatta', 'mulatto', 'mullet', 'mulligan', 'multi', 'multiculturalism', 'multiple', 'mum', 'mumbo', 'mummy', 'munch', 'munchies', 'munching', 'mundy', 'munnaaaa', 'murda', 'murder', 'murderer', 'murderin', 'murderous', 'murdock', 'murica', 'murk', 'murky', 'murphy', 'murray', 'mus', 'muscle', 'muscular', 'museum', 'mush', 'mushrooming', 'mushy', 'music', 'musical', 'muslim', 'muslimah', 'muslims', 'mussel', 'must', 'musta', 'mustache', 'mustang', 'mustard', 'mustash', 'musts', 'musty', 'mutant', 'mutation', 'mute', 'mutes', 'mutha', 'muthafucka', 'muthafuckas', 'muthafuckin', 'muthafukin', 'muthaufckin', 'mutt', 'mutual', 'muxtc1fhmh', 'muzik', 'muzzie', 'muzzies', 'muzzy', 'mvp', 'mw3', 'mx', 'my', 'mybad', 'myboy', 'mybrotherskeeper', 'mygirlfriendnotallowedto', 'myriad', 'myself', 'myspace', 'mysteries', 'mysteriously', 'myth', 'mythical', 'mythological', 'mythology', 'naawww', 'nab', 'nack', 'nada', 'nae', 'nag', 'nagenoeg', 'nah', 'nahh', 'nahhh', 'nahhhhh', 'nail', 'nails', 'nair', 'naira', 'naive', 'nakalagay', 'naked', 'nam', 'name', 'nametags', 'nan', 'nanette', 'nannie', 'nanny', 'nansemond', 'naomi', 'nap', 'napa', 'napk', 'napoli', 'nappy', 'nar', 'nas', 'nascar', 'nascara', 'nashville', 'nasty', 'nat', 'natalie', 'nate', 'nathan', 'nathaniel', 'nation', 'national', 'nationalcatday', 'nationalcomingoutday', 'natitude', 'native', 'nato', 'natsukawa', 'natural', 'naturalized', 'naturally', 'nature', 'naughty', 'navy', 'naw', 'nawl', 'nawwww', 'naybahoods', 'nazi', 'nb', 'nba', 'nbc', 'nbkhcg0bzqcan', 'nbombs', 'nbs', 'nc', 'ncaa', 'nd', 'ndhqmn3lvu', 'ne', 'neal', 'near', 'nearly', 'neat', 'nebraska', 'necessarily', 'necessary', 'necessity', 'neck', 'ned', 'need', 'needa', 'needasnickersanda2piece', 'needed', 'needle', 'needs', 'needy', 'neeeeed', 'negative', 'negativity', 'negro', 'negroes', 'negros', 'neighbor', 'neighborhood', 'neil', 'neill', 'neillsville', 'neither', 'nelly', 'nelson', 'nem', 'nemo', 'neo', 'neon', 'neonics', 'nephew', 'nephews', 'nerd', 'nerdy', 'nerve', 'nervous', 'nesha', 'ness', 'nest', 'net', 'neta', 'netflix', 'netherlands', 'nets', 'network', 'networking', 'networks', 'neus', 'neutron', 'neva', 'nevada', 'nevadahumpday', 'never', 'neverforget', 'neverlovingsomeoneagain', 'nevermind', 'neversaiditwasabadthing', 'new', 'newborn', 'newest', 'newhart', 'newly', 'news', 'newscenter', 'newsflash', 'newton', 'newyork', 'newyorkgirlsbelike', 'next', 'nextttt', 'neymar', 'nfc', 'nfg', 'nfl', 'nfn', 'ng', 'niagra', 'nicca', 'niccas', 'nice', 'nicer', 'nicholas', 'nick', 'nickelback', 'nicki', 'nickname', 'nicky', 'nicole', 'nie', 'niece', 'niet', 'niether', 'nig', 'niga', 'nigca', 'niger', 'nigeria', 'nigerian', 'nigg', 'nigga', 'niggaa', 'niggaaaaaa', 'niggad', 'niggah', 'niggahs', 'niggas', 'niggasuprized', 'niggaz', 'nigger', 'niggerize', 'niggerous', 'niggers', 'niggga', 'nigggas', 'nigggs', 'nigglet', 'nigglets', 'niggs', 'nigguh', 'nigguhs', 'niggur', 'niggy', 'nigha', 'nighas', 'night', 'nightclubs', 'nights', 'niglet', 'niglets', 'nigor', 'nigorprobz', 'nigra', 'nigs', 'nihhas', 'niiice', 'niiiieeegggaaa', 'nike', 'nikeporn', 'nikes', 'nikki', 'nikko', 'nile', 'nilly', 'nimrod', 'nina', 'nine', 'ninja', 'nino', 'ninooo', 'nintendo', 'nip', 'nipple', 'niqqa', 'niqqas', 'niro', 'nisa', 'nitc', 'nite', 'nitty', 'nj', 'njdevils', 'nl', 'nlcs', 'nlds', 'nno', 'no', 'noah', 'noamnesty', 'nobel', 'nobility', 'noble', 'nobody', 'nocturnal', 'noddin', 'node', 'nodejs', 'noexcuses', 'nofliter', 'nofrom', 'nog', 'noggas', 'nohomo', 'noi', 'noise', 'noisy', 'nolan', 'nomatter', 'nominate', 'nominee', 'nomo', 'nomore', 'non', 'none', 'noneeee', 'nonexistent', 'nonsense', 'nonstop', 'nonwhatsoever', 'noo', 'noodle', 'nooit', 'nook', 'nookie', 'noon', 'noonecares', 'nooo', 'noooo', 'nooooo', 'nooooooo', 'noooooooo', 'noose', 'nope', 'nopedo', 'nopeit', 'nor', 'noragrets', 'norma', 'normal', 'normally', 'norris', 'norte', 'north', 'northkorea', 'northside', 'northwestimperative', 'norwalk', 'nose', 'nosey', 'nosleep', 'not', 'notch', 'note', 'notfeeding', 'nothin', 'nothing', 'notice', 'notification', 'notion', 'notkook', 'notokay', 'notre', 'notsorry', 'nottin', 'nottinghill', 'nov', 'november', 'noveminember', 'now', 'nowadays', 'noway', 'nowb', 'nower', 'nowhere', 'nowitzki', 'nowplaying', 'nowwww', 'noyes', 'np', 'nra', 'nrmc483m', 'nsa', 'nshit', 'nsme', 'nt', 'nubile', 'nubuck', 'nude', 'nudes', 'nuestrabellezalatina', 'nuez', 'nuffin', 'nugga', 'nuggas', 'nugget', 'nugs', 'nuh', 'nuke', 'numb', 'numba', 'number', 'numerous', 'nun', 'nunez', 'nunn', 'nurse', 'nurturing', 'nusra', 'nut', 'nutella', 'nuthin', 'nuts', 'nuttin', 'nutts', 'nvm', 'nw', 'nwa', 'nwax', 'nwts', 'ny', 'nybo16rmsh', 'nyc', 'nye14', 'nylon', 'nymphos', 'nyomi', 'nypd', 'nyquil', 'obama', 'obamacare', 'obamas', 'obersturmfuhrer', 'obey', 'obgyn', 'obispo', 'obito', 'object', 'objective', 'obnoxious', 'obrien', 'observational', 'obsess', 'obsessed', 'obsession', 'obv', 'obvious', 'obviously', 'oc', 'ocare', 'occasion', 'occasionally', 'occupier', 'occupyslu', 'ocean', 'ocho', 'ock', 'ocsudvn5hy', 'october', 'od', 'odd', 'odds', 'ode', 'odee', 'odio', 'ods', 'of', 'ofay', 'off', 'offend', 'offense', 'offensive', 'offer', 'offering', 'office', 'officer', 'official', 'officially', 'officials', 'offseason', 'offset', 'oft', 'often', 'og', 'ogd', 'oh', 'ohgawd', 'ohh', 'ohhhhhh', 'ohio', 'ohioans', 'ohkay', 'ohwell', 'oi', 'oil', 'oily', 'oitnb', 'oja', 'ok', 'okay', 'okc', 'okiecops', 'okies', 'okkkk', 'oklahoma', 'okrah', 'ol', 'old', 'older', 'oldhead', 'oldpainting', 'oldyoung', 'ole', 'olive', 'olivia', 'ollusion', 'ollusions', 'olympics', 'omar', 'omari', 'omarion', 'omen', 'omer', 'omfg', 'omg', 'omgggg', 'omgggggggggg', 'oml', 'omm', 'omoide', 'omw', 'omy', 'on', 'on4s', 'ona', 'once', 'one', 'ones', 'ongesteld', 'onion', 'onlife', 'online', 'only', 'onlywantonenight', 'onlyy', 'onna', 'onnat', 'onset', 'onslaught', 'ont', 'onto', 'ontop', 'onvuqns7ht', 'onyur', 'oo', 'ooc', 'ooh', 'ook', 'oomf', 'oomfs', 'ooo', 'oooooo', 'ooooow', 'oop', 'oops', 'op', 'open', 'opening', 'openly', 'opens', 'openwide', 'operate', 'operation', 'opinion', 'opinionated', 'oplossing', 'opp', 'opportunity', 'oppose', 'opposite', 'oppress', 'oppressor', 'opps', 'ops', 'optimism', 'option', 'optreden', 'or', 'oral', 'orange', 'oranges', 'orangutan', 'oray', 'orb', 'orchids', 'order', 'ordered', 'orderin', 'ordinary', 'ore', 'oregon', 'oreo', 'oreos', 'organic', 'organization', 'organizer', 'orgasm', 'orian', 'oriental', 'orientation', 'origin', 'original', 'originally', 'orioles', 'orleans', 'orpik', 'orr', 'orton', 'os', 'osama', 'oscar', 'oscars', 'osi', 'osipbkpr9h', 'oss', 'ostrich', 'otakon', 'otaled', 'otf', 'otha', 'other', 'others', 'otherwise', 'othot', 'otl', 'otp', 'otters', 'otz0fgdvpr', 'ou', 'ouch', 'ouija', 'ounce', 'our', 'ours', 'out', 'outa', 'outback', 'outbreak', 'outchea', 'outdoor', 'outdoors', 'outfit', 'outgoing', 'outlast', 'outlook', 'outnumbered', 'outrage', 'outrageous', 'outside', 'outsidestop', 'outstanding', 'outta', 'outttta', 'ouuuuufffff', 'ova', 'oval', 'ovary', 'ove', 'over', 'overall', 'overbite', 'overboard', 'overdo', 'overdosing', 'overdue', 'overgrown', 'overlap', 'overlord', 'overly', 'overnight', 'overplay', 'overpower', 'overprice', 'overrate', 'overripe', 'oversized', 'overstate', 'oversteppin', 'overtime', 'overused', 'overwhelmed', 'ovi', 'oviedo', 'ovo', 'ovum', 'ow', 'owe', 'owens', 'owes', 'owgocjxpxs', 'owieee', 'owl', 'own', 'owne', 'owned', 'owner', 'owxtdrkwbc', 'oxycontin', 'oxymoron', 'oy', 'oyster', 'oz', 'ozawa', 'pac', 'paccage', 'pace', 'pacer', 'pacernation', 'paceys', 'pack', 'package', 'packed', 'packers', 'paco', 'pacsun', 'pad', 'paddy', 'padres', 'page', 'pagenaud', 'pager', 'pages', 'pahahaha', 'paid', 'pain', 'painful', 'painlessly', 'paint', 'paintbrush', 'painted', 'painting', 'paintings', 'pair', 'pajama', 'paki', 'pakistan', 'pakistani', 'pal', 'palace', 'palestinians', 'pallbearers', 'palm', 'palmer', 'palmers', 'paltrow', 'pam', 'pamaj', 'pan', 'panamonos', 'pancake', 'pancakes', 'pancreas', 'panda', 'panel', 'panera', 'pang', 'panhandle', 'panic', 'pannies', 'panomera', 'pansy', 'pant', 'pantera', 'panthers', 'pantiedropin', 'pants', 'panty', 'papa', 'paper', 'paperball', 'papi', 'papoose', 'pappadeaux', 'pappy', 'par', 'parachute', 'parade', 'paradise', 'paragraph', 'paramore', 'paranoid', 'parasite', 'parent', 'parental', 'parenting', 'paris', 'park', 'parker', 'parking', 'parks', 'parkside', 'parlay', 'parodies', 'parr', 'parseltounge', 'parsons', 'part', 'partake', 'partayyyy', 'partial', 'participating', 'particular', 'particularly', 'partner', 'partridge', 'party', 'pas', 'pasa', 'pass', 'passerby', 'passing', 'passion', 'passionate', 'password', 'past', 'pasta', 'paste', 'pastel', 'pastor', 'pat', 'patch', 'pathetic', 'patience', 'patient', 'patio', 'patr', 'patrick', 'patriot', 'patriots', 'patron', 'pats', 'pattern', 'patties', 'patty', 'pattyfuckingboges', 'pau', 'paul', 'paula', 'paulgeorge', 'pay', 'payback', 'paybacks', 'payday', 'payin', 'payment', 'paynextdoor', 'payroll', 'payton', 'pbo', 'pbs', 'pburg', 'pc', 'pcworld', 'pd', 'pdplive', 'pe', 'pea', 'peace', 'peaceful', 'peach', 'peaks', 'peanut', 'pear', 'pearl', 'peasant', 'pecan', 'pecker', 'peckerwood', 'peckin', 'pecs', 'pedestal', 'pedo', 'pedophile', 'pedro', 'peds', 'pee', 'peel', 'peep', 'peeps', 'peer', 'peeve', 'peezy', 'pegasus', 'peice', 'pelosi', 'pen', 'pence', 'pencil', 'penetrate', 'penetration', 'penguin', 'penis', 'penitentiary', 'penn', 'penne', 'pennsylvania', 'penny', 'penske', 'pentagon', 'people', 'peopletoavoid', 'peoplewhomademy2013', 'pep', 'pepe', 'pepper', 'peppering', 'peppermint', 'pepsi', 'per', 'percocet', 'percy', 'perf', 'perfect', 'perfection', 'perfectly', 'perform', 'performance', 'perfume', 'perhaps', 'period', 'periods', 'perk', 'perm', 'permanent', 'permanently', 'permission', 'perot', 'peroxide', 'perpetrate', 'perpetually', 'perplexed', 'perro', 'perry', 'persecu', 'persist', 'person', 'persona', 'personal', 'personality', 'personally', 'personhoes', 'perspective', 'peruse', 'peruvian', 'perved', 'perversion', 'peshmerga', 'pesky', 'pesten', 'pet', 'peta', 'petal', 'pete', 'peter', 'peterson', 'petite', 'petty', 'peyton', 'pf', 'pf2ypelyop', 'pg', 'pghisydeyb', 'phaedra', 'phalarope', 'phallic', 'phantom', 'pharaoh', 'pharmacist', 'phase', 'phelps', 'phenomenal', 'pheonix', 'phife', 'phil', 'philadelphia', 'phillip', 'phillips', 'philly', 'pho', 'phoenix', 'phone', 'phones', 'phonte', 'phony', 'photo', 'photobombing', 'photogenic', 'photographer', 'photography', 'photoset', 'photoshop', 'photoshopped', 'photoshopping', 'phrase', 'phuck', 'physical', 'physically', 'pic', 'piccolo', 'pice', 'pick', 'picka', 'picker', 'picket', 'pickett', 'pickin', 'pickle', 'pickme', 'pickup', 'picky', 'pics', 'picshatin', 'picslip', 'picture', 'pictured', 'pie', 'piece', 'pierce', 'piercing', 'piercings', 'pig', 'pigd', 'pigeon', 'pigfucking', 'pigment', 'pigs', 'piker', 'pile', 'pilgrim', 'pill', 'pillow', 'pillz', 'pilot', 'pimp', 'pimpchampaign', 'pimpin', 'pimpinnn', 'pin', 'pinche', 'pineapple', 'pineapples', 'pineda', 'ping', 'pink', 'pinky', 'pinto', 'pious', 'pipe', 'pirates', 'pirelli', 'pirlo', 'pisces', 'piss', 'pissed', 'pisses', 'pissin', 'pissing', 'pissinindabedassboy', 'pissrs', 'pissy', 'pistol', 'pistols', 'pit', 'pitch', 'pitcher', 'pitching', 'pitiful', 'pitt', 'pittsburgh', 'pity', 'pizza', 'pizzas', 'place', 'plagiarist', 'plaid', 'plain', 'plan', 'plane', 'planet', 'planks', 'planned', 'plano', 'plant', 'plantation', 'planted', 'plaq', 'plaquemine', 'plash', 'plasma', 'plastic', 'plate', 'platform', 'platinums', 'platter', 'play', 'playa', 'playboy', 'playe', 'played', 'player', 'playground', 'playin', 'playing', 'playinhell', 'playn', 'playoff', 'plays', 'plaza', 'pleadin', 'pleasant', 'please', 'pleased', 'pleaseee', 'pleaseoptionthistweetnow', 'pleasure', 'pledge', 'pleeeease', 'plenty', 'plm', 'plot', 'plotting', 'plow', 'ploy', 'pls', 'plug', 'plus', 'ply', 'plz', 'plzing', 'pm', 'pnd', 'po', 'poboy', 'pocket', 'poem', 'poetry', 'pogo', 'pogue', 'point', 'pointless', 'pointy', 'poison', 'pokemon', 'poking', 'pokis', 'polanco', 'polar', 'pole', 'poli', 'police', 'policy', 'polis', 'polish', 'polite', 'political', 'politician', 'politico', 'politics', 'poll', 'pollo', 'polls', 'pollution', 'polly', 'polo', 'poly', 'polygamist', 'polynesians', 'pom', 'pompous', 'poms', 'ponder', 'pong', 'ponk', 'pony', 'ponytail', 'ponzi', 'poo', 'pooci', 'pool', 'pooned', 'poop', 'pooped', 'poopin', 'poor', 'pooted', 'pop', 'popcorn', 'popeye', 'popeyes', 'poppadom', 'popped', 'popper', 'poppin', 'poppy', 'pops', 'popular', 'populated', 'popz', 'por', 'porch', 'porcha', 'pork', 'porkchop', 'porker', 'porn', 'pornhub', 'porno', 'pornographic', 'pornstars', 'port', 'porta', 'portable', 'portland', 'porto', 'portray', 'portsmouth', 'pos', 'pose', 'poser', 'posers', 'poses', 'posh', 'position', 'positive', 'positivity', 'possess', 'possessed', 'possession', 'possibility', 'possible', 'possibly', 'possum', 'post', 'posted', 'poster', 'postin', 'posts', 'pot', 'potassium', 'potato', 'potent', 'potentially', 'pothead', 'potter', 'potty', 'potus', 'pouch', 'pound', 'pounding', 'pour', 'pours', 'pov', 'pow', 'powder', 'powdered', 'power', 'powerofthep', 'powers', 'poythress', 'pp', 'ppl', 'ppppoppin', 'pr', 'practically', 'practice', 'prada', 'prairie', 'praise', 'prank', 'pray', 'prayer', 'prayers', 'prayin', 'praying', 'prc', 'pre', 'preach', 'preacher', 'preaches', 'preaching', 'precept', 'precious', 'precisely', 'predict', 'predictable', 'prediction', 'preezy', 'prefer', 'preferred', 'preferring', 'pregame', 'pregnancy', 'pregnant', 'prego', 'prejudice', 'prematurely', 'premier', 'premiere', 'prenup', 'preoccupy', 'prepare', 'preparing', 'preppy', 'prescription', 'presence', 'present', 'presentation', 'preservative', 'president', 'presidentialpounding', 'press', 'pressed', 'pressure', 'pretend', 'pretending', 'pretentious', 'prettier', 'pretty', 'prevent', 'preview', 'prey', 'prez', 'prg', 'price', 'priceless', 'prick', 'pricklypear', 'pride', 'primary', 'prime', 'primero', 'primo', 'prince', 'princess', 'principal', 'principle', 'principles', 'pringles', 'print', 'printed', 'priorities', 'prioritize', 'priority', 'prison', 'prisoner', 'privacy', 'private', 'privilege', 'privileged', 'prize', 'pro', 'proactive', 'probably', 'probation', 'probeert', 'probl', 'problem', 'probly', 'proboscis', 'probs', 'process', 'procrastination', 'procreate', 'prod', 'produce', 'produced', 'product', 'profane', 'profesional', 'professional', 'professionally', 'professor', 'professortrav', 'proficient', 'profile', 'profiling', 'program', 'progress', 'progressive', 'prohibition', 'project', 'projectdrugs', 'proliferation', 'prolli', 'prollu', 'prolly', 'prolyy', 'prom', 'promise', 'promised', 'promising', 'promo', 'promote', 'promoter', 'promotion', 'prone', 'pronoun', 'pronounce', 'proof', 'proofread', 'prop', 'propaganda', 'proper', 'properly', 'property', 'propery', 'proposal', 'propose', 'prosecute', 'prosecution', 'prosecutor', 'prospect', 'prosper', 'prostitute', 'protect', 'protection', 'protective', 'protecttheanimals', 'protest', 'protester', 'protocol', 'proton', 'proud', 'proudly', 'proudmom', 'prov', 'prove', 'proved', 'proven', 'provide', 'province', 'prozwartepieten', 'prude', 'ps3', 'ps4', 'psa', 'psh', 'psychiatry', 'psychic', 'psycho', 'psychology', 'psychotic', 'pt', 'ptv', 'pu', 'pub', 'pubeless', 'public', 'publicity', 'publicly', 'publish', 'publishes', 'publix', 'publixhoes', 'pucker', 'pudding', 'puddle', 'puedo', 'puerto', 'puff', 'pug', 'puiwlunbiz', 'puke', 'pull', 'pulled', 'pulledpork', 'pullin', 'pulling', 'pullout', 'pullz', 'pulsing', 'pummel', 'pummels', 'pump', 'pumpkin', 'pun', 'punch', 'punching', 'punctuation', 'pundit', 'punjab', 'punk', 'punks', 'punny', 'puntjebijpaaltje', 'pup', 'puppet', 'puppy', 'purchase', 'pure', 'purge', 'purnt', 'purple', 'purpletoy', 'purpose', 'purposely', 'purse', 'pursue', 'pus', 'push', 'pusha', 'pushy', 'puss', 'pussay', 'pussayyy', 'pussies', 'pusssy', 'pussy', 'pussyass', 'pussycreamed', 'pussyed', 'pussyfootin', 'pussypounded', 'pussys', 'pusxy', 'put', 'putin', 'puto', 'puts', 'putt', 'puttin', 'puzzy', 'pv18', 'pw', 'pwi', 'pygmie', 'pyhscopathic', 'pykjhqbp19', 'qtna', 'quad', 'quadraphonic', 'quads', 'quaff', 'quahog', 'quake', 'qualitaties', 'qualitest', 'quality', 'qualitywords', 'quan', 'quarterback', 'quasi', 'quavo', 'que', 'queeee', 'queefing', 'queen', 'queens', 'queer', 'queers', 'quench', 'queso', 'question', 'questionoftheday', 'questions', 'quibble', 'quicc', 'quick', 'quickly', 'quickness', 'quickscoping', 'quid', 'quiet', 'quietly', 'quintessential', 'quirk', 'quisiera', 'quit', 'quite', 'quiz', 'qulrtowmlb', 'quotable', 'quote', 'raaaayciss', 'rabchenko', 'raccoon', 'race', 'racee', 'races', 'rachel', 'rachet', 'racial', 'racism', 'racisme', 'racist', 'racistaf', 'racistischer', 'racists', 'rack', 'radiator', 'radical', 'radio', 'radiofreenorthwest', 'radius', 'radner', 'rafael', 'raff', 'rag', 'ragdoll', 'rage', 'raghead', 'ragheads', 'raging', 'raglyscrag', 'rahal', 'rahshauna', 'raid', 'raider', 'raiders', 'rail', 'railroad', 'rain', 'rainbow', 'raindrop', 'rainier', 'raise', 'rake', 'rally', 'rallycap', 'ralph', 'ram', 'ram1500', 'ramage', 'rambo', 'ramesh', 'rameshjadhav', 'ramlogan', 'ramos', 'rampage', 'rams', 'ran', 'ranch', 'rancher', 'rand', 'randell', 'randies', 'randle', 'random', 'randomly', 'randos', 'randpaul', 'randy', 'rangatang', 'range', 'rangel', 'ranger', 'rangers', 'rank', 'rant', 'rap', 'rape', 'raped', 'rapejihad', 'raping', 'rapist', 'rappe', 'rapper', 'rappin', 'rapping', 'raptor', 'rare', 'rarri', 'rascally', 'rashad', 'raspberry', 'raspy', 'rasta', 'rat', 'ratchet', 'ratcheticity', 'ratchetness', 'ratchets', 'ratchetttttt', 'rate', 'rated', 'rather', 'ratio', 'rattler', 'rattlesnake', 'raunchy', 'rauruw7my6niggah', 'rave', 'raven', 'raver', 'ravioli', 'raw', 'ray', 'rayrice', 'rays', 'razor', 'rb', 'rbi', 'rd', 're', 'rea', 'reaaallly', 'reach', 'react', 'reaction', 'read', 'reading', 'ready', 'real', 'realed', 'realest', 'realfat', 'realise', 'realist', 'reality', 'realize', 'reallife', 'reallly', 'really', 'realm', 'realniccasalute', 'realnigger', 'realtalk', 'realthreat', 'reason', 'reasonsiunfollowedyou', 'reasonswecantbetogether', 'reathie', 'rebel', 'rebellion', 'rebelscience', 'reblog', 'reblogged', 'reboot', 'rebound', 'rec', 'recap', 'receatter', 'recede', 'receipt', 'receive', 'recent', 'recently', 'receptacle', 'reception', 'recess', 'recieve', 'recipe', 'reckless', 'reclaim', 'recognition', 'recognize', 'recommend', 'recommended', 'reconciliation', 'record', 'recount', 'recovery', 'recruit', 'recruiting', 'recyclables', 'recycle', 'red', 'redbook', 'redd', 'redemption', 'redha', 'redhead', 'redman', 'redmeat', 'redneck', 'rednecks', 'reds', 'redskin', 'redskind', 'redskins', 'redskinsblow', 'redsox', 'redstwitterfam', 'reduce', 'reduced', 'reebok', 'reed', 'reedzy', 'reel', 'reelect', 'reevaluate', 'ref', 'refer', 'referee', 'reference', 'refers', 'refight', 'refill', 'reflect', 'reflection', 'reflex', 'reform', 'refrain', 'refresh', 'refund', 'refurbish', 'refuse', 'refuses', 'reg', 'regard', 'regardless', 'regent', 'reggie', 'regina', 'regional', 'regionally', 'register', 'registration', 'regret', 'regrets', 'regroup', 'regular', 'regularly', 'regulation', 'rehab', 'reich', 'reid', 'reilly', 'reina', 'reinforce', 'reject', 'rejectedpeanutsspecials', 'rejecting', 'relapse', 'relate', 'relationship', 'relative', 'relavent', 'relax', 'release', 'released', 'relevant', 'relief', 'relieve', 'religion', 'religious', 'relo', 'reluctantly', 'rely', 'remain', 'remains', 'remake', 'remark', 'remarkable', 'remastered', 'rematch', 'remember', 'remembers', 'remind', 'reminder', 'reminds', 'remix', 'remixes', 'remote', 'remov', 'remove', 'remy', 'rename', 'rene', 'renee', 'renegade', 'renew', 'reno', 'rent', 'rental', 'rep', 'repcon', 'repeat', 'repetitively', 'replace', 'replacement', 'replay', 'replied', 'reply', 'report', 'reportedly', 'reports', 'repossessed', 'reppin', 'repping', 'represent', 'representative', 'repressed', 'reprint', 'reptile', 'republican', 'republicano', 'republicans', 'repulse', 'request', 'require', 'requirement', 'rescue', 'research', 'resemble', 'reserve', 'reside', 'resident', 'resilient', 'resist', 'resisting', 'resolve', 'resort', 'respect', 'respectable', 'respectful', 'respectors', 'respecttheculture', 'respond', 'responds', 'response', 'responses', 'responsibility', 'responsible', 'rest', 'restau', 'restaurant', 'restorer', 'restrain', 'restraint', 'restrict', 'restricton', 'result', 'resume', 'resurrect', 'retake', 'retard', 'retarded', 'retards', 'retared', 'retarted', 'rethink', 'retire', 'retirement', 'retirin', 'retriever', 'retro', 'retrograde', 'return', 'returnthefavor', 'retweeettt', 'retweet', 'retweeting', 'retweets', 'reunion', 'revaluate', 'reveal', 'revelations', 'revenge', 'revenue', 'reverse', 'review', 'revis', 'revisit', 'revive', 'revlon', 'revoke', 'revolt', 'revolve', 'revolving', 'reward', 'rewind', 'rey', 'rft', 'rgetr4tv4s', 'rgiii', 'rhapsody', 'rhianna', 'rhinestoned', 'rhollor', 'rhyme', 'ri', 'rib', 'ribbon', 'rican', 'ricans', 'rice', 'rich', 'richard', 'richardson', 'richgirls', 'richie', 'rick', 'rickie', 'ricky', 'rico', 'rid', 'ride', 'rider', 'rides', 'ridicule', 'ridiculous', 'ridin', 'riding', 'ridley', 'riff', 'rig', 'rigged', 'rigghhht', 'right', 'righteous', 'rightful', 'righties', 'righttt', 'rigs', 'rihanna', 'rii', 'riiikkooo', 'rim', 'rind', 'ring', 'ringing', 'ringless', 'rino', 'riot', 'rip', 'ripped', 'rippin', 'riprick', 'rir', 'riri', 'riri22barbie', 'rise', 'risengrind', 'risk', 'rita', 'rite', 'ritta', 'ritz', 'rivalry', 'river', 'rivera', 'rivers', 'riverside', 'roach', 'road', 'roadrage', 'roadrunnin', 'roadside', 'roast', 'roasted', 'rob', 'robb', 'robber', 'robby', 'robe', 'robert', 'roberts', 'robertson', 'robin', 'robinson', 'robocop', 'rocawe', 'rock', 'rocket', 'rocketeer', 'rockin', 'rockwell', 'rocky', 'rod', 'rodgers', 'rodriguez', 'roe', 'roethlisberger', 'roger', 'rogue', 'rohan', 'roid', 'roids', 'rojo', 'rol', 'role', 'roleplayinggames', 'rolex', 'roll', 'rollen', 'roller', 'rollin', 'rolling', 'romanowski', 'romans', 'romantic', 'rome', 'romeo', 'romney', 'romo', 'ron', 'ronaldo', 'roni', 'ronkieshietta', 'ronny', 'ronson', 'roo', 'roof', 'rooftop', 'rook', 'rookie', 'room', 'rooseveltspbs', 'rooster', 'root', 'rooting', 'rope', 'roro', 'rosa', 'rosco', 'rose', 'roseanne', 'rosebud', 'rosecrans', 'roses', 'ross', 'rosta', 'roster', 'rot', 'rotate', 'rotation', 'roth', 'rotherdam', 'rothstein', 'rouge', 'rough', 'round', 'rout', 'route', 'rover', 'row', 'rowdy', 'rows', 'roxy', 'roy', 'royal', 'royals', 'royalty', 'roze', 'rt', 'rted', 'rts', 'rub', 'rubber', 'rubbin', 'rube', 'rubes', 'rubio', 'rubs', 'ruckus', 'rude', 'rudy', 'ruff', 'ruffle', 'rug', 'ruga', 'ruin', 'rujnu1l7t8', 'rule', 'ruler', 'rum', 'rumor', 'run', 'runner', 'runnin', 'running', 'runoff', 'runt', 'runway', 'rupaulsdragrace', 'rural', 'rush', 'rushlow', 'ruslan', 'russ', 'russel', 'russell', 'russia', 'russian', 'russians', 'russo', 'rust', 'rusty', 'rutba', 'rutgers', 'ruth', 'ruthless', 'ruths', 'ruuuuuuuuue', 'ruyeonusst', 'rwd', 'rwnj', 'ryan', 'rying', 'sable', 'sac', 'sacc', 'sack', 'sacker', 'sacrifice', 'sacto', 'sad', 'sadboy', 'sadr', 'sadtweet', 'sae', 'safe', 'sag', 'sage', 'saggin', 'sagittarius', 'sai', 'said', 'saiddd', 'sail', 'saimigi', 'saint', 'saira', 'saiyan', 'sake', 'sakurako', 'sakuras', 'salad', 'salamander', 'saldana', 'sale', 'salivate', 'salmon', 'salon', 'salsa', 'salt', 'saltine', 'salty', 'salute', 'salwar', 'sam', 'samba', 'same', 'sammich', 'sammiches', 'sammy', 'sample', 'san', 'sand', 'sandal', 'sanders', 'sandiego', 'sandler', 'sandos', 'sandpaper', 'sandpiper', 'sandusky', 'sandwhich', 'sandwich', 'sane', 'sang', 'sanity', 'sans', 'santa', 'santi', 'santos', 'sapete', 'sapiosexual', 'sapling', 'sapphire', 'saqlawiya', 'sarah', 'sarcastic', 'sarcophagus', 'sarkisian', 'sarry', 'sasquatch', 'sassy', 'sasuke', 'satan', 'satanic', 'satellite', 'satisfy', 'satisfying', 'saturday', 'sauce', 'saudi', 'sauerkraut', 'saul', 'sausage', 'saute', 'sav', 'savage', 'savages', 'save', 'saveahoe', 'saves', 'savin', 'saving', 'savior', 'saviour', 'saw', 'sawyer', 'saxon', 'say', 'saya', 'sayfie', 'sayin', 'saying', 'sayy', 'sbs', 'sc', 'scale', 'scally', 'scalp', 'scam', 'scan', 'scandai', 'scandal', 'scandalabc', 'scandalous', 'scanger', 'scar', 'scarce', 'scare', 'scared', 'scarlet', 'scarlett', 'scary', 'sccdyhe6ey', 'scene', 'scent', 'sch', 'schedule', 'scheelp', 'scheme', 'scheming', 'schieffer', 'schinder', 'schitt', 'schleeeeeeeeeeppppppp', 'schmanged', 'scho', 'scholar', 'scholarship', 'schoo', 'school', 'schooldance', 'schoolers', 'schools', 'schressful', 'schwa', 'sci', 'science', 'scientific', 'scientifically', 'scientist', 'scientists', 'scissor', 'scold', 'scooby', 'scoon', 'scoop', 'scooter', 'scootin', 'scooting', 'scope', 'score', 'scorecard', 'scoreless', 'scorpio', 'scorpion', 'scott', 'scoundrel', 'scout', 'scouting', 'scramble', 'scramblin', 'scrap', 'scrapehouse', 'scrappy', 'scrapy', 'scratch', 'scrawny', 'scream', 'screamed', 'screamin', 'screaming', 'screams', 'screen', 'screenname', 'screenshot', 'screenshots', 'screenshotting', 'screw', 'script', 'scripture', 'scro', 'scroll', 'scrolling', 'scrub', 'scrubs', 'scruffy', 'scuff', 'scully', 'sculpture', 'scum', 'scumbag', 'scumbags', 'scurl', 'se', 'sea', 'seafood', 'seagull', 'seahawks', 'seal', 'sean', 'search', 'searches', 'searching', 'seaside', 'season', 'seasonal', 'seat', 'seatbelt', 'seats', 'seattle', 'seaword', 'sec', 'second', 'secondary', 'secondline', 'seconds', 'secret', 'secretary', 'section', 'secure', 'security', 'see', 'seed', 'seeding', 'seeee', 'seeeeee', 'seeeexxaaaay', 'seein', 'seeing', 'seek', 'seem', 'seen', 'segal', 'segment', 'segregation', 'sel', 'selectionsunday', 'selective', 'selena', 'self', 'selfie', 'selfies', 'selfish', 'selibus', 'sell', 'sellin', 'selling', 'sellout', 'semester', 'semi', 'seminoles', 'semitic', 'sen', 'senate', 'senator', 'sence', 'send', 'sendin', 'sends', 'senior', 'sense', 'sensible', 'sensitive', 'sent', 'sentence', 'sentencefeel', 'sentimental', 'separate', 'separation', 'sept', 'september', 'septic', 'sequel', 'sequin', 'serena', 'serenade', 'serenity', 'serge', 'serial', 'series', 'serio', 'serious', 'seriously', 'serpas', 'serv', 'servant', 'serve', 'server', 'service', 'serving', 'sesame', 'sesh', 'session', 'sessy', 'set', 'setlist', 'settin', 'settle', 'settling', 'settlling', 'setup', 'seven', 'sevenone', 'seventeen', 'several', 'severe', 'severed', 'severely', 'sew', 'sewage', 'sewn', 'sex', 'sexhere', 'sexin', 'sexism', 'sextape', 'sexual', 'sexuality', 'sexually', 'sexy', 'seymour', 'sf', 'sfu', 'sha', 'shade', 'shades', 'shadow', 'shady', 'shaft', 'shag', 'shaggy', 'shake', 'shakespeare', 'shakespearean', 'shakey', 'shall', 'shallow', 'shamble', 'shame', 'shameless', 'shamu', 'shane', 'shang', 'shaniqua', 'shank', 'shannon', 'shanti', 'shantrell', 'shape', 'shaped', 'shapely', 'shaq', 'shaquita', 'sharana', 'share', 'sharia', 'sharing', 'shark', 'sharkeisha', 'sharkette', 'sharpen', 'sharpener', 'sharpie', 'sharply', 'sharpton', 'shatner', 'shave', 'shaved', 'shaven', 'shaving', 'shavonne', 'shaw', 'shawnda', 'shawne', 'shawty', 'shaylay', 'she', 'shea', 'shecums', 'shed', 'sheeba', 'sheeeeeit', 'sheen', 'sheeple', 'sheesh', 'sheet', 'sheeze', 'shego', 'sheheen', 'shelf', 'sheriff', 'sherman', 'shermans', 'sheryl', 'shes', 'shhhh', 'shhhhh', 'shi', 'shia', 'shiddd', 'shiesty', 'shift', 'shiii', 'shiiii', 'shiiiiiit', 'shiiittt', 'shimmy', 'shin', 'shine', 'shiner', 'shinin', 'shinjuku', 'ship', 'ships', 'shirley', 'shirt', 'shit', 'shitallysays', 'shitbag', 'shitfahdsays', 'shithell', 'shithole', 'shitless', 'shitmybosssays', 'shitstache', 'shittiest', 'shittin', 'shitting', 'shittttttt', 'shitty', 'shiver', 'shivermetimbers', 'shivsainik', 'shmediums', 'shmoke', 'shmoove', 'shmurda', 'sho', 'shock', 'shoe', 'shoes', 'sholl', 'shoning', 'shooby', 'shoot', 'shootas', 'shooter', 'shootin', 'shooting', 'shoots', 'shop', 'shoplifter', 'shopping', 'shore', 'short', 'shortcut', 'shorten', 'shortsaid', 'shortstop', 'shorty', 'shot', 'shots', 'shottie', 'shotty', 'should', 'shoulda', 'shoulder', 'shouldnt', 'shout', 'shoutout', 'shoutouts', 'shouts', 'shove', 'shovel', 'show', 'showed', 'shower', 'showin', 'showing', 'showman', 'shown', 'showofhands', 'shows', 'showtime', 'shrek', 'shri', 'shriek', 'shrimp', 'shrink', 'shroom', 'shrug', 'shrugs', 'shud', 'shuddup', 'shuffle', 'shuldnt', 'shunsha', 'shut', 'shutcho', 'shutdown', 'shutup', 'shutupcrybaby', 'shuuutt', 'shy', 'shylock', 'shyt', 'shyyyyyt', 'si', 'siah', 'sibling', 'sicc', 'sick', 'sicken', 'sicker', 'side', 'sidechiccs', 'sidechick', 'sideline', 'sidetrack', 'sideways', 'sidibe', 'sierra', 'sigh', 'sight', 'sigma', 'sigmas', 'sign', 'signedtothestreets2', 'significant', 'signing', 'signsofcockblockin', 'sike', 'sikorskey', 'silence', 'silencer', 'silences', 'silent', 'silk', 'silky', 'sill', 'silly', 'silver', 'silverdome', 'silverware', 'similar', 'simmons', 'simone', 'simons', 'simp', 'simpele', 'simple', 'simply', 'sims', 'simulation', 'simultaneously', 'sin', 'sinai', 'since', 'sincere', 'sincerely', 'sincethecubswonaworldseries', 'sindh', 'sinf', 'sing', 'singer', 'singh', 'singing', 'single', 'singlebecause', 'singles', 'sings', 'sink', 'sinked', 'sint', 'sip', 'sippin', 'sips', 'sir', 'siren', 'siri', 'sis', 'sissy', 'sista', 'sistas', 'sister', 'sit', 'sitcom', 'site', 'sites', 'sittin', 'sitting', 'situation', 'six', 'sixth', 'sixty', 'siyucgok8j', 'size', 'skank', 'skate', 'skateboarding', 'skater', 'skechers', 'sketch', 'sketchball', 'sketchers', 'ski', 'skidmarks', 'skier', 'skies', 'skill', 'skillet', 'skim', 'skimp', 'skin', 'skinedddd', 'skinnier', 'skinny', 'skiny', 'skip', 'skippy', 'skirt', 'skiseason', 'skit', 'skitdaddle', 'skits', 'skool', 'skrong', 'skrr', 'skull', 'skurred', 'sky', 'skylar', 'skyler', 'skype', 'skyrocket', 'skyscraper', 'slack', 'slag', 'slagveld', 'slam', 'slams', 'slander', 'slang', 'slant', 'slap', 'slapp', 'slapped', 'slapper', 'slappin', 'slapping', 'slaps', 'slash', 'slater', 'slaughter', 'slave', 'slavery', 'slaves', 'slaw', 'slay', 'slayed', 'slaying', 'sleazy', 'sleep', 'sleepin', 'sleeping', 'sleepover', 'sleept', 'sleeve', 'sleigh', 'slept', 'slice', 'slick', 'slid', 'slide', 'slides', 'slidin', 'sliding', 'slight', 'slightly', 'slim', 'slimy', 'slingin', 'slingy', 'slip', 'slippery', 'slippin', 'slipping', 'slit', 'slither', 'slobin', 'sloots', 'slop', 'slope', 'slopes', 'sloppily', 'sloppy', 'slot', 'sloth', 'slouch', 'slow', 'slowbros', 'slowly', 'slowstir', 'slumber', 'slur', 'slurp', 'slurpee', 'slurs', 'slush', 'slut', 'slutin', 'sluts', 'sluttish', 'slutttt', 'slutty', 'smack', 'smacked', 'smackin', 'small', 'smalltits', 'smalltownproblems', 'smart', 'smarter', 'smartphone', 'smash', 'smashed', 'smashes', 'smashin', 'smd', 'smdh', 'smell', 'smellin', 'smelly', 'smelt', 'smfh', 'smh', 'smile', 'smiles', 'smiley', 'smilin', 'smirnoff', 'smite', 'smith', 'smmfh', 'smoke', 'smoked', 'smoker', 'smokeweed', 'smokey', 'smokin', 'smokindrankin', 'smoking', 'smooth', 'smoothly', 'smoove', 'smoren', 'smuggled', 'smuggler', 'smurf', 'smut', 'snack', 'snag', 'snail', 'snake', 'snakes', 'snap', 'snapback', 'snapchat', 'snapchats', 'snapchatting', 'snapped', 'snappy', 'snatch', 'sneak', 'sneaker', 'sneaky', 'sneeze', 'sniff', 'sniffey', 'snip', 'snipe', 'sniper', 'snipers', 'snitch', 'snitching', 'snitchn', 'snl', 'sno', 'snob', 'snobby', 'snoop', 'snort', 'snortin', 'snotty', 'snow', 'snowboard', 'snowday2014', 'snowpatricksday', 'snowpiercer', 'snuggie', 'snuggle', 'so', 'soak', 'soaked', 'soap', 'soar', 'sob', 'sober', 'sobs', 'soca', 'socalledleader', 'soccer', 'social', 'socialist', 'socialize', 'society', 'sociological', 'sociopath', 'sock', 'socket', 'sockfetish', 'sockin', 'soda', 'sodaa', 'sodapop', 'sofa', 'soft', 'soften', 'software', 'soho', 'sol', 'solar', 'solarte', 'sold', 'soldier', 'sole', 'solely', 'solid', 'solidarity', 'solo', 'solution', 'solve', 'some', 'some1', 'somebody', 'someday', 'somehow', 'someone', 'somethin', 'something', 'somethings', 'sometime', 'sometimes', 'somewhat', 'somewhere', 'somwhere', 'son', 'sonbitch', 'sone', 'song', 'songs', 'songz', 'sonia', 'sonic', 'sonned', 'sonnen', 'sons', 'sonsof', 'sonsofanarchy', 'soo', 'soon', 'sooo', 'soooo', 'sooooo', 'soooooo', 'sooooooo', 'soooooooooo', 'sooooooooooon', 'sooooooooooooo', 'soort', 'sopa', 'sophie', 'sophisticated', 'sophomore', 'sorbet', 'sorcery', 'sore', 'sorrow', 'sorry', 'sorrynotsorry', 'sort', 'sorta', 'sosa', 'soto', 'sotu', 'souf', 'soul', 'soulja', 'soulless', 'sound', 'soundcloud', 'sounded', 'sounding', 'sounds', 'soundtrack', 'soup', 'sour', 'source', 'south', 'southcarolina', 'southchicago', 'southernshirt', 'southside', 'southwest', 'souza', 'sox', 'spa', 'space', 'spacecraft', 'spaceship', 'spaghetti', 'spam', 'spamblocked', 'spammed', 'span', 'spandex', 'spanish', 'spank', 'spankeddd', 'spankin', 'spare', 'spark', 'sparkle', 'sparkling', 'sparky', 'spartacus', 'spasm', 'spawn', 'spaz', 'spazz', 'spazzed', 'spazzin', 'speak', 'speaker', 'speakin', 'speaking', 'speaks', 'spear', 'special', 'specially', 'specialty', 'specie', 'specific', 'specifically', 'specky', 'spectacle', 'spectin', 'speculation', 'speech', 'speechless', 'speed', 'speicher', 'spell', 'spelling', 'spellingbee', 'spend', 'spending', 'sperm', 'spermicidal', 'sperry', 'spew', 'sphere', 'spic', 'spice', 'spics', 'spicy', 'spider', 'spiderman', 'spiders', 'spies', 'spike', 'spiller', 'spin', 'spinach', 'spine', 'spineless', 'spinelli', 'spinellis', 'spiral', 'spirit', 'spiritual', 'spiritualized', 'spirituals', 'spit', 'spiteful', 'spits', 'spittin', 'spitting', 'splash', 'split', 'splurge', 'spoil', 'spoiled', 'spoilt', 'sponge', 'spongebob', 'sponsor', 'spook', 'spooky', 'spookyblack', 'spookybroadway', 'spoopy', 'sport', 'sporting', 'sports', 'sportstop', 'spot', 'spouse', 'spout', 'spouting', 'spray', 'spread', 'spree', 'spring', 'springbreak', 'springtraining', 'sprint', 'sprite', 'sprout', 'spur', 'spurrier', 'spy', 'sq', 'squad', 'squaddd', 'squak', 'squander', 'square', 'squash', 'squat', 'squeal', 'squeeze', 'squid', 'squidward', 'squinty', 'squirrel', 'squirt', 'squirter', 'squirtin', 'squirting', 'squish', 'ss', 'sssshhhhh', 'st', 'sta', 'stab', 'stability', 'stable', 'stacey', 'stache', 'stack', 'stackin', 'stacy', 'stadium', 'staff', 'stafford', 'stage', 'stahp', 'stain', 'stainless', 'stair', 'stairs', 'stake', 'stale', 'stalk', 'stalker', 'stalking', 'stamps', 'stance', 'stand', 'standard', 'standing', 'standn', 'standwithcruz', 'stanford', 'stank', 'stankin', 'stanking', 'stanky', 'stapler', 'star', 'starbucks', 'starburst', 'stare', 'starin', 'staring', 'stark', 'starkville', 'starleasha', 'start', 'started', 'starter', 'starting', 'startmikevike', 'starts', 'starve', 'stash', 'stat', 'state', 'statement', 'staten', 'stateoftheunion', 'states', 'station', 'statist', 'statistic', 'statue', 'status', 'stay', 'stayin', 'stb', 'std', 'steady', 'steak', 'steakhouse', 'steal', 'stealin', 'stealing', 'steals', 'steam', 'steaming', 'steampunk', 'steek', 'steel', 'steelers', 'steez', 'stefani', 'stefanie', 'stefaniefuck', 'stein', 'steinbrenner', 'stem', 'stencil', 'stenigt', 'step', 'stepdad', 'steph', 'stephan', 'stephanie', 'stephen', 'stephenking', 'stephenson', 'stepping', 'stereo', 'stereotype', 'stereotypi', 'sterkte', 'sterling', 'stern', 'steroid', 'steubenville', 'steve', 'steven', 'stevie', 'stevm', 'stewart', 'stewie', 'stfu', 'sti', 'stick', 'sticker', 'stickers', 'stickin', 'stiff', 'stiffer', 'stigma', 'stilettos', 'still', 'stillwai', 'stim', 'sting', 'stingy', 'stink', 'stinky', 'stir', 'stock', 'stockboy', 'stocking', 'stockman', 'stockmantheliar', 'stockton', 'stoked', 'stole', 'stolenbases', 'stomach', 'stomp', 'stone', 'stoned', 'stoner', 'stonernation', 'stones', 'stoni', 'stony', 'stood', 'stooooned', 'stoop', 'stoopid', 'stop', 'stopit', 'stopitnow', 'stoppage', 'stopped', 'stoppin', 'stopping', 'stopsavinthesehoes', 'storage', 'store', 'stories', 'stormwarning', 'story', 'storybook', 'stove', 'stow', 'str8', 'str888', 'str8up', 'straggots', 'straight', 'strait', 'strand', 'strange', 'stranger', 'strap', 'strategy', 'strauss', 'strawberry', 'streak', 'stream', 'street', 'streets', 'streit', 'strength', 'stress', 'stressful', 'stressin', 'stressing', 'stretch', 'stribpol', 'strictly', 'strike', 'striker', 'string', 'strip', 'stripe', 'striped', 'stripey', 'stripper', 'stroke', 'stroll', 'strong', 'struggle', 'strvp', 'stu', 'stubborn', 'stubbs', 'stuck', 'stuckup', 'stud', 'student', 'studio', 'studly', 'studs', 'study', 'studying', 'stuf', 'stuff', 'stuffed', 'stuft', 'stump', 'stundentpainters', 'stunner', 'stunning', 'stunt', 'stuntcome', 'stuntin', 'stupid', 'stupidity', 'stupidspecs', 'sturgis', 'styl', 'style', 'stylish', 'suave', 'sub', 'subbin', 'subhuman', 'subject', 'sublet', 'subliminal', 'submarine', 'submarines', 'submission', 'subtweet', 'subtweeting', 'subtweets', 'subtweettweettweettweet', 'suburban', 'suburbs', 'subway', 'subwayseries', 'success', 'successful', 'succession', 'succulant', 'such', 'sucha', 'suchaprick', 'suck', 'sucka', 'sucked', 'sucker', 'suckin', 'sucking', 'suckingcock', 'sudden', 'suddenlink', 'suddenly', 'sue', 'suedelounge', 'suess', 'suffer', 'suffers', 'suffrage', 'sugapuss', 'sugar', 'suge', 'suggest', 'suggestion', 'suhh', 'suicide', 'suit', 'suite', 'sum', 'summ', 'summa', 'summer', 'summer2014', 'summertime', 'summfest', 'sumn', 'sumpin', 'sumthin', 'sumtime', 'sun', 'sunburnt', 'sunday', 'sunglass', 'sunnis', 'sunny', 'sunnyslope', 'sunrise', 'suns', 'sunset', 'sunshine', 'sup', 'supa', 'super', 'superb', 'superbowl', 'superficial', 'superhe', 'superhero', 'superheroes', 'superior', 'superman', 'supernatural', 'superweak', 'suplexin', 'supp', 'supper', 'support', 'supporter', 'supporters', 'supports', 'suppose', 'supposedly', 'supreme', 'suprised', 'sure', 'surely', 'surf', 'surfboard', 'surge', 'surgery', 'surprise', 'surprised', 'surprising', 'surround', 'survival', 'survive', 'survivor', 'susie', 'suspect', 'suspend', 'suspended', 'suure', 'suuuck', 'suzan', 'svsu', 'swaagg', 'swab', 'swag', 'swaggin', 'swaggot', 'swaggy', 'swagner', 'swags', 'swahili', 'swallow', 'swamp', 'swampscott', 'swap', 'swear', 'swearing', 'sweat', 'sweater', 'sweaty', 'sweep', 'sweet', 'sweetheart', 'swerve', 'swift', 'swiftly', 'swiggety', 'swim', 'swimm', 'swimming', 'swine', 'swing', 'swingers', 'swingin', 'swirl', 'swisher', 'swishers', 'switch', 'switcharoo', 'switchedatbirth', 'swoop', 'sword', 'swore', 'sws', 'sydney', 'symone', 'sympathize', 'sympathizer', 'sympathy', 'symphony', 'syndrome', 'syria', 'syrup', 'system', 'systematically', 'tab', 'table', 'tablet', 'tacal', 'tachiro', 'tack', 'tackle', 'tacky', 'taco', 'tacos', 'tad', 'tae', 'taffy', 'tag', 'tahmooressi', 'tail', 'tailgate', 'tainted', 'tajadas', 'take', 'takee', 'takendown', 'takin', 'taking', 'takis', 'tal', 'tale', 'talent', 'talented', 'tales', 'taliban', 'talk', 'talked', 'talker', 'talki', 'talkier', 'talkin', 'talkinfgalot', 'talking', 'talkn', 'tall', 'taller', 'talm', 'talmbout', 'tamar', 'tambout', 'tameka', 'tammy', 'tampon', 'tamu', 'tan', 'tanaka', 'tang', 'tangi', 'tangible', 'tank', 'tanks', 'tannehill', 'tansformers4', 'tap', 'tape', 'tapos', 'tapout', 'tar', 'tards', 'target', 'taria', 'tarrant', 'tarver', 'tas', 'tased', 'taser', 'task', 'taste', 'tasty', 'tat', 'tater', 'tator', 'tattoo', 'tattooed', 'tattoos', 'tatum', 'taught', 'taunt', 'taurus', 'tavares', 'taveras', 'tax', 'taxes', 'taxis', 'taxpayer', 'taylor', 'tbh', 'tbretreat', 'tbt', 'tcby', 'tch', 'tcha', 'tches', 'tcot', 'td', 'tdd', 'tdf', 'tdt', 'tdthoe', 'te', 'tea', 'teabag', 'teabagged', 'teabagger', 'teabaggers', 'teach', 'teacher', 'teachers', 'team', 'teamfluffnevabluff', 'teamignat', 'teamiphone', 'teamloudpack', 'teammate', 'teamrealbooty', 'teams', 'teamspade', 'teamsters', 'teanna', 'teaparty', 'teapot', 'tear', 'teardrop', 'tease', 'teasingcock', 'tebow', 'tec', 'tech', 'technically', 'tecoremix', 'ted', 'teddy', 'tee', 'teen', 'teena', 'teenage', 'teeth', 'teezy', 'tegen', 'tegenwoordig', 'teirra', 'teixeira', 'tekken', 'telephone', 'tell', 'tellin', 'telling', 'tells', 'telly', 'tellya', 'temp', 'temper', 'temperature', 'tempest', 'templars', 'temple', 'temples', 'temporarily', 'temporary', 'tempt', 'temptation', 'tempted', 'ten', 'tend', 'tendencies', 'tender', 'tendicies', 'tenn', 'tennessee', 'tennis', 'tense', 'tent', 'tep', 'terio', 'term', 'terrance', 'terrell', 'terrible', 'terrify', 'terror', 'terrorism', 'terrorist', 'terrorists', 'terryn', 'test', 'testicle', 'testing', 'tetherball', 'texan', 'texans', 'texas', 'text', 'texted', 'textin', 'texting', 'texts', 'tf', 'thaats', 'thai', 'than', 'thang', 'thanggg', 'thangs', 'thank', 'thankful', 'thankfully', 'thankgod', 'thankin', 'thanks', 'thanksgiving', 'thankyoupaulforconfirminglarry', 'thas', 'that', 'thatch', 'thatnycshit', 'thats', 'the', 'theater', 'thebird', 'theboondocks', 'thebooty', 'thedumbestteabagger', 'thee', 'theeeese', 'theft', 'thegoodlife', 'their', 'theirs', 'them', 'themlisten', 'themostannoyingthingsinlife', 'themselves', 'then', 'thenetherlands', 'thenna', 'theo', 'theophylline', 'theoriginals', 'theorist', 'theory', 'therapist', 'therapy', 'there', 'therealwesjames', 'therefore', 'theres', 'therfore', 'these', 'theses', 'theshield', 'thesis', 'thetime', 'thetoddshow', 'thew', 'thewhite', 'they', 'theyaintknow', 'theyre', 'thi', 'thick', 'thicke', 'thicker', 'thigh', 'thighs', 'thin', 'thincc', 'thing', 'thingamabob', 'things', 'thingsiliketodo', 'thingsnottodoonafirstdate', 'thingspeoplesay', 'thingy', 'thingys', 'thinh', 'think', 'thinker', 'thinkin', 'thinking', 'thinkn', 'third', 'thirst', 'thirsty', 'thirty', 'this', 'thisty', 'thls_tmufkc', 'thnk', 'thnx', 'tho', 'thoe', 'thomas', 'thong', 'thornton', 'those', 'thot', 'thotful', 'thotin', 'thots', 'thottie', 'thotting', 'thou', 'though', 'thought', 'thoughts', 'thousand', 'thr', 'threat', 'threat2', 'threaten', 'three', 'threesome', 'threw', 'thrill', 'thriller', 'thristy', 'throat', 'throb', 'throbbing', 'throne', 'through', 'throught', 'throw', 'throwbac', 'throwback', 'throwin', 'throwing', 'throws', 'thru', 'thrust', 'tht', 'thts', 'thug', 'thuged', 'thugga', 'thuggin', 'thugging', 'thugs', 'thumb', 'thumbelina', 'thump', 'thunder', 'thurmanmunson', 'thursday', 'thursdays', 'thursty', 'thus', 'thw', 'thx', 'thy', 'ti', 'ticckler', 'tick', 'ticked', 'ticker', 'ticket', 'tickets', 'tickle', 'tiddy', 'tide', 'tidyterrorist', 'tie', 'tieddd', 'tiene', 'tier', 'tierd', 'ties', 'tiff', 'tig', 'tiger', 'tigers', 'tight', 'tightey', 'tightness', 'tights', 'tiight', 'tiki', 'til', 'till', 'tillmans', 'tilt', 'tim', 'timatheracer', 'timber', 'timberlake', 'timbs', 'time', 'timelame', 'timeline', 'timin', 'timing', 'tina', 'tinder', 'ting', 'tingly', 'tink', 'tinker', 'tino', 'tinted', 'tiny', 'tioo', 'tip', 'tipped', 'tipsy', 'tire', 'tired', 'tires', 'tisei', 'tisk', 'tissue', 'tit', 'titanfall', 'titanium', 'titi', 'title', 'tits', 'tittie', 'tittielift', 'titty', 'tittyy', 'tk', 'tnt', 'to', 'toast', 'toaster', 'toby', 'tocj1wxryk', 'toco', 'today', 'todays', 'todd', 'toddler', 'toe', 'toed', 'toein', 'together', 'toilet', 'tokuda', 'tokyo', 'tol', 'told', 'tolerance', 'tolerate', 'tom', 'toma', 'tomb', 'tomboy', 'tomcat', 'tommy', 'tomorrow', 'toms', 'tomyfacebro', 'tomyfutureson', 'ton', 'tone', 'tong', 'tongue', 'tonight', 'tonite', 'tonk', 'tony', 'too', 'toodles', 'took', 'tookforever', 'tool', 'toooo', 'toosoon', 'toothbrush', 'toothed', 'toothless', 'toothpaste', 'tootsies', 'tooup', 'top', 'topic', 'topics', 'topicsnow', 'topless', 'toppy', 'tops', 'torch', 'tori', 'tornado', 'toronto', 'torre', 'tortilla', 'torture', 'torturebaseball', 'tosoon', 'toss', 'tot', 'total', 'totally', 'tote', 'toto', 'touch', 'touchdown', 'touchin', 'touching', 'tough', 'toughbreak', 'toughen', 'tougher', 'tour', 'tourching', 'tourist', 'tournament', 'tourney', 'tow', 'toward', 'towards', 'towel', 'tower', 'town', 'toy', 'tpnmbd6z', 'tpot', 'tqmmnmkcyn', 'tra', 'track', 'tractor', 'trade', 'traded', 'trading', 'traditional', 'traditionally', 'trae', 'traffic', 'tragic', 'trail', 'trailer', 'trailor', 'train', 'trainer', 'training', 'trainvideo', 'trait', 'traitor', 'traitorous', 'trannies', 'tranny', 'trannys', 'tranquillity', 'trans', 'transfer', 'transformer', 'transformthursday', 'transgression', 'translate', 'translates', 'translucent', 'transmission', 'transmitter', 'transplanted', 'trap', 'traphouseeee', 'traphouseeeeeeee', 'traphoussseeeee', 'trappin', 'traprinthions', 'trash', 'trashed', 'trashhhhhhhh', 'trashi', 'trashiest', 'trashlex', 'trashy', 'trassshhh', 'traumatize', 'trav', 'travel', 'travis', 'trays', 'traytray', 'trayvon', 'tread', 'treadmill', 'treason', 'treasure', 'treat', 'treater', 'treatment', 'treblinka', 'tree', 'trekgang', 'trel', 'tremendous', 'tremper', 'trench', 'trend', 'trending', 'trenton', 'trevaughn3', 'trey', 'tri', 'trial', 'tribe', 'tribute', 'trick', 'trickin', 'tricksnipers', 'tricycle', 'tried', 'trife', 'triffling', 'trifle', 'triflin', 'trifling', 'trigger', 'trigonometric', 'trill', 'trillion', 'trim', 'trinity', 'trinna', 'trip', 'triple', 'tripped', 'trippen', 'trippin', 'tripping', 'trippy', 'triton', 'trojan', 'troll', 'trolling', 'troop', 'troopthanks', 'trophy', 'trotin', 'trouble', 'tru', 'truck', 'trucker', 'trucks', 'true', 'truedetective', 'truefriendsarebasictogether', 'truefriendtuesday', 'truestory', 'truly', 'trump', 'trunk', 'trust', 'trusted', 'trustin', 'trustisbroken', 'trustissues', 'trustmyself', 'truth', 'truuu', 'truuuu', 'truuuuuu', 'try', 'tryanna', 'tryed', 'tryin', 'trying', 'tryn', 'tryna', 'trynna', 'tryout', 'trys', 'tshirt', 'tshirts', 'tsm', 'tsu', 'ttp', 'ttzsxbts74', 'tu', 'tuat', 'tub', 'tubby', 'tube', 'tubed', 'tuck', 'tuesday', 'tuh', 'tuku', 'tumble', 'tumblr', 'tuna', 'tunchei', 'tunchi', 'tune', 'tunechi', 'tunis', 'tunnel', 'tupac', 'tuq0uad8bk', 'turd', 'turf', 'turmoil', 'turn', 'turndown', 'turner', 'turnin', 'turning', 'turnip', 'turnipforwhat', 'turnout', 'turns', 'turnt', 'turnthatshituplouder', 'turntttt', 'turntup', 'turnup', 'turrible', 'turt', 'turtle', 'turtleneck', 'tutor', 'tutu', 'tv', 'tvd', 'tvrczo99oe', 'tvs', 'tw0jeexqty', 'twan', 'twat', 'twatchin', 'twatching', 'tweak', 'tweakin', 'tweaking', 'twee', 'tweekin', 'tweet', 'tweeter', 'tweeti', 'tweetin', 'tweeting', 'tweetn', 'tweets', 'tweety', 'twelve', 'twenty', 'twentysix', 'twerk', 'twerkin', 'twerking', 'twerkingi', 'twerktape', 'twerkteam', 'twice', 'twin', 'twink', 'twinkie', 'twinkies', 'twinkle', 'twins', 'twist', 'twisted', 'twitch', 'twitpic', 'twitta', 'twittah', 'twitter', 'twittering', 'twitters', 'two', 'twofucks', 'twtr', 'tx', 'txt', 'txtn', 'ty', 'tyga', 'tylar', 'tyle', 'tyler', 'tym2jd7h3z', 'typa', 'type', 'typebad', 'typeface', 'typical', 'typically', 'tyreon', 'tyrese', 'tyrone', 'tyson', 'tyxhqzqnqr', 'uber', 'ucf', 'uchida', 'uchiha', 'uckin', 'ucla', 'ud', 'udigg', 'udonis', 'ueqoeylafp', 'uf', 'ufcs', 'ugg', 'uggboots', 'uggs', 'ugh', 'uglass', 'ugliest', 'ugly', 'uglyass', 'uh', 'uhh', 'uhhee', 'uhhh', 'uhm', 'uighurs', 'uimf6sdi', 'uit', 'uj721fmsxb', 'uk', 'uknow', 'ull', 'ultimate', 'ultimately', 'ultra', 'ultraviolence', 'um', 'umbrella', 'umightnotgetin', 'umm', 'ummmm', 'umpire', 'umps', 'un', 'una', 'unabashed', 'unanimous', 'unarm', 'unarmed', 'unattended', 'unattractive', 'unbelievable', 'unblock', 'unbothered', 'unbutton', 'unc', 'uncalled', 'uncanny', 'unchained', 'uncircumcised', 'uncivilised', 'uncivilized', 'unclaimed', 'uncle', 'unclean', 'uncletweet', 'uncomfortable', 'unconstitutional', 'uncouth', 'undeniable', 'under', 'underachieve', 'underage', 'undercover', 'underground', 'undermines', 'underperformance', 'understand', 'understanding', 'understood', 'underwear', 'underwood', 'undignified', 'uneaten', 'uneducated', 'unemployed', 'unexceptional', 'unexplainable', 'unfair', 'unfaithful', 'unfilling', 'unfollow', 'unfollowed', 'unfollowing', 'unforgiving', 'unfortunate', 'unfriended', 'unfriendly', 'unfunny', 'ungrateful', 'ungreatful', 'unhealed', 'unhinge', 'unicorn', 'uniform', 'unify', 'uninformed', 'unintended', 'uninvited', 'union', 'unionsbankrupted', 'unique', 'unit', 'unite', 'uniteblue', 'united', 'universal', 'universally', 'universe', 'university', 'unk', 'unkept', 'unknown', 'unleashes', 'unless', 'unlike', 'unlimited', 'unlocking', 'unloyal', 'unn', 'unnatural', 'unnecessary', 'unnm233mfq', 'uno', 'unofficial', 'unpredictable', 'unprotected', 'unprovoked', 'unpunished', 'unqualified', 'unread', 'unreal', 'unrequited', 'unresolved', 'unrespectable', 'unselfish', 'unsolved', 'unsuccessful', 'unsuspecting', 'unt', 'untalented', 'until', 'unto', 'untrue', 'ununnnn', 'unveil', 'unwashed', 'unzip', 'uo', 'uoeno', 'uon', 'uou', 'up', 'upbitch', 'update', 'upenn', 'upgrade', 'uphold', 'upk', 'upload', 'upmost', 'upon', 'upp', 'upper', 'uppercut', 'uppity', 'upright', 'ups', 'upsaught', 'upset', 'upsher', 'upside', 'upstairs', 'upstate', 'uptight', 'upton', 'upwards', 'ur', 'urge', 'urges', 'urie', 'urs', 'urself', 'us', 'usa', 'usc', 'usda', 'use', 'used', 'useful', 'useless', 'usher', 'usin', 'using', 'usps', 'usta', 'usual', 'usually', 'ut', 'utah', 'utampa', 'utes', 'uti', 'utica', 'utilties', 'utterly', 'utw', 'uu', 'uughh', 'uuuu', 'uuuuhhuuhhhhhp', 'uuuup', 'uv', 'uvwkhpeswh', 'uw', 'uwi', 'uxszexguju', 'uza', 'uzi', 'vacarro', 'vacation', 'vacations', 'vag', 'vagfax', 'vagina', 'vaginal', 'vain', 'val', 'valentine', 'valentines', 'valerie', 'validated', 'validation', 'valley', 'valuable', 'value', 'valverde', 'vampires', 'van', 'vandalize', 'vanilla', 'vanillaaaaa', 'vanish', 'vap', 'vaporize', 'variety', 'vast', 'vastly', 'vb', 'vccamelraces', 'vdawg', 'vday', 'vddie', 've', 'vector', 'vega', 'vegas', 'vegasqueens', 'vegasshowgirls', 'vegeta', 'vegetable', 'vegetables', 'vehicle', 'velcor', 'velcro', 'velvet', 'vengeful', 'venn', 'venom', 'venti', 'ventura', 'venue', 'ver', 'verb', 'verde', 'verdedigen', 'verdict', 'verizon', 'vermontgirlsbelike', 'vermontproblems', 'versa', 'versace', 'verse', 'verses', 'version', 'versions', 'vertonen', 'verwacht', 'very', 'vestal', 'vet', 'veteran', 'vets', 'veuve', 'vey', 'vez', 'vhgexgipas', 'vhia', 'vi', 'via', 'viacom', 'viagra', 'vibe', 'vibing', 'vic', 'vice', 'vick', 'vics', 'victim', 'victimize', 'victor', 'victoria', 'victorias', 'victory', 'vid', 'video', 'vienna', 'vietnam', 'view', 'views', 'viis', 'vile', 'villanueva', 'vin', 'vincent', 'vindictive', 'vine', 'vinegar', 'vineyard', 'vinger', 'vinitahegwood', 'vintage', 'vinyl', 'viola', 'violation', 'violence', 'violent', 'violet', 'vip', 'vipperloid', 'virgin', 'virginia', 'virginity', 'virgo', 'viri', 'virtually', 'virus', 'vision', 'visit', 'visits', 'visually', 'vital', 'vitamin', 'vitaminsemen', 'vitriol', 'viva', 'vivamexico', 'vivian', 'vkdkoeklxz', 'vkyjgriiff', 'vlees', 'vmas', 'vnds', 'vocab', 'vocabulary', 'vocal', 'vodka', 'voem', 'vogue', 'voguet', 'voice', 'volcano', 'volkskrant', 'volleyball', 'volnation', 'voltorb', 'volume', 'volunteer', 'vomit', 'von', 'vonnie', 'vonte', 'voor', 'vortex', 'vote', 'vote5sos', 'voter', 'votewendydavis', 'voting', 'votingmatters', 'vouch', 'vp', 'vraag', 'vragen', 'vrouwen', 'vrsl', 'vs', 'vulgar', 'vwjwlghrgo', 'vyvanse', 'wack', 'wacker', 'wackest', 'wacko', 'wackson', 'wad', 'waddup', 'wade', 'wadi', 'wae', 'waffle', 'wage', 'wagon', 'wagwuan', 'wah', 'wahine', 'waise', 'waist', 'waisted', 'wait', 'waiter', 'waitin', 'waiting', 'waitress', 'waits', 'waive', 'waka', 'wake', 'wal', 'wale', 'walgreen', 'walk', 'walker', 'walkin', 'walking', 'walkoff', 'wall', 'wallah', 'wallet', 'wallofthewasatch', 'walmart', 'wams', 'wan', 'wana', 'wander', 'wann', 'wannabe', 'wannnnaaa', 'want', 'wanta', 'wanted', 'wantin', 'wants', 'wantttt', 'war', 'ward', 'wardrobe', 'ware', 'warehouse', 'warfare', 'warm', 'warn', 'warning', 'warp', 'warrior', 'warsaw', 'warthog', 'was', 'wasa', 'wash', 'washed', 'washer', 'washin', 'washington', 'washingtondc', 'washpost', 'washy', 'wasn', 'wasnt', 'wasp', 'wassuo', 'wassup', 'wassupbyebitch', 'waste', 'wastedenergy', 'wasteoftime', 'wasting', 'wat', 'watch', 'watched', 'watcher', 'watchin', 'watching', 'watchlikeaking', 'watchu', 'water', 'watermelon', 'waterwalker', 'wats', 'watt', 'wave', 'waverly', 'wavesliding', 'waving', 'wax', 'waxman', 'waxy', 'way', 'wayans', 'wayne', 'wayward', 'wayyyy', 'wayyyyy', 'wbu', 'wc', 'wce', 'wcvb', 'wcvbpoli', 'wcw', 'wdmc', 'wdywt', 'we', 'wea', 'weaaak', 'weak', 'weaken', 'weakkkkkkkk', 'wealth', 'weapon', 'wear', 'wearable', 'wearerepublicnotregime', 'weari', 'wearin', 'wearing', 'wears', 'weather', 'weave', 'weavetrip', 'web', 'webad', 'webb', 'webber', 'webbes', 'webo', 'website', 'wec', 'wed', 'wedaopps', 'wedding', 'wedemgirlz', 'wedge', 'wedlock', 'wednesday', 'wee', 'weed', 'weeden', 'weeekend', 'week', 'weekend', 'weeknd', 'weeks', 'weenie', 'weenis', 'weep', 'weepy', 'weer', 'weet', 'weezy', 'wefo', 'weibo', 'weight', 'weiner', 'weird', 'weirdo', 'weirdos', 'weirdtweets', 'weis', 'weknow', 'welbeck', 'welcome', 'welcomed', 'welcum', 'welding', 'welfare', 'well', 'wells', 'welp', 'wembley', 'wen', 'wench', 'wendy', 'wenger', 'went', 'wepretty', 'werd', 'were', 'werent', 'weres', 'werewolf', 'wereyouraisedinabarn', 'werks', 'werkt', 'wes', 'wesgod', 'west', 'westbrook', 'western', 'westside', 'westvirginia', 'wet', 'wetback', 'wetbacks', 'wethelastonesleft', 'wetin', 'wetpussy', 'wetter', 'weve', 'wey', 'wge', 'wh', 'wha', 'whaaat', 'whack', 'whaddup', 'whale', 'whamm', 'whammers', 'what', 'whataburger', 'whatcha', 'whatchu', 'whatever', 'whats', 'whatsoever', 'whatta', 'whatttt', 'whatup', 'whatwashedoing', 'whatwouldyouchangeaboutyourpast', 'whe', 'wheat', 'wheel', 'wheelin', 'when', 'whenever', 'whens', 'where', 'wherearetheynow', 'wheres', 'wheresshitgoing', 'wheretheyatdo', 'wheretheyatdoe', 'whet', 'whether', 'whi', 'which', 'whichever', 'whigger', 'whiggers', 'while', 'whilin', 'whilst', 'whine', 'whiney', 'whineytweet', 'whining', 'whiny', 'whip', 'whipers', 'whipped', 'whippin', 'whipping', 'whipppppppen', 'whisker', 'whiskey', 'whisper', 'whispers', 'whistle', 'whit', 'white', 'whiteculture', 'whitehouse', 'whiteknight', 'whiteprivilege', 'whites', 'whitetrash', 'whitey', 'whitman', 'whitney', 'whitw', 'who', 'whoa', 'whoever', 'whohurtyou', 'whole', 'wholesale', 'wholesome', 'whom', 'whomp', 'whoo', 'whoooo', 'whooooo', 'whoop', 'whooped', 'whopper', 'whoppin', 'whops', 'whore', 'whos', 'whose', 'whse', 'wht', 'whut', 'why', 'whydidigoogle', 'whyihateinstagram', 'whynot', 'whypreach', 'whyyyyy', 'wi', 'wib', 'wibbler', 'wic', 'wicha', 'wick', 'wicked', 'wid', 'widd', 'wide', 'widow', 'wiener', 'wierd', 'wierdness', 'wif', 'wife', 'wifebeater', 'wifed', 'wifely', 'wifey', 'wifeys', 'wifi', 'wifing', 'wifingsquad2014', 'wig', 'wigga', 'wiggas', 'wigger', 'wiggers', 'wii', 'wild', 'wildcards', 'wildcat', 'wilde', 'wilding', 'wildlife', 'wildnigga', 'wilkos', 'will', 'williams', 'willian', 'willing', 'wills', 'willy', 'wilma', 'wilson', 'wimmie', 'wimp', 'win', 'wind', 'windoowww', 'window', 'windshield', 'windsor', 'windy', 'wine', 'wineprobz', 'wing', 'wingstop', 'wink', 'winking', 'winks', 'winn', 'winner', 'winnin', 'winning', 'winnnnnnnnn', 'wins', 'winston', 'winter', 'wintersmith', 'wintertime', 'wipe', 'wiper', 'wire', 'wisconsin', 'wise', 'wisebrethrenwords', 'wisewordsfromwebb', 'wish', 'wishes', 'wishfulthinking', 'wishin', 'wishy', 'wishywashy', 'wit', 'witch', 'witcha', 'witcho', 'witchu', 'witchuuuu', 'with', 'witha', 'withcum', 'within', 'withou', 'without', 'witness', 'witout', 'witta', 'witter', 'wiunion', 'wives', 'wiz', 'wizard', 'wizdom', 'wkczwwg6', 'wld', 'wmhs', 'wnba', 'wnna', 'wo', 'woah', 'woahh', 'wobble', 'wobn', 'woe', 'wohs', 'woke', 'wolf', 'woman', 'womans', 'women', 'wompers', 'won', 'wond', 'wonder', 'wonderful', 'wongs', 'wont', 'wontgetme', 'woo', 'wood', 'wooden', 'woodlands', 'woody', 'woof', 'wooooow', 'woot', 'woozy', 'wop', 'wor', 'word', 'words', 'wordsofadvice', 'work', 'worker', 'workflow', 'workforce', 'workin', 'working', 'workout', 'workproblems', 'workshop', 'world', 'worldcup', 'worldcup2014', 'worldseries', 'worldseriesgame3', 'worldseriesgame6', 'worldwidee', 'worm', 'worried', 'worry', 'worryin', 'worse', 'worship', 'worst', 'worstpeanutsspecialever', 'worth', 'worthless', 'would', 'woulda', 'wouldmakealottasense', 'wouldnt', 'wouldve', 'wound', 'wow', 'woyke', 'wr', 'wrap', 'wrath', 'wreck', 'wrecked', 'wrench', 'wrenching', 'wrestle', 'wrestler', 'wrestling', 'wrist', 'write', 'writer', 'writes', 'writetip', 'writing', 'wrong', 'ws', 'wu', 'wud', 'wukong', 'wulf', 'wun', 'wunna', 'wus', 'wussup', 'wut', 'wuw', 'wuwbyu2oyj', 'wuz', 'wuzzy', 'wv', 'wvdlscodvw', 'wvu', 'xans', 'xavi', 'xavier', 'xbone', 'xbox', 'xcx', 'xdcuusba2f', 'xddlyr1apq', 'xdox4k8yqo', 'xii', 'xiqirbq7mp', 'xmas', 'xmen', 'xp', 'xtra', 'yacht', 'yada', 'yaga', 'yah', 'yahshua', 'yahweh', 'yaknow', 'yal', 'yall', 'yamming', 'yandy', 'yangervis', 'yank', 'yankee', 'yankeeography', 'yankees', 'yankeestadium', 'yanks', 'yaoooooooo', 'yap', 'yappin', 'yard', 'yardie', 'yas', 'yaself', 'yass', 'yasss', 'yasssss', 'yassssss', 'yassssssssss', 'yassssssssssssss', 'yaw', 'yawl', 'yay', 'yayyyyy', 'yazz', 'ycg', 'yds', 'ye', 'yea', 'yeaa', 'yeaaaaahhhh', 'yeah', 'yeahhhhhh', 'yeahhhhhhh', 'year', 'yearbook', 'years', 'yeast', 'yeayoureadindis', 'yee', 'yeen', 'yeet', 'yeeyee', 'yeezy', 'yefrlbvdvb', 'yell', 'yellcomplain', 'yellin', 'yelling', 'yelln', 'yellow', 'yep', 'yer', 'yes', 'yesallmen', 'yesss', 'yessss', 'yessssss', 'yesterday', 'yeswedid', 'yet', 'yezidi', 'yflfubj2po', 'yflu32xh', 'yfrog', 'yhe', 'yll', 'ym', 'ymcmb', 'yn6guyouq6', 'yo', 'yob', 'yoda', 'yoga', 'yoh', 'yok', 'yokel', 'yokocho', 'yolk', 'yolo', 'yoo', 'yooo', 'yoooo', 'yooooo', 'yoooooouuuu', 'yoouuuuu', 'york', 'yorkyankees', 'yoself', 'yoshii', 'yost', 'yostknowsmost', 'you', 'youll', 'youmynigga', 'youn', 'young', 'youngin', 'youngjefe', 'younnnnng', 'youoksis', 'youpeople', 'your', 'youre', 'yours', 'yoursel', 'yourself', 'yourselfyour', 'yous', 'youth', 'youtu', 'youtube', 'youu', 'youuu', 'youuuu', 'youuuuu', 'youuuuuuuu', 'youve', 'youz', 'youzza', 'yowza', 'ypi52s4dtc', 'yr', 'yrds', 'yrn', 'yrs', 'ysrah', 'yt', 'yu', 'yuck', 'yuh', 'yuhh', 'yuhhhh', 'yung', 'yungin', 'yup', 'yupp', 'yuppie', 'yusa', 'zealous', 'zebra', 'zee', 'zeeti', 'zeitgeist', 'zelda', 'zelfde', 'zeller', 'zero', 'zertec', 'zetzu', 'zich', 'zim', 'zima', 'zimmerman', 'zimmy', 'zing', 'zion', 'zionist', 'zip', 'zipperheads', 'zj1mk6w7ef', 'zjdlwiajeo', 'zlatan', 'zo', 'zodiac', 'zoe', 'zog', 'zolang', 'zombie', 'zone', 'zoo', 'zookeeper', 'zoom']\n"
     ]
    },
    {
     "data": {
      "text/plain": [
       "(11151, 11202)"
      ]
     },
     "execution_count": 11,
     "metadata": {},
     "output_type": "execute_result"
    }
   ],
   "source": [
    "tfidf=TfidfVectorizer(stop_words=stopword1)\n",
    "tfidf_train=tfidf.fit_transform(X_train)\n",
    "tfidf_test=tfidf.transform(X_test)\n",
    "tfidf_all=tfidf.fit_transform(X)\n",
    "tfidf_re=tfidf.transform(xtest)\n",
    "print(tfidf.get_feature_names())\n",
    "tfidf_train.shape"
   ]
  },
  {
   "cell_type": "markdown",
   "metadata": {},
   "source": [
    "## 預測訓練模型 \n",
    "### LogisticRegression、BernoulliNB(1)、RandomForestClassifier(△)、GaussianNB (x)、MultinomialNB (x)、KNeighborsClassifier (x)、MLPClassifier(2)、Bagging(3)、AdaBoostClassifier(X)、MLPRegressor(4)、XGBoost(5)\n",
    "### 括弧內x表示覺得無明顯幫助故不採用、△表示不確定、數字表示採用"
   ]
  },
  {
   "cell_type": "markdown",
   "metadata": {},
   "source": [
    "# LogisticRegression"
   ]
  },
  {
   "cell_type": "code",
   "execution_count": 12,
   "metadata": {},
   "outputs": [
    {
     "ename": "NameError",
     "evalue": "name 'select_train' is not defined",
     "output_type": "error",
     "traceback": [
      "\u001b[1;31m---------------------------------------------------------------------------\u001b[0m",
      "\u001b[1;31mNameError\u001b[0m                                 Traceback (most recent call last)",
      "\u001b[1;32m<ipython-input-12-6fd76cd5b56f>\u001b[0m in \u001b[0;36m<module>\u001b[1;34m\u001b[0m\n\u001b[0;32m      6\u001b[0m \u001b[1;31m# print(grid.best_params_)\u001b[0m\u001b[1;33m\u001b[0m\u001b[1;33m\u001b[0m\u001b[0m\n\u001b[0;32m      7\u001b[0m \u001b[1;33m\u001b[0m\u001b[0m\n\u001b[1;32m----> 8\u001b[1;33m \u001b[0mgrid\u001b[0m\u001b[1;33m.\u001b[0m\u001b[0mfit\u001b[0m\u001b[1;33m(\u001b[0m\u001b[0mselect_train\u001b[0m\u001b[1;33m,\u001b[0m\u001b[0my_train\u001b[0m\u001b[1;33m)\u001b[0m\u001b[1;33m\u001b[0m\u001b[0m\n\u001b[0m\u001b[0;32m      9\u001b[0m \u001b[0mgrid\u001b[0m\u001b[1;33m.\u001b[0m\u001b[0mpredict\u001b[0m\u001b[1;33m(\u001b[0m\u001b[0mselect_train\u001b[0m\u001b[1;33m)\u001b[0m\u001b[1;33m\u001b[0m\u001b[0m\n\u001b[0;32m     10\u001b[0m \u001b[0mprint\u001b[0m\u001b[1;33m(\u001b[0m\u001b[0mgrid\u001b[0m\u001b[1;33m.\u001b[0m\u001b[0mbest_score_\u001b[0m\u001b[1;33m)\u001b[0m\u001b[1;33m\u001b[0m\u001b[0m\n",
      "\u001b[1;31mNameError\u001b[0m: name 'select_train' is not defined"
     ]
    }
   ],
   "source": [
    "param_grid={'C':[1,2,3,4,5,6,7,8,9]}\n",
    "grid=GridSearchCV(LogisticRegression(penalty='l1',random_state=123,multi_class='multinomial',solver='saga'),param_grid=param_grid,cv=5,verbose=3)\n",
    "# grid.fit(tfidf_train,y_train)\n",
    "# grid.predict(tfidf_train)\n",
    "# print(grid.best_score_)\n",
    "# print(grid.best_params_)\n",
    "\n",
    "grid.fit(select_train,y_train)\n",
    "grid.predict(select_train) \n",
    "print(grid.best_score_)\n",
    "print(grid.best_params_)"
   ]
  },
  {
   "cell_type": "code",
   "execution_count": null,
   "metadata": {},
   "outputs": [],
   "source": [
    "# l=LogisticRegression(penalty='l1',random_state=123,multi_class='multinomial',solver='saga',C=2)\n",
    "# l.fit(tfidf_train,y_train)\n",
    "# s=l.score(tfidf_test,y_test)\n",
    "# s\n",
    "l=LogisticRegression(penalty='l1',random_state=123,multi_class='multinomial',solver='saga',C=9)\n",
    "l.fit(select_train,y_train)\n",
    "s=l.score(select_test,y_test)\n",
    "s"
   ]
  },
  {
   "cell_type": "code",
   "execution_count": null,
   "metadata": {},
   "outputs": [],
   "source": [
    "# l.fit(tfidf_all,y)\n",
    "# pre=l.predict(tfidf_re)\n",
    "# pre[:50]\n",
    "\n",
    "l.fit(select_all,y)\n",
    "pre=l.predict(select_re)\n",
    "pre[:50]"
   ]
  },
  {
   "cell_type": "markdown",
   "metadata": {},
   "source": [
    "# -----------------------------------------------"
   ]
  },
  {
   "cell_type": "code",
   "execution_count": null,
   "metadata": {
    "scrolled": true
   },
   "outputs": [],
   "source": [
    "# 用 LogisticRegression 降維\n",
    "l=LogisticRegression(penalty='l1',random_state=123,multi_class='multinomial',solver='saga',C=10)\n",
    "l.fit(tfidf_train,y_train)\n",
    "coef=l.coef_"
   ]
  },
  {
   "cell_type": "code",
   "execution_count": null,
   "metadata": {},
   "outputs": [],
   "source": [
    "all_=[]\n",
    "for i in range(len(coef[0])):\n",
    "    all_.append(coef[0][i]+coef[1][i]+coef[2][i])\n",
    "for a in range(len(all_)):\n",
    "    if all_[a]==0:\n",
    "        stopword.append(name[a])\n",
    "    else:\n",
    "        continue"
   ]
  },
  {
   "cell_type": "code",
   "execution_count": null,
   "metadata": {},
   "outputs": [],
   "source": [
    "tfidf=TfidfVectorizer(stop_words=stopword)\n",
    "tfidf_train=tfidf.fit_transform(X_train)\n",
    "tfidf_test=tfidf.transform(X_test)\n",
    "tfidf_all=tfidf.fit_transform(X)\n",
    "tfidf_re=tfidf.transform(xtest)\n",
    "tfidf_train.shape\n",
    "# tfidf.get_feature_names()"
   ]
  },
  {
   "cell_type": "code",
   "execution_count": null,
   "metadata": {},
   "outputs": [],
   "source": [
    "# 用select from model (LogisticRegression) 降維\n",
    "select=SelectFromModel(LogisticRegression(penalty='l1',random_state=123,multi_class='multinomial',solver='saga'))\n",
    "select_train=select.fit_transform(tfidf_train,y_train)\n",
    "select_test=select.transform(tfidf_test)\n",
    "print(select_train.shape)\n",
    "select_all=select.fit_transform(tfidf_all,y)\n",
    "select_re=select.transform(tfidf_re)"
   ]
  },
  {
   "cell_type": "markdown",
   "metadata": {},
   "source": [
    "# BernoulliNB(1)"
   ]
  },
  {
   "cell_type": "code",
   "execution_count": null,
   "metadata": {
    "scrolled": true
   },
   "outputs": [],
   "source": [
    "param_grid={'alpha':[0,1,1.5,2,2.5,3]}\n",
    "grid=GridSearchCV(BernoulliNB(),param_grid=param_grid,cv=5,verbose=3)\n",
    "# grid.fit(tfidf_train,y_train)\n",
    "# grid.predict(tfidf_train)\n",
    "# print( grid.best_score_)\n",
    "# print(grid.best_params_)\n",
    "\n",
    "grid.fit(select_train,y_train)\n",
    "grid.predict(select_train)\n",
    "print( grid.best_score_)\n",
    "print(grid.best_params_)"
   ]
  },
  {
   "cell_type": "code",
   "execution_count": null,
   "metadata": {},
   "outputs": [],
   "source": [
    "# b=BernoulliNB(alpha=1)\n",
    "# b.fit(tfidf_train,y_train)\n",
    "# b.score(tfidf_test,y_test)\n",
    "\n",
    "b=BernoulliNB(alpha=0)\n",
    "b.fit(select_train,y_train)\n",
    "p1=b.predict(select_test)\n",
    "b.score(select_test,y_test)"
   ]
  },
  {
   "cell_type": "code",
   "execution_count": null,
   "metadata": {},
   "outputs": [],
   "source": [
    "b.fit(select_all,y)\n",
    "# pre=b.predict(tfidf_re)\n",
    "pre1=b.predict(select_re)"
   ]
  },
  {
   "cell_type": "markdown",
   "metadata": {},
   "source": [
    "# RandomForestClassifier(△)"
   ]
  },
  {
   "cell_type": "code",
   "execution_count": null,
   "metadata": {},
   "outputs": [],
   "source": [
    "# n_estimators=[10,20,30,40,50,60,70,80,90,100,200,300] #最好300\n",
    "# n=[300,350,400,450,500,550,600,650,700] #最好350\n",
    "# feature=['auto','sqrt','log2'] #最好sqrt\n",
    "# split=[0.5,1.0,2,3,4,5] #最好5\n",
    "# split=[5,6,7] #最好7\n",
    "# split=[7,8,9,10] #最好9\n",
    "depth=[90,100,110,120,130,140,150] #最好110\n",
    "# param_grid={'n_estimators':n}\n",
    "param_grid1={'max_depth':depth}\n",
    "# grid=GridSearchCV(RandomForestClassifier(),param_grid=param_grid,cv=5,verbose=3)\n",
    "grid=GridSearchCV(RandomForestClassifier(n_estimators=350,max_features='sqrt',min_samples_split=9),param_grid=param_grid1,cv=5,verbose=3)\n",
    "# grid.fit(tfidf_train,y_train)\n",
    "# grid.predict(tfidf_train)\n",
    "# print( grid.best_score_)\n",
    "# print(grid.best_params_)\n",
    "\n",
    "grid.fit(select_train,y_train)\n",
    "grid.predict(select_train)\n",
    "print( grid.best_score_)\n",
    "print(grid.best_params_)"
   ]
  },
  {
   "cell_type": "code",
   "execution_count": null,
   "metadata": {
    "scrolled": true
   },
   "outputs": [],
   "source": [
    "train_score,val_score=validation_curve(RandomForestClassifier(),select_train,y_train,param_name='n_estimators',\n",
    "                                      param_range=[10,20,30,40,50,60,70,80,90,100,200,300],cv=5)\n",
    "plt.plot(n_estimators,train_score.mean(axis=1),'b',label='Training')\n",
    "plt.plot(n_estimators,val_score.mean(axis=1),'r',label='Validation')\n",
    "plt.legend()"
   ]
  },
  {
   "cell_type": "code",
   "execution_count": null,
   "metadata": {},
   "outputs": [],
   "source": [
    "# random=RandomForestClassifier(n_estimators=350,random_state=123,max_features='auto',max_depth=110)\n",
    "random=RandomForestClassifier(n_estimators=350,random_state=123,max_features='auto',max_depth=130)\n",
    "random.fit(select_train,y_train)\n",
    "s=random.score(select_test,y_test)\n",
    "s"
   ]
  },
  {
   "cell_type": "code",
   "execution_count": null,
   "metadata": {},
   "outputs": [],
   "source": [
    "random.fit(select_all,y)\n",
    "pre=random.predict(select_re)"
   ]
  },
  {
   "cell_type": "markdown",
   "metadata": {},
   "source": [
    "# GaussianNB (x)"
   ]
  },
  {
   "cell_type": "code",
   "execution_count": null,
   "metadata": {},
   "outputs": [],
   "source": [
    "# smooth=[1e-9,1e-10,1e-11] #最好1e-9\n",
    "smooth=[1e-0,1e-1,1e-2,1e-3,1e-4,1e-5,1e-6,1e-7,1e-8,1e-9]\n",
    "param_grid={'var_smoothing':smooth}\n",
    "grid=GridSearchCV(GaussianNB(),param_grid=param_grid,cv=5,verbose=3)\n",
    "grid.fit(tfidf_train.toarray(),y_train)\n",
    "grid.predict(tfidf_train.toarray())\n",
    "print(grid.best_score_)\n",
    "print(grid.best_params_)\n",
    "\n",
    "# grid.fit(select_train.toarray(),y_train)\n",
    "# grid.predict(select_train.toarray())\n",
    "# print(grid.best_score_)\n",
    "# print(grid.best_params_)"
   ]
  },
  {
   "cell_type": "markdown",
   "metadata": {},
   "source": [
    "# MultinomialNB (x)"
   ]
  },
  {
   "cell_type": "code",
   "execution_count": null,
   "metadata": {},
   "outputs": [],
   "source": [
    "alpha=[0.5,1.0,2,3,4,5]\n",
    "param_grid={'alpha':alpha}\n",
    "grid=GridSearchCV(MultinomialNB(),param_grid=param_grid,cv=5,verbose=3)\n",
    "grid.fit(tfidf_train,y_train)\n",
    "grid.predict(tfidf_train)\n",
    "print(grid.best_score_)\n",
    "print(grid.best_params_)\n",
    "\n",
    "# grid.fit(select_train.toarray(),y_train)\n",
    "# grid.predict(select_train.toarray())\n",
    "# print(grid.best_score_)\n",
    "# print(grid.best_params_)"
   ]
  },
  {
   "cell_type": "markdown",
   "metadata": {},
   "source": [
    "# KNeighborsClassifier (x)"
   ]
  },
  {
   "cell_type": "code",
   "execution_count": null,
   "metadata": {
    "scrolled": true
   },
   "outputs": [],
   "source": [
    "n=[20,30,40,50,60]\n",
    "param_grid={'leaf_size':n}\n",
    "grid=GridSearchCV(KNeighborsClassifier(n_neighbors=6,algorithm='kd_tree'),param_grid=param_grid,cv=3,verbose=3)\n",
    "# grid.fit(tfidf_train,y_train)\n",
    "# grid.predict(tfidf_train)\n",
    "# print(grid.best_score_)\n",
    "# print(grid.best_params_)\n",
    "\n",
    "grid.fit(select_train,y_train)\n",
    "grid.predict(select_train)\n",
    "print(grid.best_score_)\n",
    "print(grid.best_params_)"
   ]
  },
  {
   "cell_type": "code",
   "execution_count": null,
   "metadata": {},
   "outputs": [],
   "source": [
    "k=KNeighborsClassifier(n_neighbors=6,algorithm='kd_tree',leaf_size=20)\n",
    "k.fit(select_train,y_train)\n",
    "s=k.score(select_test,y_test)\n",
    "s"
   ]
  },
  {
   "cell_type": "markdown",
   "metadata": {},
   "source": [
    "# MLPClassifier(2)"
   ]
  },
  {
   "cell_type": "code",
   "execution_count": null,
   "metadata": {},
   "outputs": [],
   "source": [
    "a=['identity', 'logistic', 'tanh', 'relu']\n",
    "solver=['lbfgs', 'sgd', 'adam']\n",
    "param_grid={'solver':solver}\n",
    "grid=GridSearchCV(MLPClassifier(random_state=123,activation='logistic'),param_grid=param_grid,cv=3,verbose=3)\n",
    "# grid.fit(tfidf_train,y_train)\n",
    "# grid.predict(tfidf_train)\n",
    "# print(grid.best_score_)\n",
    "# print(grid.best_params_)\n",
    "\n",
    "grid.fit(select_train,y_train)\n",
    "grid.predict(select_train)\n",
    "print(grid.best_score_)\n",
    "print(grid.best_params_)"
   ]
  },
  {
   "cell_type": "code",
   "execution_count": null,
   "metadata": {},
   "outputs": [],
   "source": [
    "m=MLPClassifier(random_state=123,activation='logistic')\n",
    "m.fit(select_train,y_train)\n",
    "p2=m.predict(select_test)\n",
    "s=m.score(select_test,y_test)\n",
    "s"
   ]
  },
  {
   "cell_type": "code",
   "execution_count": null,
   "metadata": {},
   "outputs": [],
   "source": [
    "m.fit(select_all,y)\n",
    "pre2=m.predict(select_re)"
   ]
  },
  {
   "cell_type": "markdown",
   "metadata": {},
   "source": [
    "# Bagging(3)"
   ]
  },
  {
   "cell_type": "code",
   "execution_count": null,
   "metadata": {},
   "outputs": [],
   "source": [
    "n_e=[8,9,10]\n",
    "max_sample=[0.5,1.0,2,3,4,5]\n",
    "max_features=[0.5,1.0,2,3,4,5]\n",
    "param_grid={'max_features':max_features}\n",
    "grid=GridSearchCV(BaggingClassifier(random_state=123,n_estimators=9),param_grid=param_grid,cv=3,verbose=3)\n",
    "# grid.fit(tfidf_train,y_train)\n",
    "# grid.predict(tfidf_train)\n",
    "# print(grid.best_score_)\n",
    "# print(grid.best_params_)\n",
    "\n",
    "grid.fit(select_train,y_train)\n",
    "grid.predict(select_train)\n",
    "print(grid.best_score_)\n",
    "print(grid.best_params_)"
   ]
  },
  {
   "cell_type": "code",
   "execution_count": null,
   "metadata": {},
   "outputs": [],
   "source": [
    "b=BaggingClassifier(n_estimators=9,random_state=123,max_samples=0.5)\n",
    "b.fit(select_train,y_train)\n",
    "p3=b.predict(select_test)\n",
    "s=b.score(select_test,y_test)\n",
    "s"
   ]
  },
  {
   "cell_type": "code",
   "execution_count": null,
   "metadata": {},
   "outputs": [],
   "source": [
    "b.fit(select_all,y)\n",
    "pre3=b.predict(select_re)"
   ]
  },
  {
   "cell_type": "markdown",
   "metadata": {},
   "source": [
    "# AdaBoostClassifier(X)"
   ]
  },
  {
   "cell_type": "code",
   "execution_count": null,
   "metadata": {},
   "outputs": [],
   "source": [
    "n_e=[25,50,100,150,200]\n",
    "rate=[0.5,1,1.5,2,2.5,3]\n",
    "a=['SAMME','SAMME.R']\n",
    "param_grid={'algorithm':a}\n",
    "grid=GridSearchCV(AdaBoostClassifier(random_state=123),param_grid=param_grid,cv=3,verbose=3)\n",
    "# grid.fit(tfidf_train,y_train)\n",
    "# grid.predict(tfidf_train)\n",
    "# print(grid.best_score_)\n",
    "# print(grid.best_params_)\n",
    "\n",
    "grid.fit(select_train,y_train)\n",
    "grid.predict(select_train)\n",
    "print(grid.best_score_)\n",
    "print(grid.best_params_)"
   ]
  },
  {
   "cell_type": "markdown",
   "metadata": {},
   "source": [
    "# MLPRegressor(4)"
   ]
  },
  {
   "cell_type": "code",
   "execution_count": null,
   "metadata": {},
   "outputs": [],
   "source": [
    "n_e=[25,50,100,150,200]\n",
    "rate=[0.5,1,1.5,2,2.5,3]\n",
    "a=['SAMME','SAMME.R']\n",
    "param_grid={'algorithm':a}\n",
    "grid=GridSearchCV(AdaBoostClassifier(random_state=123),param_grid=param_grid,cv=3,verbose=3)\n",
    "# grid.fit(tfidf_train,y_train)\n",
    "# grid.predict(tfidf_train)\n",
    "# print(grid.best_score_)\n",
    "# print(grid.best_params_)\n",
    "\n",
    "grid.fit(select_train,y_train)\n",
    "grid.predict(select_train)\n",
    "print(grid.best_score_)\n",
    "print(grid.best_params_)"
   ]
  },
  {
   "cell_type": "code",
   "execution_count": null,
   "metadata": {},
   "outputs": [],
   "source": [
    "g=AdaBoostClassifier(random_state=123)\n",
    "g.fit(select_train,y_train)\n",
    "p4=g.predict(select_test)\n",
    "s=g.score(select_test,y_test)\n",
    "s"
   ]
  },
  {
   "cell_type": "code",
   "execution_count": null,
   "metadata": {},
   "outputs": [],
   "source": [
    "g.fit(select_all,y)\n",
    "pre4=g.predict(select_re)"
   ]
  },
  {
   "cell_type": "markdown",
   "metadata": {},
   "source": [
    "# XGBoost(5)"
   ]
  },
  {
   "cell_type": "code",
   "execution_count": null,
   "metadata": {},
   "outputs": [],
   "source": [
    "from xgboost.sklearn import XGBClassifier\n",
    "l=[0.3,0.5,1,1.5,2]\n",
    "min_child_weight=[0.5,1]\n",
    "max_depth=[4,5,6,7,8]\n",
    "gamma=[0,0.1,0.2,0.3,0.4,0.5] #最好0.3\n",
    "reg_lambda=[1,1.5,2,2.5,3]\n",
    "n_estimators=[50,100,150,200,250,300] #最好200\n",
    "seed=[500,1000,1500,2000,2500,3000]\n",
    "param_grid={'seed':seed}\n",
    "grid=GridSearchCV(XGBClassifier(random_state=123,learning_rate=0.3,gamma=0.3,objective= 'multi:softmax',num_class=3,reg_lambda=1.5,n_estimators=200,seed=500),param_grid=param_grid,cv=3,verbose=3)\n",
    "# grid.fit(tfidf_train,y_train)\n",
    "# grid.predict(tfidf_train)\n",
    "# print(grid.best_score_)\n",
    "# print(grid.best_params_)\n",
    "\n",
    "grid.fit(select_train,y_train)\n",
    "grid.predict(select_train)\n",
    "print(grid.best_score_)\n",
    "print(grid.best_params_)"
   ]
  },
  {
   "cell_type": "code",
   "execution_count": null,
   "metadata": {},
   "outputs": [],
   "source": [
    "from xgboost.sklearn import XGBClassifier\n",
    "xgb=XGBClassifier(random_state=123,learning_rate=0.3,gamma=0.3,objective= 'multi:softmax',num_class=3,reg_lamb=1.5,n_estimators=200,seed=500)\n",
    "xgb.fit(select_train,y_train)\n",
    "p5=xgb.predict(select_test)\n",
    "s=xgb.score(select_test,y_test)\n",
    "s"
   ]
  },
  {
   "cell_type": "code",
   "execution_count": null,
   "metadata": {},
   "outputs": [],
   "source": [
    "xgb.fit(select_all,y)\n",
    "pre5=xgb.predict(select_re)"
   ]
  },
  {
   "cell_type": "markdown",
   "metadata": {},
   "source": [
    "## 預測結果分析"
   ]
  },
  {
   "cell_type": "markdown",
   "metadata": {},
   "source": [
    "# 多重"
   ]
  },
  {
   "cell_type": "code",
   "execution_count": null,
   "metadata": {},
   "outputs": [],
   "source": [
    "#train\n",
    "pre_=[]\n",
    "for i in range(len(p1)):\n",
    "    _all_=[]\n",
    "    _all_.append(p1[i])# 要\n",
    "    _all_.append(p2[i])# 要\n",
    "    _all_.append(p3[i])\n",
    "    _all_.append(p4[i])# 要\n",
    "#     _all_.append(p5[i])\n",
    "    zero=_all_.count(0)\n",
    "    one=_all_.count(1)\n",
    "    two=_all_.count(2)\n",
    "    m=max(zero,one,two)\n",
    "    if m==zero:\n",
    "        pre_.append(0)\n",
    "    elif m==one:\n",
    "        pre_.append(1)\n",
    "    elif m==two:\n",
    "        pre_.append(2)\n",
    "print(y_test.tolist()[:200])\n",
    "print(pre_[:200])"
   ]
  },
  {
   "cell_type": "code",
   "execution_count": null,
   "metadata": {},
   "outputs": [],
   "source": [
    "pre=[]\n",
    "for i in range(len(pre1)):\n",
    "    _all=[]\n",
    "    _all.append(pre1[i])\n",
    "    _all.append(pre2[i])\n",
    "#     _all.append(pre3[i])\n",
    "    _all.append(pre4[i])\n",
    "#     _all.append(pre5[i])\n",
    "    zero=_all.count(0)\n",
    "    one=_all.count(1)\n",
    "    two=_all.count(2)\n",
    "    m=max(zero,one,two)\n",
    "    if m==zero:\n",
    "        pre.append(0)\n",
    "    elif m==one:\n",
    "        pre.append(1)\n",
    "    elif m==two:\n",
    "        pre.append(2)"
   ]
  },
  {
   "cell_type": "markdown",
   "metadata": {},
   "source": [
    "# 輸出結果"
   ]
  },
  {
   "cell_type": "code",
   "execution_count": null,
   "metadata": {},
   "outputs": [],
   "source": [
    "df_upload=pd.read_csv('sample_upload.csv')\n",
    "df_upload['class']=pre\n",
    "df_upload.to_csv('upload.csv',columns=['id','class'],index=0)"
   ]
  },
  {
   "cell_type": "markdown",
   "metadata": {},
   "source": [
    "## 心得\n",
    "### 趙珮妤\n",
    "### 李瑞庭\n",
    "### 劉馨蔓"
   ]
  }
 ],
 "metadata": {
  "kernelspec": {
   "display_name": "Python 3",
   "language": "python",
   "name": "python3"
  },
  "language_info": {
   "codemirror_mode": {
    "name": "ipython",
    "version": 3
   },
   "file_extension": ".py",
   "mimetype": "text/x-python",
   "name": "python",
   "nbconvert_exporter": "python",
   "pygments_lexer": "ipython3",
   "version": "3.7.3"
  },
  "toc": {
   "base_numbering": 1,
   "nav_menu": {},
   "number_sections": true,
   "sideBar": true,
   "skip_h1_title": false,
   "title_cell": "Table of Contents",
   "title_sidebar": "Contents",
   "toc_cell": false,
   "toc_position": {
    "height": "calc(100% - 180px)",
    "left": "10px",
    "top": "150px",
    "width": "200.355px"
   },
   "toc_section_display": true,
   "toc_window_display": true
  }
 },
 "nbformat": 4,
 "nbformat_minor": 2
}
